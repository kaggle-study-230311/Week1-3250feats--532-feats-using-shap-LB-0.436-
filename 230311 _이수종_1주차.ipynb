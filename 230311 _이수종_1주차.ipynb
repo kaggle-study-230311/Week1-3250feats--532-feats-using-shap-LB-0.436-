{
  "nbformat": 4,
  "nbformat_minor": 0,
  "metadata": {
    "colab": {
      "provenance": [],
      "collapsed_sections": [
        "VD8gUZRusgfM",
        "bTdUhaZ-tTeg",
        "9tH813Ry0hGu",
        "eJj3R79Z3gT4",
        "dGlaP_C-3n5R",
        "cr37UW-24AYM"
      ]
    },
    "kernelspec": {
      "name": "python3",
      "display_name": "Python 3"
    },
    "language_info": {
      "name": "python"
    },
    "gpuClass": "standard"
  },
  "cells": [
    {
      "cell_type": "code",
      "source": [
        "! pip install shap\n",
        "! pip install featuretools"
      ],
      "metadata": {
        "colab": {
          "base_uri": "https://localhost:8080/",
          "height": 1000
        },
        "id": "3cec6VitmC2z",
        "outputId": "83d9c49b-ccd4-4e7c-e88f-159060153434"
      },
      "execution_count": 2,
      "outputs": [
        {
          "output_type": "stream",
          "name": "stdout",
          "text": [
            "Looking in indexes: https://pypi.org/simple, https://us-python.pkg.dev/colab-wheels/public/simple/\n",
            "Collecting shap\n",
            "  Downloading shap-0.41.0-cp39-cp39-manylinux_2_12_x86_64.manylinux2010_x86_64.whl (572 kB)\n",
            "\u001b[2K     \u001b[90m━━━━━━━━━━━━━━━━━━━━━━━━━━━━━━━━━━━━━━━\u001b[0m \u001b[32m572.4/572.4 KB\u001b[0m \u001b[31m7.5 MB/s\u001b[0m eta \u001b[36m0:00:00\u001b[0m\n",
            "\u001b[?25hRequirement already satisfied: pandas in /usr/local/lib/python3.9/dist-packages (from shap) (1.3.5)\n",
            "Requirement already satisfied: numpy in /usr/local/lib/python3.9/dist-packages (from shap) (1.22.4)\n",
            "Requirement already satisfied: scipy in /usr/local/lib/python3.9/dist-packages (from shap) (1.10.1)\n",
            "Requirement already satisfied: numba in /usr/local/lib/python3.9/dist-packages (from shap) (0.56.4)\n",
            "Requirement already satisfied: packaging>20.9 in /usr/local/lib/python3.9/dist-packages (from shap) (23.0)\n",
            "Collecting slicer==0.0.7\n",
            "  Downloading slicer-0.0.7-py3-none-any.whl (14 kB)\n",
            "Requirement already satisfied: cloudpickle in /usr/local/lib/python3.9/dist-packages (from shap) (2.2.1)\n",
            "Requirement already satisfied: tqdm>4.25.0 in /usr/local/lib/python3.9/dist-packages (from shap) (4.65.0)\n",
            "Requirement already satisfied: scikit-learn in /usr/local/lib/python3.9/dist-packages (from shap) (1.2.1)\n",
            "Requirement already satisfied: setuptools in /usr/local/lib/python3.9/dist-packages (from numba->shap) (57.4.0)\n",
            "Requirement already satisfied: llvmlite<0.40,>=0.39.0dev0 in /usr/local/lib/python3.9/dist-packages (from numba->shap) (0.39.1)\n",
            "Requirement already satisfied: python-dateutil>=2.7.3 in /usr/local/lib/python3.9/dist-packages (from pandas->shap) (2.8.2)\n",
            "Requirement already satisfied: pytz>=2017.3 in /usr/local/lib/python3.9/dist-packages (from pandas->shap) (2022.7.1)\n",
            "Requirement already satisfied: threadpoolctl>=2.0.0 in /usr/local/lib/python3.9/dist-packages (from scikit-learn->shap) (3.1.0)\n",
            "Requirement already satisfied: joblib>=1.1.1 in /usr/local/lib/python3.9/dist-packages (from scikit-learn->shap) (1.2.0)\n",
            "Requirement already satisfied: six>=1.5 in /usr/local/lib/python3.9/dist-packages (from python-dateutil>=2.7.3->pandas->shap) (1.15.0)\n",
            "Installing collected packages: slicer, shap\n",
            "Successfully installed shap-0.41.0 slicer-0.0.7\n",
            "Looking in indexes: https://pypi.org/simple, https://us-python.pkg.dev/colab-wheels/public/simple/\n",
            "Collecting featuretools\n",
            "  Downloading featuretools-1.23.0-py3-none-any.whl (555 kB)\n",
            "\u001b[2K     \u001b[90m━━━━━━━━━━━━━━━━━━━━━━━━━━━━━━━━━━━━━━━\u001b[0m \u001b[32m555.7/555.7 KB\u001b[0m \u001b[31m9.3 MB/s\u001b[0m eta \u001b[36m0:00:00\u001b[0m\n",
            "\u001b[?25hRequirement already satisfied: holidays>=0.13 in /usr/local/lib/python3.9/dist-packages (from featuretools) (0.21)\n",
            "Requirement already satisfied: packaging>=20.0 in /usr/local/lib/python3.9/dist-packages (from featuretools) (23.0)\n",
            "Collecting psutil>=5.6.6\n",
            "  Downloading psutil-5.9.4-cp36-abi3-manylinux_2_12_x86_64.manylinux2010_x86_64.manylinux_2_17_x86_64.manylinux2014_x86_64.whl (280 kB)\n",
            "\u001b[2K     \u001b[90m━━━━━━━━━━━━━━━━━━━━━━━━━━━━━━━━━━━━━━\u001b[0m \u001b[32m280.2/280.2 KB\u001b[0m \u001b[31m28.1 MB/s\u001b[0m eta \u001b[36m0:00:00\u001b[0m\n",
            "\u001b[?25hRequirement already satisfied: scipy>=1.4.0 in /usr/local/lib/python3.9/dist-packages (from featuretools) (1.10.1)\n",
            "Requirement already satisfied: distributed!=2022.10.1,>=2022.2.0 in /usr/local/lib/python3.9/dist-packages (from featuretools) (2022.2.1)\n",
            "Requirement already satisfied: cloudpickle>=1.5.0 in /usr/local/lib/python3.9/dist-packages (from featuretools) (2.2.1)\n",
            "Collecting woodwork[dask]>=0.18.0\n",
            "  Downloading woodwork-0.21.2-py3-none-any.whl (230 kB)\n",
            "\u001b[2K     \u001b[90m━━━━━━━━━━━━━━━━━━━━━━━━━━━━━━━━━━━━━━\u001b[0m \u001b[32m230.7/230.7 KB\u001b[0m \u001b[31m23.7 MB/s\u001b[0m eta \u001b[36m0:00:00\u001b[0m\n",
            "\u001b[?25hRequirement already satisfied: dask[dataframe]!=2022.10.1,>=2022.2.0 in /usr/local/lib/python3.9/dist-packages (from featuretools) (2022.2.1)\n",
            "Requirement already satisfied: numpy>=1.21.0 in /usr/local/lib/python3.9/dist-packages (from featuretools) (1.22.4)\n",
            "Requirement already satisfied: tqdm>=4.32.0 in /usr/local/lib/python3.9/dist-packages (from featuretools) (4.65.0)\n",
            "Collecting pandas>=1.4.0\n",
            "  Downloading pandas-1.5.3-cp39-cp39-manylinux_2_17_x86_64.manylinux2014_x86_64.whl (12.2 MB)\n",
            "\u001b[2K     \u001b[90m━━━━━━━━━━━━━━━━━━━━━━━━━━━━━━━━━━━━━━━━\u001b[0m \u001b[32m12.2/12.2 MB\u001b[0m \u001b[31m37.7 MB/s\u001b[0m eta \u001b[36m0:00:00\u001b[0m\n",
            "\u001b[?25hRequirement already satisfied: partd>=0.3.10 in /usr/local/lib/python3.9/dist-packages (from dask[dataframe]!=2022.10.1,>=2022.2.0->featuretools) (1.3.0)\n",
            "Requirement already satisfied: pyyaml>=5.3.1 in /usr/local/lib/python3.9/dist-packages (from dask[dataframe]!=2022.10.1,>=2022.2.0->featuretools) (6.0)\n",
            "Requirement already satisfied: fsspec>=0.6.0 in /usr/local/lib/python3.9/dist-packages (from dask[dataframe]!=2022.10.1,>=2022.2.0->featuretools) (2023.3.0)\n",
            "Requirement already satisfied: toolz>=0.8.2 in /usr/local/lib/python3.9/dist-packages (from dask[dataframe]!=2022.10.1,>=2022.2.0->featuretools) (0.12.0)\n",
            "Requirement already satisfied: tblib>=1.6.0 in /usr/local/lib/python3.9/dist-packages (from distributed!=2022.10.1,>=2022.2.0->featuretools) (1.7.0)\n",
            "Requirement already satisfied: setuptools in /usr/local/lib/python3.9/dist-packages (from distributed!=2022.10.1,>=2022.2.0->featuretools) (57.4.0)\n",
            "Requirement already satisfied: tornado>=6.0.3 in /usr/local/lib/python3.9/dist-packages (from distributed!=2022.10.1,>=2022.2.0->featuretools) (6.2)\n",
            "Requirement already satisfied: click>=6.6 in /usr/local/lib/python3.9/dist-packages (from distributed!=2022.10.1,>=2022.2.0->featuretools) (8.1.3)\n",
            "Requirement already satisfied: zict>=0.1.3 in /usr/local/lib/python3.9/dist-packages (from distributed!=2022.10.1,>=2022.2.0->featuretools) (2.2.0)\n",
            "Requirement already satisfied: jinja2 in /usr/local/lib/python3.9/dist-packages (from distributed!=2022.10.1,>=2022.2.0->featuretools) (3.1.2)\n",
            "Requirement already satisfied: msgpack>=0.6.0 in /usr/local/lib/python3.9/dist-packages (from distributed!=2022.10.1,>=2022.2.0->featuretools) (1.0.4)\n",
            "Requirement already satisfied: sortedcontainers!=2.0.0,!=2.0.1 in /usr/local/lib/python3.9/dist-packages (from distributed!=2022.10.1,>=2022.2.0->featuretools) (2.4.0)\n",
            "Requirement already satisfied: PyMeeus in /usr/local/lib/python3.9/dist-packages (from holidays>=0.13->featuretools) (0.5.12)\n",
            "Requirement already satisfied: python-dateutil in /usr/local/lib/python3.9/dist-packages (from holidays>=0.13->featuretools) (2.8.2)\n",
            "Requirement already satisfied: hijri-converter in /usr/local/lib/python3.9/dist-packages (from holidays>=0.13->featuretools) (2.2.4)\n",
            "Requirement already satisfied: korean-lunar-calendar in /usr/local/lib/python3.9/dist-packages (from holidays>=0.13->featuretools) (0.3.1)\n",
            "Requirement already satisfied: convertdate>=2.3.0 in /usr/local/lib/python3.9/dist-packages (from holidays>=0.13->featuretools) (2.4.0)\n",
            "Requirement already satisfied: pytz>=2020.1 in /usr/local/lib/python3.9/dist-packages (from pandas>=1.4.0->featuretools) (2022.7.1)\n",
            "Requirement already satisfied: importlib-resources>=5.10.0 in /usr/local/lib/python3.9/dist-packages (from woodwork[dask]>=0.18.0->featuretools) (5.12.0)\n",
            "Requirement already satisfied: scikit-learn>=0.22 in /usr/local/lib/python3.9/dist-packages (from woodwork[dask]>=0.18.0->featuretools) (1.2.1)\n",
            "Requirement already satisfied: zipp>=3.1.0 in /usr/local/lib/python3.9/dist-packages (from importlib-resources>=5.10.0->woodwork[dask]>=0.18.0->featuretools) (3.15.0)\n",
            "Requirement already satisfied: locket in /usr/local/lib/python3.9/dist-packages (from partd>=0.3.10->dask[dataframe]!=2022.10.1,>=2022.2.0->featuretools) (1.0.0)\n",
            "Requirement already satisfied: six>=1.5 in /usr/local/lib/python3.9/dist-packages (from python-dateutil->holidays>=0.13->featuretools) (1.15.0)\n",
            "Requirement already satisfied: threadpoolctl>=2.0.0 in /usr/local/lib/python3.9/dist-packages (from scikit-learn>=0.22->woodwork[dask]>=0.18.0->featuretools) (3.1.0)\n",
            "Requirement already satisfied: joblib>=1.1.1 in /usr/local/lib/python3.9/dist-packages (from scikit-learn>=0.22->woodwork[dask]>=0.18.0->featuretools) (1.2.0)\n",
            "Requirement already satisfied: heapdict in /usr/local/lib/python3.9/dist-packages (from zict>=0.1.3->distributed!=2022.10.1,>=2022.2.0->featuretools) (1.0.1)\n",
            "Requirement already satisfied: MarkupSafe>=2.0 in /usr/local/lib/python3.9/dist-packages (from jinja2->distributed!=2022.10.1,>=2022.2.0->featuretools) (2.1.2)\n",
            "Installing collected packages: psutil, pandas, woodwork, featuretools\n",
            "  Attempting uninstall: psutil\n",
            "    Found existing installation: psutil 5.4.8\n",
            "    Uninstalling psutil-5.4.8:\n",
            "      Successfully uninstalled psutil-5.4.8\n",
            "  Attempting uninstall: pandas\n",
            "    Found existing installation: pandas 1.3.5\n",
            "    Uninstalling pandas-1.3.5:\n",
            "      Successfully uninstalled pandas-1.3.5\n",
            "Successfully installed featuretools-1.23.0 pandas-1.5.3 psutil-5.9.4 woodwork-0.21.2\n"
          ]
        },
        {
          "output_type": "display_data",
          "data": {
            "application/vnd.colab-display-data+json": {
              "pip_warning": {
                "packages": [
                  "psutil"
                ]
              }
            }
          },
          "metadata": {}
        }
      ]
    },
    {
      "cell_type": "code",
      "execution_count": 3,
      "metadata": {
        "id": "Rj-fFXAUlED8"
      },
      "outputs": [],
      "source": [
        "import pandas as pd\n",
        "import numpy as np\n",
        "\n",
        "import seaborn as sns\n",
        "import matplotlib.pyplot as plt\n",
        "\n",
        "sns.set(font_scale=2.2)\n",
        "plt.style.use('seaborn')\n",
        "\n",
        "from sklearn.preprocessing import LabelEncoder, MinMaxScaler, StandardScaler, OneHotEncoder\n",
        "from sklearn.model_selection import StratifiedKFold, train_test_split, ShuffleSplit\n",
        "from sklearn.metrics import f1_score\n",
        "import itertools\n",
        "import lightgbm as lgb\n",
        "import xgboost as xgb\n",
        "from xgboost import XGBClassifier\n",
        "import shap\n",
        "from tqdm import tqdm \n",
        "import featuretools as ft\n",
        "import warnings \n",
        "warnings.filterwarnings('ignore')\n",
        "import time\n",
        "\n",
        "# tqdm() function is used to provide a progress bar for the loop,"
      ]
    },
    {
      "cell_type": "markdown",
      "source": [
        "## 1. Check datasets"
      ],
      "metadata": {
        "id": "Zyy6bvTRpDb2"
      }
    },
    {
      "cell_type": "markdown",
      "source": [
        "### 1.1 Read dataset"
      ],
      "metadata": {
        "id": "jABhUgXmpJyM"
      }
    },
    {
      "cell_type": "code",
      "source": [
        "from google.colab import drive\n",
        "drive.mount('/content/drive', force_remount=True) "
      ],
      "metadata": {
        "colab": {
          "base_uri": "https://localhost:8080/"
        },
        "id": "s_vY48kzDK-D",
        "outputId": "0ef45a0b-48d6-4027-d670-ab04956535f8"
      },
      "execution_count": 4,
      "outputs": [
        {
          "output_type": "stream",
          "name": "stdout",
          "text": [
            "Mounted at /content/drive\n"
          ]
        }
      ]
    },
    {
      "cell_type": "code",
      "source": [
        "train ='/content/drive/MyDrive/Colab_Notebooks/KAGGLE/KAGGLE_STUDY/1._Costa_Rican_Household_Poverty_Level_Prediction/train.csv'\n",
        "test ='/content/drive/MyDrive/Colab_Notebooks/KAGGLE/KAGGLE_STUDY/1._Costa_Rican_Household_Poverty_Level_Prediction/test.csv'\n",
        "df_train = pd.read_csv(train)\n",
        "df_test = pd.read_csv(test)"
      ],
      "metadata": {
        "id": "9POo3pvtlbBd"
      },
      "execution_count": 5,
      "outputs": []
    },
    {
      "cell_type": "code",
      "source": [
        "print('df_train shape:', df_train.shape, '  ', 'df_test shape: ', df_test.shape)"
      ],
      "metadata": {
        "colab": {
          "base_uri": "https://localhost:8080/"
        },
        "id": "CPw2gQ0-pPGl",
        "outputId": "39dbe9d2-71ca-4ee8-d768-78faf29e5bd7"
      },
      "execution_count": 6,
      "outputs": [
        {
          "output_type": "stream",
          "name": "stdout",
          "text": [
            "df_train shape: (9557, 143)    df_test shape:  (23856, 142)\n"
          ]
        }
      ]
    },
    {
      "cell_type": "code",
      "source": [
        "df_train.head()"
      ],
      "metadata": {
        "colab": {
          "base_uri": "https://localhost:8080/",
          "height": 299
        },
        "id": "RmcM-uXFqzZb",
        "outputId": "d20f4675-4161-498d-fa78-3702fdcade08"
      },
      "execution_count": 7,
      "outputs": [
        {
          "output_type": "execute_result",
          "data": {
            "text/plain": [
              "             Id      v2a1  hacdor  rooms  hacapo  v14a  refrig  v18q  v18q1  \\\n",
              "0  ID_279628684  190000.0       0      3       0     1       1     0    NaN   \n",
              "1  ID_f29eb3ddd  135000.0       0      4       0     1       1     1    1.0   \n",
              "2  ID_68de51c94       NaN       0      8       0     1       1     0    NaN   \n",
              "3  ID_d671db89c  180000.0       0      5       0     1       1     1    1.0   \n",
              "4  ID_d56d6f5f5  180000.0       0      5       0     1       1     1    1.0   \n",
              "\n",
              "   r4h1  ...  SQBescolari  SQBage  SQBhogar_total  SQBedjefe  SQBhogar_nin  \\\n",
              "0     0  ...          100    1849               1        100             0   \n",
              "1     0  ...          144    4489               1        144             0   \n",
              "2     0  ...          121    8464               1          0             0   \n",
              "3     0  ...           81     289              16        121             4   \n",
              "4     0  ...          121    1369              16        121             4   \n",
              "\n",
              "   SQBovercrowding  SQBdependency  SQBmeaned  agesq  Target  \n",
              "0         1.000000            0.0      100.0   1849       4  \n",
              "1         1.000000           64.0      144.0   4489       4  \n",
              "2         0.250000           64.0      121.0   8464       4  \n",
              "3         1.777778            1.0      121.0    289       4  \n",
              "4         1.777778            1.0      121.0   1369       4  \n",
              "\n",
              "[5 rows x 143 columns]"
            ],
            "text/html": [
              "\n",
              "  <div id=\"df-a6f7412f-1bf3-43cf-8bb8-24a1afd074c6\">\n",
              "    <div class=\"colab-df-container\">\n",
              "      <div>\n",
              "<style scoped>\n",
              "    .dataframe tbody tr th:only-of-type {\n",
              "        vertical-align: middle;\n",
              "    }\n",
              "\n",
              "    .dataframe tbody tr th {\n",
              "        vertical-align: top;\n",
              "    }\n",
              "\n",
              "    .dataframe thead th {\n",
              "        text-align: right;\n",
              "    }\n",
              "</style>\n",
              "<table border=\"1\" class=\"dataframe\">\n",
              "  <thead>\n",
              "    <tr style=\"text-align: right;\">\n",
              "      <th></th>\n",
              "      <th>Id</th>\n",
              "      <th>v2a1</th>\n",
              "      <th>hacdor</th>\n",
              "      <th>rooms</th>\n",
              "      <th>hacapo</th>\n",
              "      <th>v14a</th>\n",
              "      <th>refrig</th>\n",
              "      <th>v18q</th>\n",
              "      <th>v18q1</th>\n",
              "      <th>r4h1</th>\n",
              "      <th>...</th>\n",
              "      <th>SQBescolari</th>\n",
              "      <th>SQBage</th>\n",
              "      <th>SQBhogar_total</th>\n",
              "      <th>SQBedjefe</th>\n",
              "      <th>SQBhogar_nin</th>\n",
              "      <th>SQBovercrowding</th>\n",
              "      <th>SQBdependency</th>\n",
              "      <th>SQBmeaned</th>\n",
              "      <th>agesq</th>\n",
              "      <th>Target</th>\n",
              "    </tr>\n",
              "  </thead>\n",
              "  <tbody>\n",
              "    <tr>\n",
              "      <th>0</th>\n",
              "      <td>ID_279628684</td>\n",
              "      <td>190000.0</td>\n",
              "      <td>0</td>\n",
              "      <td>3</td>\n",
              "      <td>0</td>\n",
              "      <td>1</td>\n",
              "      <td>1</td>\n",
              "      <td>0</td>\n",
              "      <td>NaN</td>\n",
              "      <td>0</td>\n",
              "      <td>...</td>\n",
              "      <td>100</td>\n",
              "      <td>1849</td>\n",
              "      <td>1</td>\n",
              "      <td>100</td>\n",
              "      <td>0</td>\n",
              "      <td>1.000000</td>\n",
              "      <td>0.0</td>\n",
              "      <td>100.0</td>\n",
              "      <td>1849</td>\n",
              "      <td>4</td>\n",
              "    </tr>\n",
              "    <tr>\n",
              "      <th>1</th>\n",
              "      <td>ID_f29eb3ddd</td>\n",
              "      <td>135000.0</td>\n",
              "      <td>0</td>\n",
              "      <td>4</td>\n",
              "      <td>0</td>\n",
              "      <td>1</td>\n",
              "      <td>1</td>\n",
              "      <td>1</td>\n",
              "      <td>1.0</td>\n",
              "      <td>0</td>\n",
              "      <td>...</td>\n",
              "      <td>144</td>\n",
              "      <td>4489</td>\n",
              "      <td>1</td>\n",
              "      <td>144</td>\n",
              "      <td>0</td>\n",
              "      <td>1.000000</td>\n",
              "      <td>64.0</td>\n",
              "      <td>144.0</td>\n",
              "      <td>4489</td>\n",
              "      <td>4</td>\n",
              "    </tr>\n",
              "    <tr>\n",
              "      <th>2</th>\n",
              "      <td>ID_68de51c94</td>\n",
              "      <td>NaN</td>\n",
              "      <td>0</td>\n",
              "      <td>8</td>\n",
              "      <td>0</td>\n",
              "      <td>1</td>\n",
              "      <td>1</td>\n",
              "      <td>0</td>\n",
              "      <td>NaN</td>\n",
              "      <td>0</td>\n",
              "      <td>...</td>\n",
              "      <td>121</td>\n",
              "      <td>8464</td>\n",
              "      <td>1</td>\n",
              "      <td>0</td>\n",
              "      <td>0</td>\n",
              "      <td>0.250000</td>\n",
              "      <td>64.0</td>\n",
              "      <td>121.0</td>\n",
              "      <td>8464</td>\n",
              "      <td>4</td>\n",
              "    </tr>\n",
              "    <tr>\n",
              "      <th>3</th>\n",
              "      <td>ID_d671db89c</td>\n",
              "      <td>180000.0</td>\n",
              "      <td>0</td>\n",
              "      <td>5</td>\n",
              "      <td>0</td>\n",
              "      <td>1</td>\n",
              "      <td>1</td>\n",
              "      <td>1</td>\n",
              "      <td>1.0</td>\n",
              "      <td>0</td>\n",
              "      <td>...</td>\n",
              "      <td>81</td>\n",
              "      <td>289</td>\n",
              "      <td>16</td>\n",
              "      <td>121</td>\n",
              "      <td>4</td>\n",
              "      <td>1.777778</td>\n",
              "      <td>1.0</td>\n",
              "      <td>121.0</td>\n",
              "      <td>289</td>\n",
              "      <td>4</td>\n",
              "    </tr>\n",
              "    <tr>\n",
              "      <th>4</th>\n",
              "      <td>ID_d56d6f5f5</td>\n",
              "      <td>180000.0</td>\n",
              "      <td>0</td>\n",
              "      <td>5</td>\n",
              "      <td>0</td>\n",
              "      <td>1</td>\n",
              "      <td>1</td>\n",
              "      <td>1</td>\n",
              "      <td>1.0</td>\n",
              "      <td>0</td>\n",
              "      <td>...</td>\n",
              "      <td>121</td>\n",
              "      <td>1369</td>\n",
              "      <td>16</td>\n",
              "      <td>121</td>\n",
              "      <td>4</td>\n",
              "      <td>1.777778</td>\n",
              "      <td>1.0</td>\n",
              "      <td>121.0</td>\n",
              "      <td>1369</td>\n",
              "      <td>4</td>\n",
              "    </tr>\n",
              "  </tbody>\n",
              "</table>\n",
              "<p>5 rows × 143 columns</p>\n",
              "</div>\n",
              "      <button class=\"colab-df-convert\" onclick=\"convertToInteractive('df-a6f7412f-1bf3-43cf-8bb8-24a1afd074c6')\"\n",
              "              title=\"Convert this dataframe to an interactive table.\"\n",
              "              style=\"display:none;\">\n",
              "        \n",
              "  <svg xmlns=\"http://www.w3.org/2000/svg\" height=\"24px\"viewBox=\"0 0 24 24\"\n",
              "       width=\"24px\">\n",
              "    <path d=\"M0 0h24v24H0V0z\" fill=\"none\"/>\n",
              "    <path d=\"M18.56 5.44l.94 2.06.94-2.06 2.06-.94-2.06-.94-.94-2.06-.94 2.06-2.06.94zm-11 1L8.5 8.5l.94-2.06 2.06-.94-2.06-.94L8.5 2.5l-.94 2.06-2.06.94zm10 10l.94 2.06.94-2.06 2.06-.94-2.06-.94-.94-2.06-.94 2.06-2.06.94z\"/><path d=\"M17.41 7.96l-1.37-1.37c-.4-.4-.92-.59-1.43-.59-.52 0-1.04.2-1.43.59L10.3 9.45l-7.72 7.72c-.78.78-.78 2.05 0 2.83L4 21.41c.39.39.9.59 1.41.59.51 0 1.02-.2 1.41-.59l7.78-7.78 2.81-2.81c.8-.78.8-2.07 0-2.86zM5.41 20L4 18.59l7.72-7.72 1.47 1.35L5.41 20z\"/>\n",
              "  </svg>\n",
              "      </button>\n",
              "      \n",
              "  <style>\n",
              "    .colab-df-container {\n",
              "      display:flex;\n",
              "      flex-wrap:wrap;\n",
              "      gap: 12px;\n",
              "    }\n",
              "\n",
              "    .colab-df-convert {\n",
              "      background-color: #E8F0FE;\n",
              "      border: none;\n",
              "      border-radius: 50%;\n",
              "      cursor: pointer;\n",
              "      display: none;\n",
              "      fill: #1967D2;\n",
              "      height: 32px;\n",
              "      padding: 0 0 0 0;\n",
              "      width: 32px;\n",
              "    }\n",
              "\n",
              "    .colab-df-convert:hover {\n",
              "      background-color: #E2EBFA;\n",
              "      box-shadow: 0px 1px 2px rgba(60, 64, 67, 0.3), 0px 1px 3px 1px rgba(60, 64, 67, 0.15);\n",
              "      fill: #174EA6;\n",
              "    }\n",
              "\n",
              "    [theme=dark] .colab-df-convert {\n",
              "      background-color: #3B4455;\n",
              "      fill: #D2E3FC;\n",
              "    }\n",
              "\n",
              "    [theme=dark] .colab-df-convert:hover {\n",
              "      background-color: #434B5C;\n",
              "      box-shadow: 0px 1px 3px 1px rgba(0, 0, 0, 0.15);\n",
              "      filter: drop-shadow(0px 1px 2px rgba(0, 0, 0, 0.3));\n",
              "      fill: #FFFFFF;\n",
              "    }\n",
              "  </style>\n",
              "\n",
              "      <script>\n",
              "        const buttonEl =\n",
              "          document.querySelector('#df-a6f7412f-1bf3-43cf-8bb8-24a1afd074c6 button.colab-df-convert');\n",
              "        buttonEl.style.display =\n",
              "          google.colab.kernel.accessAllowed ? 'block' : 'none';\n",
              "\n",
              "        async function convertToInteractive(key) {\n",
              "          const element = document.querySelector('#df-a6f7412f-1bf3-43cf-8bb8-24a1afd074c6');\n",
              "          const dataTable =\n",
              "            await google.colab.kernel.invokeFunction('convertToInteractive',\n",
              "                                                     [key], {});\n",
              "          if (!dataTable) return;\n",
              "\n",
              "          const docLinkHtml = 'Like what you see? Visit the ' +\n",
              "            '<a target=\"_blank\" href=https://colab.research.google.com/notebooks/data_table.ipynb>data table notebook</a>'\n",
              "            + ' to learn more about interactive tables.';\n",
              "          element.innerHTML = '';\n",
              "          dataTable['output_type'] = 'display_data';\n",
              "          await google.colab.output.renderOutput(dataTable, element);\n",
              "          const docLink = document.createElement('div');\n",
              "          docLink.innerHTML = docLinkHtml;\n",
              "          element.appendChild(docLink);\n",
              "        }\n",
              "      </script>\n",
              "    </div>\n",
              "  </div>\n",
              "  "
            ]
          },
          "metadata": {},
          "execution_count": 7
        }
      ]
    },
    {
      "cell_type": "code",
      "source": [
        "df_train.head()"
      ],
      "metadata": {
        "colab": {
          "base_uri": "https://localhost:8080/",
          "height": 299
        },
        "id": "Md5JPixZWc3u",
        "outputId": "ea5acd76-b384-4572-e1d1-0c6db84c7314"
      },
      "execution_count": 8,
      "outputs": [
        {
          "output_type": "execute_result",
          "data": {
            "text/plain": [
              "             Id      v2a1  hacdor  rooms  hacapo  v14a  refrig  v18q  v18q1  \\\n",
              "0  ID_279628684  190000.0       0      3       0     1       1     0    NaN   \n",
              "1  ID_f29eb3ddd  135000.0       0      4       0     1       1     1    1.0   \n",
              "2  ID_68de51c94       NaN       0      8       0     1       1     0    NaN   \n",
              "3  ID_d671db89c  180000.0       0      5       0     1       1     1    1.0   \n",
              "4  ID_d56d6f5f5  180000.0       0      5       0     1       1     1    1.0   \n",
              "\n",
              "   r4h1  ...  SQBescolari  SQBage  SQBhogar_total  SQBedjefe  SQBhogar_nin  \\\n",
              "0     0  ...          100    1849               1        100             0   \n",
              "1     0  ...          144    4489               1        144             0   \n",
              "2     0  ...          121    8464               1          0             0   \n",
              "3     0  ...           81     289              16        121             4   \n",
              "4     0  ...          121    1369              16        121             4   \n",
              "\n",
              "   SQBovercrowding  SQBdependency  SQBmeaned  agesq  Target  \n",
              "0         1.000000            0.0      100.0   1849       4  \n",
              "1         1.000000           64.0      144.0   4489       4  \n",
              "2         0.250000           64.0      121.0   8464       4  \n",
              "3         1.777778            1.0      121.0    289       4  \n",
              "4         1.777778            1.0      121.0   1369       4  \n",
              "\n",
              "[5 rows x 143 columns]"
            ],
            "text/html": [
              "\n",
              "  <div id=\"df-47a24047-2276-46b5-b916-2829ca879c6c\">\n",
              "    <div class=\"colab-df-container\">\n",
              "      <div>\n",
              "<style scoped>\n",
              "    .dataframe tbody tr th:only-of-type {\n",
              "        vertical-align: middle;\n",
              "    }\n",
              "\n",
              "    .dataframe tbody tr th {\n",
              "        vertical-align: top;\n",
              "    }\n",
              "\n",
              "    .dataframe thead th {\n",
              "        text-align: right;\n",
              "    }\n",
              "</style>\n",
              "<table border=\"1\" class=\"dataframe\">\n",
              "  <thead>\n",
              "    <tr style=\"text-align: right;\">\n",
              "      <th></th>\n",
              "      <th>Id</th>\n",
              "      <th>v2a1</th>\n",
              "      <th>hacdor</th>\n",
              "      <th>rooms</th>\n",
              "      <th>hacapo</th>\n",
              "      <th>v14a</th>\n",
              "      <th>refrig</th>\n",
              "      <th>v18q</th>\n",
              "      <th>v18q1</th>\n",
              "      <th>r4h1</th>\n",
              "      <th>...</th>\n",
              "      <th>SQBescolari</th>\n",
              "      <th>SQBage</th>\n",
              "      <th>SQBhogar_total</th>\n",
              "      <th>SQBedjefe</th>\n",
              "      <th>SQBhogar_nin</th>\n",
              "      <th>SQBovercrowding</th>\n",
              "      <th>SQBdependency</th>\n",
              "      <th>SQBmeaned</th>\n",
              "      <th>agesq</th>\n",
              "      <th>Target</th>\n",
              "    </tr>\n",
              "  </thead>\n",
              "  <tbody>\n",
              "    <tr>\n",
              "      <th>0</th>\n",
              "      <td>ID_279628684</td>\n",
              "      <td>190000.0</td>\n",
              "      <td>0</td>\n",
              "      <td>3</td>\n",
              "      <td>0</td>\n",
              "      <td>1</td>\n",
              "      <td>1</td>\n",
              "      <td>0</td>\n",
              "      <td>NaN</td>\n",
              "      <td>0</td>\n",
              "      <td>...</td>\n",
              "      <td>100</td>\n",
              "      <td>1849</td>\n",
              "      <td>1</td>\n",
              "      <td>100</td>\n",
              "      <td>0</td>\n",
              "      <td>1.000000</td>\n",
              "      <td>0.0</td>\n",
              "      <td>100.0</td>\n",
              "      <td>1849</td>\n",
              "      <td>4</td>\n",
              "    </tr>\n",
              "    <tr>\n",
              "      <th>1</th>\n",
              "      <td>ID_f29eb3ddd</td>\n",
              "      <td>135000.0</td>\n",
              "      <td>0</td>\n",
              "      <td>4</td>\n",
              "      <td>0</td>\n",
              "      <td>1</td>\n",
              "      <td>1</td>\n",
              "      <td>1</td>\n",
              "      <td>1.0</td>\n",
              "      <td>0</td>\n",
              "      <td>...</td>\n",
              "      <td>144</td>\n",
              "      <td>4489</td>\n",
              "      <td>1</td>\n",
              "      <td>144</td>\n",
              "      <td>0</td>\n",
              "      <td>1.000000</td>\n",
              "      <td>64.0</td>\n",
              "      <td>144.0</td>\n",
              "      <td>4489</td>\n",
              "      <td>4</td>\n",
              "    </tr>\n",
              "    <tr>\n",
              "      <th>2</th>\n",
              "      <td>ID_68de51c94</td>\n",
              "      <td>NaN</td>\n",
              "      <td>0</td>\n",
              "      <td>8</td>\n",
              "      <td>0</td>\n",
              "      <td>1</td>\n",
              "      <td>1</td>\n",
              "      <td>0</td>\n",
              "      <td>NaN</td>\n",
              "      <td>0</td>\n",
              "      <td>...</td>\n",
              "      <td>121</td>\n",
              "      <td>8464</td>\n",
              "      <td>1</td>\n",
              "      <td>0</td>\n",
              "      <td>0</td>\n",
              "      <td>0.250000</td>\n",
              "      <td>64.0</td>\n",
              "      <td>121.0</td>\n",
              "      <td>8464</td>\n",
              "      <td>4</td>\n",
              "    </tr>\n",
              "    <tr>\n",
              "      <th>3</th>\n",
              "      <td>ID_d671db89c</td>\n",
              "      <td>180000.0</td>\n",
              "      <td>0</td>\n",
              "      <td>5</td>\n",
              "      <td>0</td>\n",
              "      <td>1</td>\n",
              "      <td>1</td>\n",
              "      <td>1</td>\n",
              "      <td>1.0</td>\n",
              "      <td>0</td>\n",
              "      <td>...</td>\n",
              "      <td>81</td>\n",
              "      <td>289</td>\n",
              "      <td>16</td>\n",
              "      <td>121</td>\n",
              "      <td>4</td>\n",
              "      <td>1.777778</td>\n",
              "      <td>1.0</td>\n",
              "      <td>121.0</td>\n",
              "      <td>289</td>\n",
              "      <td>4</td>\n",
              "    </tr>\n",
              "    <tr>\n",
              "      <th>4</th>\n",
              "      <td>ID_d56d6f5f5</td>\n",
              "      <td>180000.0</td>\n",
              "      <td>0</td>\n",
              "      <td>5</td>\n",
              "      <td>0</td>\n",
              "      <td>1</td>\n",
              "      <td>1</td>\n",
              "      <td>1</td>\n",
              "      <td>1.0</td>\n",
              "      <td>0</td>\n",
              "      <td>...</td>\n",
              "      <td>121</td>\n",
              "      <td>1369</td>\n",
              "      <td>16</td>\n",
              "      <td>121</td>\n",
              "      <td>4</td>\n",
              "      <td>1.777778</td>\n",
              "      <td>1.0</td>\n",
              "      <td>121.0</td>\n",
              "      <td>1369</td>\n",
              "      <td>4</td>\n",
              "    </tr>\n",
              "  </tbody>\n",
              "</table>\n",
              "<p>5 rows × 143 columns</p>\n",
              "</div>\n",
              "      <button class=\"colab-df-convert\" onclick=\"convertToInteractive('df-47a24047-2276-46b5-b916-2829ca879c6c')\"\n",
              "              title=\"Convert this dataframe to an interactive table.\"\n",
              "              style=\"display:none;\">\n",
              "        \n",
              "  <svg xmlns=\"http://www.w3.org/2000/svg\" height=\"24px\"viewBox=\"0 0 24 24\"\n",
              "       width=\"24px\">\n",
              "    <path d=\"M0 0h24v24H0V0z\" fill=\"none\"/>\n",
              "    <path d=\"M18.56 5.44l.94 2.06.94-2.06 2.06-.94-2.06-.94-.94-2.06-.94 2.06-2.06.94zm-11 1L8.5 8.5l.94-2.06 2.06-.94-2.06-.94L8.5 2.5l-.94 2.06-2.06.94zm10 10l.94 2.06.94-2.06 2.06-.94-2.06-.94-.94-2.06-.94 2.06-2.06.94z\"/><path d=\"M17.41 7.96l-1.37-1.37c-.4-.4-.92-.59-1.43-.59-.52 0-1.04.2-1.43.59L10.3 9.45l-7.72 7.72c-.78.78-.78 2.05 0 2.83L4 21.41c.39.39.9.59 1.41.59.51 0 1.02-.2 1.41-.59l7.78-7.78 2.81-2.81c.8-.78.8-2.07 0-2.86zM5.41 20L4 18.59l7.72-7.72 1.47 1.35L5.41 20z\"/>\n",
              "  </svg>\n",
              "      </button>\n",
              "      \n",
              "  <style>\n",
              "    .colab-df-container {\n",
              "      display:flex;\n",
              "      flex-wrap:wrap;\n",
              "      gap: 12px;\n",
              "    }\n",
              "\n",
              "    .colab-df-convert {\n",
              "      background-color: #E8F0FE;\n",
              "      border: none;\n",
              "      border-radius: 50%;\n",
              "      cursor: pointer;\n",
              "      display: none;\n",
              "      fill: #1967D2;\n",
              "      height: 32px;\n",
              "      padding: 0 0 0 0;\n",
              "      width: 32px;\n",
              "    }\n",
              "\n",
              "    .colab-df-convert:hover {\n",
              "      background-color: #E2EBFA;\n",
              "      box-shadow: 0px 1px 2px rgba(60, 64, 67, 0.3), 0px 1px 3px 1px rgba(60, 64, 67, 0.15);\n",
              "      fill: #174EA6;\n",
              "    }\n",
              "\n",
              "    [theme=dark] .colab-df-convert {\n",
              "      background-color: #3B4455;\n",
              "      fill: #D2E3FC;\n",
              "    }\n",
              "\n",
              "    [theme=dark] .colab-df-convert:hover {\n",
              "      background-color: #434B5C;\n",
              "      box-shadow: 0px 1px 3px 1px rgba(0, 0, 0, 0.15);\n",
              "      filter: drop-shadow(0px 1px 2px rgba(0, 0, 0, 0.3));\n",
              "      fill: #FFFFFF;\n",
              "    }\n",
              "  </style>\n",
              "\n",
              "      <script>\n",
              "        const buttonEl =\n",
              "          document.querySelector('#df-47a24047-2276-46b5-b916-2829ca879c6c button.colab-df-convert');\n",
              "        buttonEl.style.display =\n",
              "          google.colab.kernel.accessAllowed ? 'block' : 'none';\n",
              "\n",
              "        async function convertToInteractive(key) {\n",
              "          const element = document.querySelector('#df-47a24047-2276-46b5-b916-2829ca879c6c');\n",
              "          const dataTable =\n",
              "            await google.colab.kernel.invokeFunction('convertToInteractive',\n",
              "                                                     [key], {});\n",
              "          if (!dataTable) return;\n",
              "\n",
              "          const docLinkHtml = 'Like what you see? Visit the ' +\n",
              "            '<a target=\"_blank\" href=https://colab.research.google.com/notebooks/data_table.ipynb>data table notebook</a>'\n",
              "            + ' to learn more about interactive tables.';\n",
              "          element.innerHTML = '';\n",
              "          dataTable['output_type'] = 'display_data';\n",
              "          await google.colab.output.renderOutput(dataTable, element);\n",
              "          const docLink = document.createElement('div');\n",
              "          docLink.innerHTML = docLinkHtml;\n",
              "          element.appendChild(docLink);\n",
              "        }\n",
              "      </script>\n",
              "    </div>\n",
              "  </div>\n",
              "  "
            ]
          },
          "metadata": {},
          "execution_count": 8
        }
      ]
    },
    {
      "cell_type": "markdown",
      "source": [
        "### 1.2 Make description df"
      ],
      "metadata": {
        "id": "FVIFYYGNsHa_"
      }
    },
    {
      "cell_type": "code",
      "source": [
        "description = [\n",
        "(\"v2a1\",\" Monthly rent payment\"),\n",
        "(\"hacdor\",\" =1 Overcrowding by bedrooms\"),\n",
        "(\"rooms\",\"  number of all rooms in the house\"),\n",
        "(\"hacapo\",\" =1 Overcrowding by rooms\"),\n",
        "(\"v14a\",\" =1 has toilet in the household\"),\n",
        "(\"refrig\",\" =1 if the household has refrigerator\"),\n",
        "(\"v18q\",\" owns a tablet\"),\n",
        "(\"v18q1\",\" number of tablets household owns\"),\n",
        "(\"r4h1\",\" Males younger than 12 years of age\"),\n",
        "(\"r4h2\",\" Males 12 years of age and older\"),\n",
        "(\"r4h3\",\" Total males in the household\"),\n",
        "(\"r4m1\",\" Females younger than 12 years of age\"),\n",
        "(\"r4m2\",\" Females 12 years of age and older\"),\n",
        "(\"r4m3\",\" Total females in the household\"),\n",
        "(\"r4t1\",\" persons younger than 12 years of age\"),\n",
        "(\"r4t2\",\" persons 12 years of age and older\"),\n",
        "(\"r4t3\",\" Total persons in the household\"),\n",
        "(\"tamhog\",\" size of the household\"),\n",
        "(\"tamviv\",\" number of persons living in the household\"),\n",
        "(\"escolari\",\" years of schooling\"),\n",
        "(\"rez_esc\",\" Years behind in school\"),\n",
        "(\"hhsize\",\" household size\"),\n",
        "(\"paredblolad\",\" =1 if predominant material on the outside wall is block or brick\"),\n",
        "(\"paredzocalo\",\" =1 if predominant material on the outside wall is socket (wood, zinc or absbesto\"),\n",
        "(\"paredpreb\",\" =1 if predominant material on the outside wall is prefabricated or cement\"),\n",
        "(\"pareddes\",\" =1 if predominant material on the outside wall is waste material\"),\n",
        "(\"paredmad\",\" =1 if predominant material on the outside wall is wood\"),\n",
        "(\"paredzinc\",\" =1 if predominant material on the outside wall is zink\"),\n",
        "(\"paredfibras\",\" =1 if predominant material on the outside wall is natural fibers\"),\n",
        "(\"paredother\",\" =1 if predominant material on the outside wall is other\"),\n",
        "(\"pisomoscer\",\" =1 if predominant material on the floor is mosaic ceramic   terrazo\"),\n",
        "(\"pisocemento\",\" =1 if predominant material on the floor is cement\"),\n",
        "(\"pisoother\",\" =1 if predominant material on the floor is other\"),\n",
        "(\"pisonatur\",\" =1 if predominant material on the floor is  natural material\"),\n",
        "(\"pisonotiene\",\" =1 if no floor at the household\"),\n",
        "(\"pisomadera\",\" =1 if predominant material on the floor is wood\"),\n",
        "(\"techozinc\",\" =1 if predominant material on the roof is metal foil or zink\"),\n",
        "(\"techoentrepiso\",\" =1 if predominant material on the roof is fiber cement,   mezzanine \"),\n",
        "(\"techocane\",\" =1 if predominant material on the roof is natural fibers\"),\n",
        "(\"techootro\",\" =1 if predominant material on the roof is other\"),\n",
        "(\"cielorazo\",\" =1 if the house has ceiling\"),\n",
        "(\"abastaguadentro\",\" =1 if water provision inside the dwelling\"),\n",
        "(\"abastaguafuera\",\" =1 if water provision outside the dwelling\"),\n",
        "(\"abastaguano\",\" =1 if no water provision\"),\n",
        "(\"public\",\" =1 electricity from CNFL,  ICE, ESPH/JASEC\"),\n",
        "(\"planpri\",\" =1 electricity from private plant\"),\n",
        "(\"noelec\",\" =1 no electricity in the dwelling\"),\n",
        "(\"coopele\",\" =1 electricity from cooperative\"),\n",
        "(\"sanitario1\",\" =1 no toilet in the dwelling\"),\n",
        "(\"sanitario2\",\" =1 toilet connected to sewer or cesspool\"),\n",
        "(\"sanitario3\",\" =1 toilet connected to  septic tank\"),\n",
        "(\"sanitario5\",\" =1 toilet connected to black hole or letrine\"),\n",
        "(\"sanitario6\",\" =1 toilet connected to other system\"),\n",
        "(\"energcocinar1\",\" =1 no main source of energy used for cooking (no kitchen)\"),\n",
        "(\"energcocinar2\",\" =1 main source of energy used for cooking electricity\"),\n",
        "(\"energcocinar3\",\" =1 main source of energy used for cooking gas\"),\n",
        "(\"energcocinar4\",\" =1 main source of energy used for cooking wood charcoal\"),\n",
        "(\"elimbasu1\",\" =1 if rubbish disposal mainly by tanker truck\"),\n",
        "(\"elimbasu2\",\" =1 if rubbish disposal mainly by botan hollow or buried\"),\n",
        "(\"elimbasu3\",\" =1 if rubbish disposal mainly by burning\"),\n",
        "(\"elimbasu4\",\" =1 if rubbish disposal mainly by throwing in an unoccupied space\"),\n",
        "(\"elimbasu5\",\" =1 if rubbish disposal mainly by throwing in river,   creek or sea\"),\n",
        "(\"elimbasu6\",\" =1 if rubbish disposal mainly other\"),\n",
        "(\"epared1\",\" =1 if walls are bad\"),\n",
        "(\"epared2\",\" =1 if walls are regular\"),\n",
        "(\"epared3\",\" =1 if walls are good\"),\n",
        "(\"etecho1\",\" =1 if roof are bad\"),\n",
        "(\"etecho2\",\" =1 if roof are regular\"),\n",
        "(\"etecho3\",\" =1 if roof are good\"),\n",
        "(\"eviv1\",\" =1 if floor are bad\"),\n",
        "(\"eviv2\",\" =1 if floor are regular\"),\n",
        "(\"eviv3\",\" =1 if floor are good\"),\n",
        "(\"dis\",\" =1 if disable person\"),\n",
        "(\"male\",\" =1 if male\"),\n",
        "(\"female\",\" =1 if female\"),\n",
        "(\"estadocivil1\",\" =1 if less than 10 years old\"),\n",
        "(\"estadocivil2\",\" =1 if free or coupled uunion\"),\n",
        "(\"estadocivil3\",\" =1 if married\"),\n",
        "(\"estadocivil4\",\" =1 if divorced\"),\n",
        "(\"estadocivil5\",\" =1 if separated\"),\n",
        "(\"estadocivil6\",\" =1 if widow/er\"),\n",
        "(\"estadocivil7\",\" =1 if single\"),\n",
        "(\"parentesco1\",\" =1 if household head\"),\n",
        "(\"parentesco2\",\" =1 if spouse/partner\"),\n",
        "(\"parentesco3\",\" =1 if son/doughter\"),\n",
        "(\"parentesco4\",\" =1 if stepson/doughter\"),\n",
        "(\"parentesco5\",\" =1 if son/doughter in law\"),\n",
        "(\"parentesco6\",\" =1 if grandson/doughter\"),\n",
        "(\"parentesco7\",\" =1 if mother/father\"),\n",
        "(\"parentesco8\",\" =1 if father/mother in law\"),\n",
        "(\"parentesco9\",\" =1 if brother/sister\"),\n",
        "(\"parentesco10\",\" =1 if brother/sister in law\"),\n",
        "(\"parentesco11\",\" =1 if other family member\"),\n",
        "(\"parentesco12\",\" =1 if other non family member\"),\n",
        "(\"idhogar\",\" Household level identifier\"),\n",
        "(\"hogar_nin\",\" Number of children 0 to 19 in household\"),\n",
        "(\"hogar_adul\",\" Number of adults in household\"),\n",
        "(\"hogar_mayor\",\" # of individuals 65+ in the household\"),\n",
        "(\"hogar_total\",\" # of total individuals in the household\"),\n",
        "(\"dependency\",\" Dependency rate\"),\n",
        "(\"edjefe\",\" years of education of male head of household\"),\n",
        "(\"edjefa\",\" years of education of female head of household\"),\n",
        "(\"meaneduc\",\"average years of education for adults (18+)\"),\n",
        "(\"instlevel1\",\" =1 no level of education\"),\n",
        "(\"instlevel2\",\" =1 incomplete primary\"),\n",
        "(\"instlevel3\",\" =1 complete primary\"),\n",
        "(\"instlevel4\",\" =1 incomplete academic secondary level\"),\n",
        "(\"instlevel5\",\" =1 complete academic secondary level\"),\n",
        "(\"instlevel6\",\" =1 incomplete technical secondary level\"),\n",
        "(\"instlevel7\",\" =1 complete technical secondary level\"),\n",
        "(\"instlevel8\",\" =1 undergraduate and higher education\"),\n",
        "(\"instlevel9\",\" =1 postgraduate higher education\"),\n",
        "(\"bedrooms\",\" number of bedrooms\"),\n",
        "(\"overcrowding\",\" # persons per room\"),\n",
        "(\"tipovivi1\",\" =1 own and fully paid house\"),\n",
        "(\"tipovivi2\",\" =1 own,   paying in installments\"),\n",
        "(\"tipovivi3\",\" =1 rented\"),\n",
        "(\"tipovivi4\",\" =1 precarious\"),\n",
        "(\"tipovivi5\",\" =1 other(assigned\"),\n",
        "(\"computer\",\" =1 if the household has notebook or desktop computer,   borrowed)\"),\n",
        "(\"television\",\" =1 if the household has TV\"),\n",
        "(\"mobilephone\",\" =1 if mobile phone\"),\n",
        "(\"qmobilephone\",\" # of mobile phones\"),\n",
        "(\"lugar1\",\" =1 region Central\"),\n",
        "(\"lugar2\",\" =1 region Chorotega\"),\n",
        "(\"lugar3\",\" =1 region PacÃƒÂ­fico central\"),\n",
        "(\"lugar4\",\" =1 region Brunca\"),\n",
        "(\"lugar5\",\" =1 region Huetar AtlÃƒÂ¡ntica\"),\n",
        "(\"lugar6\",\" =1 region Huetar Norte\"),\n",
        "(\"area1\",\" =1 zona urbana\"),\n",
        "(\"area2\",\" =2 zona rural\"),\n",
        "(\"age\",\" Age in years\"),\n",
        "(\"SQBescolari\",\" escolari squared\"),\n",
        "(\"SQBage\",\" age squared\"),\n",
        "(\"SQBhogar_total\",\" hogar_total squared\"),\n",
        "(\"SQBedjefe\",\" edjefe squared\"),\n",
        "(\"SQBhogar_nin\",\" hogar_nin squared\"),\n",
        "(\"SQBovercrowding\",\" overcrowding squared\"),\n",
        "(\"SQBdependency\",\" dependency squared\"),\n",
        "(\"SQBmeaned\",\" meaned squared\"),\n",
        "(\"agesq\",\" Age squared\"),]\n",
        "\n",
        "description = pd.DataFrame(description, columns=['varname', 'description'])"
      ],
      "metadata": {
        "id": "Nge4b5_l49Zv"
      },
      "execution_count": 9,
      "outputs": []
    },
    {
      "cell_type": "code",
      "source": [
        "description_ko=[(\"v2a1\",\"월세납부\"),\n",
        "(\"hacdor\",\"=1 침실별 과잉 수용\"),\n",
        "(\"rooms\",\"집 안의 모든 방의 수\"),\n",
        "(\"hacapo\",\"=1실별 과잉 수용\"),\n",
        "(\"v14a\",\"=1 가정에 화장실 있음\"),\n",
        "(\"refrig\",\"=1가구에 냉장고가 있는 경우\"),\n",
        "(\"v18q\",\"태블릿 소유\"),\n",
        "(\"v18q1\",\"가구 소유의 태블릿 수\"),\n",
        "(\"r4h1\",\"12세 미만의 남성\"),\n",
        "(\"r4h2\",\"남성 12세 이상\"),\n",
        "(\"r4h3\",\"가구원수합계\"),\n",
        "(\"r4m1\",\"12세 이하 여성\"),\n",
        "(\"r4m2\",\"12세 이상 여성\"),\n",
        "(\"r4m3\",\"가구원 총여성\"),\n",
        "(\"r4t1\",\"12세 이하인 사람\"),\n",
        "(\"r4t2\",\"12세 이상\"),\n",
        "(\"r4t3\",\"가구원 합계\"),\n",
        "(\"tamhog\",\"가구원수\"),\n",
        "(\"tamviv\",\"가구원수\"),\n",
        "(\"escolari\",\"다년간의 교육\"),\n",
        "(\"rez_esc\",\"학창시절 몇년 뒤\"),\n",
        "(\"hhsize\",\"가구 크기\"),\n",
        "(\"paredblolad\",\"=1 외벽의 주요 재료가 블록 또는 벽돌인 경우\"),\n",
        "(\"paredzocalo\",\"=1 외벽의 주요 재료가 소켓인 경우(목재, 아연 또는 압베스토\"),\n",
        "(\"paredpreb\",\"=1 외벽의 주요 재료가 사전 조립 또는 시멘트인 경우\"),\n",
        "(\"pareddes\",\"=1 외벽의 주요 소재가 폐자재일 경우\"),\n",
        "(\"paredmad\",\"=1 외벽의 주요 재료가 목재인 경우\"),\n",
        "(\"paredzinc\",\"=1 외벽의 주요 재료가 징크인 경우\"),\n",
        "(\"paredfibras\",\"=1 외벽의 주요 소재가 천연섬유일 경우\"),\n",
        "(\"paredother\",\"=1 외벽의 주요 재료가 다른 경우\"),\n",
        "(\"pisomoscer\",\"=1 바닥의 주요 재료가 모자이크 세라믹 테라조인 경우\"),\n",
        "(\"pisocemento\",\"=1 바닥의 주요 재료가 시멘트인 경우\"),\n",
        "(\"pisoother\",\"=1 바닥의 주요 재료가 다른 경우\"),\n",
        "(\"pisonatur\",\"=1 바닥의 주요 재료가 천연 재료인 경우\"),\n",
        "(\"pisonotiene\",\"=가정에 층이 없는 경우 1개\"),\n",
        "(\"pisomadera\",\"=1 바닥의 주요 재료가 목재인 경우\"),\n",
        "(\"techozinc\",\"=1 지붕의 주요 재료가 금속 포일 또는 징크인 경우\"),\n",
        "(\"techoentrepiso\",\"=1 지붕의 주요 재료가 섬유 시멘트, 메자닌인 경우 \"),\n",
        "(\"techocane\",\"=1 지붕의 주요 재료가 천연 섬유인 경우\"),\n",
        "(\"techootro\",\"=1 지붕의 주요 재료가 다른 경우\"),\n",
        "(\"cielorazo\",\"=1 집에 천장이 있는 경우\"),\n",
        "(\"abastaguadentro\",\"=1 주거지 내부의 급수인 경우\"),\n",
        "(\"abastaguafuera\",\"=1 주거지 외부에 물이 공급되는 경우\"),\n",
        "(\"abastaguano\",\"=1 물 공급이 없는 경우\"),\n",
        "(\"public\",\"=CNFL, ICE, ESPH/JASEC에서 나오는 전기 1개\"),\n",
        "(\"planpri\",\"=민간 발전소에서 나오는 전기 1개\"),\n",
        "(\"noelec\",\"=1주거지에 전기가 없음\"),\n",
        "(\"coopele\",\"=협동조합 전기 1개\"),\n",
        "(\"sanitario1\",\"=1주거지에 화장실 없음\"),\n",
        "(\"sanitario2\",\"=하수도 또는 하수구에 연결된 화장실 1개\"),\n",
        "(\"sanitario3\",\"= 정화조에 연결된 화장실 1개\"),\n",
        "(\"sanitario5\",\"=블랙홀 또는 레트린에 연결된 화장실 1개\"),\n",
        "(\"sanitario6\",\"=다른 시스템에 연결된 화장실 1개\"),\n",
        "(\"energcocinar1\",\"=1 요리에 사용되는 주요 에너지원이 없음(주방 없음\"),\n",
        "(\"energcocinar2\",\"=1 전기 조리에 사용되는 주요 에너지 공급원\"),\n",
        "(\"energcocinar3\",\"=요리가스에 사용되는 주요 에너지 공급원 1개\"),\n",
        "(\"energcocinar4\",\"=1 목재 숯 조리에 사용되는 주요 에너지원\"),\n",
        "(\"elimbasu1\",\"=1 유조선 트럭에 의한 쓰레기 처리의 경우\"),\n",
        "(\"elimbasu2\",\"=1 주로 식물성 중공 또는 매립에 의한 쓰레기 처리\"),\n",
        "(\"elimbasu3\",\"=1 주로 불에 태워 폐기물을 처리하는 경우\"),\n",
        "(\"elimbasu4\",\"=1 빈 공간에 주로 던져서 쓰레기를 처리하는 경우\"),\n",
        "(\"elimbasu5\",\"=1 주로 강, 하천 또는 바다에 투척하여 쓰레기를 처리하는 경우\"),\n",
        "(\"elimbasu6\",\"=1 쓰레기 처리가 주로 다른 경우\"),\n",
        "(\"epared1\",\"=벽이 나쁜 경우 1\"),\n",
        "(\"epared2\",\"=1 벽이 정규적인 경우\"),\n",
        "(\"epared3\",\"=벽이 좋은 경우 1개\"),\n",
        "(\"etecho1\",\"=1 지붕이 나쁜 경우\"),\n",
        "(\"etecho2\",\"=1 지붕이 정규적인 경우\"),\n",
        "(\"etecho3\",\"=1 지붕이 양호한 경우\"),\n",
        "(\"eviv1\",\"=1 바닥이 나쁜 경우\"),\n",
        "(\"eviv2\",\"=1 바닥이 규칙적인 경우\"),\n",
        "(\"eviv3\",\"=1 바닥이 좋은 경우\"),\n",
        "(\"dis\",\"=1 장애인일 경우\"),\n",
        "(\"male\",\"=1 남성일 경우\"),\n",
        "(\"female\",\"=1 여성인 경우\"),\n",
        "(\"estadocivil1\",\"=10세 미만인 경우 1개\"),\n",
        "(\"estadocivil2\",\"=자유 또는 커플링된 경우 1개\"),\n",
        "(\"estadocivil3\",\"=결혼한 경우 1개\"),\n",
        "(\"estadocivil4\",\"=이혼한 경우 1개\"),\n",
        "(\"estadocivil5\",\"=1 별거한 경우\"),\n",
        "(\"estadocivil6\",\"=과부 경우 1개\"),\n",
        "(\"estadocivil7\",\"=싱글일 경우 1개\"),\n",
        "(\"parentesco1\",\"=가정의 가장일의 경우 1개\"),\n",
        "(\"parentesco2\",\"=배우자/파트너일 경우 1개\"),\n",
        "(\"parentesco3\",\"=아들/딸일 경우 1개\"),\n",
        "(\"parentesco4\",\"=의붓아들/딸 일 경우\"),\n",
        "(\"parentesco5\",\"=법률상 아들/딸일 경우 1개\"),\n",
        "(\"parentesco6\",\"=손자/손자일 경우\"),\n",
        "(\"parentesco7\",\"=어머니/아버지인 경우\"),\n",
        "(\"parentesco8\",\"=법률상 아버지/어머니일 경우 1개\"),\n",
        "(\"parentesco9\",\"=형/동생인 경우 1개\"),\n",
        "(\"parentesco10\",\"=법률상 형제/자매인 경우 1개\"),\n",
        "(\"parentesco11\",\"=1 다른 가족 구성원의 경우\"),\n",
        "(\"parentesco12\",\"=1 가족이 아닌 다른 구성원의 경우\"),\n",
        "(\"idhogar\",\"가구 수준 식별자\"),\n",
        "(\"hogar_nin\",\"0~19세인 가구원 수 \"),\n",
        "(\"hogar_adul\",\"어른인 가구원수\"),\n",
        "(\"hogar_mayor\",\"65세 이상인 가구원수 \"),\n",
        "(\"hogar_total\",\"가구원 총 인원수\"),\n",
        "(\"dependency\",\"종속율\"),\n",
        "(\"edjefe\",\"남성 가장의 수년간 교육\"),\n",
        "(\"edjefa\",\"여성 가장의 수년간 교육\"),\n",
        "(\"meaneduc\",\"평균 성인 교육년(18+)\"),\n",
        "(\"instlevel1\",\"=1 교육 수준 없음\"),\n",
        "(\"instlevel2\",\"=1 불완전한 초등교육\"),\n",
        "(\"instlevel3\",\"=1 완전한 초등교육\"),\n",
        "(\"instlevel4\",\"=1 불완전한 학업 2차 수준\"),\n",
        "(\"instlevel5\",\"=1 완전한 학문적 2차 수준\"),\n",
        "(\"instlevel6\",\"=1 불완전한 기술 2차 수준\"),\n",
        "(\"instlevel7\",\"=1 완전한 기술 2차 수준\"),\n",
        "(\"instlevel8\",\"=1학부 이상\"),\n",
        "(\"instlevel9\",\"=1 대학원 고등교육\"),\n",
        "(\"bedrooms\",\"침실 수\"),\n",
        "(\"overcrowding\",\"# 객실당 인원수\"),\n",
        "(\"tipovivi1\",\"=1자체 및 완전유급주택\"),\n",
        "(\"tipovivi2\",\"=1개 소유, 할부 결제\"),\n",
        "(\"tipovivi3\",\"=1 임대\"),\n",
        "(\"tipovivi4\",\"=1 불안정한\"),\n",
        "(\"tipovivi5\",\"=1 다른사람에게 할당된\"),\n",
        "(\"computer\",\"=1 가구에 노트북 또는 데스크탑 컴퓨터가 있는 경우, 대여\"),\n",
        "(\"television\",\"=1가구에 TV가 있는 경우\"),\n",
        "(\"mobilephone\",\"=휴대전화일 경우 1\"),\n",
        "(\"qmobilephone\",\"휴대전화 번호\"),\n",
        "(\"lugar1\",\"=1 지역 중심\"),\n",
        "(\"lugar2\",\"=1 지역 Chorotega\"),\n",
        "(\"lugar3\",\"=1 지역 PacÃƒÂ­fico central\"),\n",
        "(\"lugar4\",\"=1 지역 Brunca\"),\n",
        "(\"lugar5\",\"=1 지역 Huetar AtlÃƒÂ¡ntica\"),\n",
        "(\"lugar6\",\"=1 지역 Huetar Norte\"),\n",
        "(\"area1\",\"=1 조나 우르바나\"),\n",
        "(\"area2\",\"=2 조나 시골\"),\n",
        "(\"age\",\"연령\"),\n",
        "(\"SQBescolari\",\"에스코라리 제곱\"),\n",
        "(\"SQBage\",\"나이 제곱\"),\n",
        "(\"SQBhogar_total\",\"hogar_total 제곱\"),\n",
        "(\"SQBedjefe\",\"에드제프 제곱\"),\n",
        "(\"SQBhogar_nin\",\"hogar_nin 제곱\"),\n",
        "(\"SQBovercrowding\",\"과밀 제곱\"),\n",
        "(\"SQBdependency\",\"종속성 제곱\"),\n",
        "(\"SQBmeaned\",\"평균 제곱\"),\n",
        "(\"agesq\",\"나이 제곱\"),]\n",
        "\n",
        "description_ko = pd.DataFrame(description_ko, columns=['varname', 'description']) #cloum의 이름을 vaarname, description이라고 부르다."
      ],
      "metadata": {
        "id": "bLMbRXkUq4rL"
      },
      "execution_count": 10,
      "outputs": []
    },
    {
      "cell_type": "code",
      "source": [
        "print(description_ko)"
      ],
      "metadata": {
        "colab": {
          "base_uri": "https://localhost:8080/"
        },
        "id": "6SInmML8sNpc",
        "outputId": "fb43b6c5-7843-4b57-9863-5c6faee0060b"
      },
      "execution_count": 11,
      "outputs": [
        {
          "output_type": "stream",
          "name": "stdout",
          "text": [
            "             varname    description\n",
            "0               v2a1           월세납부\n",
            "1             hacdor   =1 침실별 과잉 수용\n",
            "2              rooms   집 안의 모든 방의 수\n",
            "3             hacapo     =1실별 과잉 수용\n",
            "4               v14a  =1 가정에 화장실 있음\n",
            "..               ...            ...\n",
            "136     SQBhogar_nin   hogar_nin 제곱\n",
            "137  SQBovercrowding          과밀 제곱\n",
            "138    SQBdependency         종속성 제곱\n",
            "139        SQBmeaned          평균 제곱\n",
            "140            agesq          나이 제곱\n",
            "\n",
            "[141 rows x 2 columns]\n"
          ]
        }
      ]
    },
    {
      "cell_type": "markdown",
      "source": [
        "### 1.3 Check null data"
      ],
      "metadata": {
        "id": "VD8gUZRusgfM"
      }
    },
    {
      "cell_type": "code",
      "source": [
        "total = df_train.isnull().sum().sort_values(ascending=False)\n",
        "percent = 100 * (df_train.isnull().sum() / df_train.isnull().count()).sort_values(ascending=False)\n",
        "missing_df = pd.concat([total, percent], axis=1, keys=['Total', 'Percent'])\n",
        "\n",
        "missing_df.head(20)"
      ],
      "metadata": {
        "colab": {
          "base_uri": "https://localhost:8080/",
          "height": 0
        },
        "id": "6VxwWEiWsSeC",
        "outputId": "0006215f-9d98-4464-b0d8-fb3e4b5ff371"
      },
      "execution_count": 12,
      "outputs": [
        {
          "output_type": "execute_result",
          "data": {
            "text/plain": [
              "              Total    Percent\n",
              "rez_esc        7928  82.954902\n",
              "v18q1          7342  76.823271\n",
              "v2a1           6860  71.779847\n",
              "SQBmeaned         5   0.052318\n",
              "meaneduc          5   0.052318\n",
              "Id                0   0.000000\n",
              "hogar_adul        0   0.000000\n",
              "parentesco10      0   0.000000\n",
              "parentesco11      0   0.000000\n",
              "parentesco12      0   0.000000\n",
              "idhogar           0   0.000000\n",
              "hogar_nin         0   0.000000\n",
              "dependency        0   0.000000\n",
              "hogar_mayor       0   0.000000\n",
              "hogar_total       0   0.000000\n",
              "edjefe            0   0.000000\n",
              "edjefa            0   0.000000\n",
              "instlevel1        0   0.000000\n",
              "instlevel2        0   0.000000\n",
              "parentesco9       0   0.000000"
            ],
            "text/html": [
              "\n",
              "  <div id=\"df-33b61298-5bf3-42c1-831b-c5cb0239af85\">\n",
              "    <div class=\"colab-df-container\">\n",
              "      <div>\n",
              "<style scoped>\n",
              "    .dataframe tbody tr th:only-of-type {\n",
              "        vertical-align: middle;\n",
              "    }\n",
              "\n",
              "    .dataframe tbody tr th {\n",
              "        vertical-align: top;\n",
              "    }\n",
              "\n",
              "    .dataframe thead th {\n",
              "        text-align: right;\n",
              "    }\n",
              "</style>\n",
              "<table border=\"1\" class=\"dataframe\">\n",
              "  <thead>\n",
              "    <tr style=\"text-align: right;\">\n",
              "      <th></th>\n",
              "      <th>Total</th>\n",
              "      <th>Percent</th>\n",
              "    </tr>\n",
              "  </thead>\n",
              "  <tbody>\n",
              "    <tr>\n",
              "      <th>rez_esc</th>\n",
              "      <td>7928</td>\n",
              "      <td>82.954902</td>\n",
              "    </tr>\n",
              "    <tr>\n",
              "      <th>v18q1</th>\n",
              "      <td>7342</td>\n",
              "      <td>76.823271</td>\n",
              "    </tr>\n",
              "    <tr>\n",
              "      <th>v2a1</th>\n",
              "      <td>6860</td>\n",
              "      <td>71.779847</td>\n",
              "    </tr>\n",
              "    <tr>\n",
              "      <th>SQBmeaned</th>\n",
              "      <td>5</td>\n",
              "      <td>0.052318</td>\n",
              "    </tr>\n",
              "    <tr>\n",
              "      <th>meaneduc</th>\n",
              "      <td>5</td>\n",
              "      <td>0.052318</td>\n",
              "    </tr>\n",
              "    <tr>\n",
              "      <th>Id</th>\n",
              "      <td>0</td>\n",
              "      <td>0.000000</td>\n",
              "    </tr>\n",
              "    <tr>\n",
              "      <th>hogar_adul</th>\n",
              "      <td>0</td>\n",
              "      <td>0.000000</td>\n",
              "    </tr>\n",
              "    <tr>\n",
              "      <th>parentesco10</th>\n",
              "      <td>0</td>\n",
              "      <td>0.000000</td>\n",
              "    </tr>\n",
              "    <tr>\n",
              "      <th>parentesco11</th>\n",
              "      <td>0</td>\n",
              "      <td>0.000000</td>\n",
              "    </tr>\n",
              "    <tr>\n",
              "      <th>parentesco12</th>\n",
              "      <td>0</td>\n",
              "      <td>0.000000</td>\n",
              "    </tr>\n",
              "    <tr>\n",
              "      <th>idhogar</th>\n",
              "      <td>0</td>\n",
              "      <td>0.000000</td>\n",
              "    </tr>\n",
              "    <tr>\n",
              "      <th>hogar_nin</th>\n",
              "      <td>0</td>\n",
              "      <td>0.000000</td>\n",
              "    </tr>\n",
              "    <tr>\n",
              "      <th>dependency</th>\n",
              "      <td>0</td>\n",
              "      <td>0.000000</td>\n",
              "    </tr>\n",
              "    <tr>\n",
              "      <th>hogar_mayor</th>\n",
              "      <td>0</td>\n",
              "      <td>0.000000</td>\n",
              "    </tr>\n",
              "    <tr>\n",
              "      <th>hogar_total</th>\n",
              "      <td>0</td>\n",
              "      <td>0.000000</td>\n",
              "    </tr>\n",
              "    <tr>\n",
              "      <th>edjefe</th>\n",
              "      <td>0</td>\n",
              "      <td>0.000000</td>\n",
              "    </tr>\n",
              "    <tr>\n",
              "      <th>edjefa</th>\n",
              "      <td>0</td>\n",
              "      <td>0.000000</td>\n",
              "    </tr>\n",
              "    <tr>\n",
              "      <th>instlevel1</th>\n",
              "      <td>0</td>\n",
              "      <td>0.000000</td>\n",
              "    </tr>\n",
              "    <tr>\n",
              "      <th>instlevel2</th>\n",
              "      <td>0</td>\n",
              "      <td>0.000000</td>\n",
              "    </tr>\n",
              "    <tr>\n",
              "      <th>parentesco9</th>\n",
              "      <td>0</td>\n",
              "      <td>0.000000</td>\n",
              "    </tr>\n",
              "  </tbody>\n",
              "</table>\n",
              "</div>\n",
              "      <button class=\"colab-df-convert\" onclick=\"convertToInteractive('df-33b61298-5bf3-42c1-831b-c5cb0239af85')\"\n",
              "              title=\"Convert this dataframe to an interactive table.\"\n",
              "              style=\"display:none;\">\n",
              "        \n",
              "  <svg xmlns=\"http://www.w3.org/2000/svg\" height=\"24px\"viewBox=\"0 0 24 24\"\n",
              "       width=\"24px\">\n",
              "    <path d=\"M0 0h24v24H0V0z\" fill=\"none\"/>\n",
              "    <path d=\"M18.56 5.44l.94 2.06.94-2.06 2.06-.94-2.06-.94-.94-2.06-.94 2.06-2.06.94zm-11 1L8.5 8.5l.94-2.06 2.06-.94-2.06-.94L8.5 2.5l-.94 2.06-2.06.94zm10 10l.94 2.06.94-2.06 2.06-.94-2.06-.94-.94-2.06-.94 2.06-2.06.94z\"/><path d=\"M17.41 7.96l-1.37-1.37c-.4-.4-.92-.59-1.43-.59-.52 0-1.04.2-1.43.59L10.3 9.45l-7.72 7.72c-.78.78-.78 2.05 0 2.83L4 21.41c.39.39.9.59 1.41.59.51 0 1.02-.2 1.41-.59l7.78-7.78 2.81-2.81c.8-.78.8-2.07 0-2.86zM5.41 20L4 18.59l7.72-7.72 1.47 1.35L5.41 20z\"/>\n",
              "  </svg>\n",
              "      </button>\n",
              "      \n",
              "  <style>\n",
              "    .colab-df-container {\n",
              "      display:flex;\n",
              "      flex-wrap:wrap;\n",
              "      gap: 12px;\n",
              "    }\n",
              "\n",
              "    .colab-df-convert {\n",
              "      background-color: #E8F0FE;\n",
              "      border: none;\n",
              "      border-radius: 50%;\n",
              "      cursor: pointer;\n",
              "      display: none;\n",
              "      fill: #1967D2;\n",
              "      height: 32px;\n",
              "      padding: 0 0 0 0;\n",
              "      width: 32px;\n",
              "    }\n",
              "\n",
              "    .colab-df-convert:hover {\n",
              "      background-color: #E2EBFA;\n",
              "      box-shadow: 0px 1px 2px rgba(60, 64, 67, 0.3), 0px 1px 3px 1px rgba(60, 64, 67, 0.15);\n",
              "      fill: #174EA6;\n",
              "    }\n",
              "\n",
              "    [theme=dark] .colab-df-convert {\n",
              "      background-color: #3B4455;\n",
              "      fill: #D2E3FC;\n",
              "    }\n",
              "\n",
              "    [theme=dark] .colab-df-convert:hover {\n",
              "      background-color: #434B5C;\n",
              "      box-shadow: 0px 1px 3px 1px rgba(0, 0, 0, 0.15);\n",
              "      filter: drop-shadow(0px 1px 2px rgba(0, 0, 0, 0.3));\n",
              "      fill: #FFFFFF;\n",
              "    }\n",
              "  </style>\n",
              "\n",
              "      <script>\n",
              "        const buttonEl =\n",
              "          document.querySelector('#df-33b61298-5bf3-42c1-831b-c5cb0239af85 button.colab-df-convert');\n",
              "        buttonEl.style.display =\n",
              "          google.colab.kernel.accessAllowed ? 'block' : 'none';\n",
              "\n",
              "        async function convertToInteractive(key) {\n",
              "          const element = document.querySelector('#df-33b61298-5bf3-42c1-831b-c5cb0239af85');\n",
              "          const dataTable =\n",
              "            await google.colab.kernel.invokeFunction('convertToInteractive',\n",
              "                                                     [key], {});\n",
              "          if (!dataTable) return;\n",
              "\n",
              "          const docLinkHtml = 'Like what you see? Visit the ' +\n",
              "            '<a target=\"_blank\" href=https://colab.research.google.com/notebooks/data_table.ipynb>data table notebook</a>'\n",
              "            + ' to learn more about interactive tables.';\n",
              "          element.innerHTML = '';\n",
              "          dataTable['output_type'] = 'display_data';\n",
              "          await google.colab.output.renderOutput(dataTable, element);\n",
              "          const docLink = document.createElement('div');\n",
              "          docLink.innerHTML = docLinkHtml;\n",
              "          element.appendChild(docLink);\n",
              "        }\n",
              "      </script>\n",
              "    </div>\n",
              "  </div>\n",
              "  "
            ]
          },
          "metadata": {},
          "execution_count": 12
        }
      ]
    },
    {
      "cell_type": "markdown",
      "source": [
        "### 1.4 Filll missing values"
      ],
      "metadata": {
        "id": "bTdUhaZ-tTeg"
      }
    },
    {
      "cell_type": "code",
      "source": [
        "# if education is \"yes\" and person is head of household, fill with escolari\n",
        "df_train.loc[(df_train['edjefa'] == \"yes\") & (df_train['parentesco1'] == 1), \"edjefa\"] = df_train.loc[(df_train['edjefa'] == \"yes\") & (df_train['parentesco1'] == 1), \"escolari\"]\n",
        "df_train.loc[(df_train['edjefe'] == \"yes\") & (df_train['parentesco1'] == 1), \"edjefe\"] = df_train.loc[(df_train['edjefe'] == \"yes\") & (df_train['parentesco1'] == 1), \"escolari\"]\n",
        "\n",
        "df_test.loc[(df_test['edjefa'] == \"yes\") & (df_test['parentesco1'] == 1), \"edjefa\"] = df_test.loc[(df_test['edjefa'] == \"yes\") & (df_test['parentesco1'] == 1), \"escolari\"]\n",
        "df_test.loc[(df_test['edjefe'] == \"yes\") & (df_test['parentesco1'] == 1), \"edjefe\"] = df_test.loc[(df_test['edjefe'] == \"yes\") & (df_test['parentesco1'] == 1), \"escolari\"]\n",
        "\n",
        "# this field is supposed to be interaction between gender and escolari, but it isn't clear what \"yes\" means, let's fill it with 4\n",
        "df_train.loc[df_train['edjefa'] == \"yes\", \"edjefa\"] = 4\n",
        "df_train.loc[df_train['edjefe'] == \"yes\", \"edjefe\"] = 4\n",
        "\n",
        "df_test.loc[df_test['edjefa'] == \"yes\", \"edjefa\"] = 4\n",
        "df_test.loc[df_test['edjefe'] == \"yes\", \"edjefe\"] = 4\n",
        "\n",
        "# create feature with max education of either head of household\n",
        "df_train['edjef'] = np.max(df_train[['edjefa','edjefe']], axis=1)\n",
        "df_test['edjef'] = np.max(df_test[['edjefa','edjefe']], axis=1)\n",
        "\n",
        "# fix some inconsistencies in the data - some rows indicate both that the household does and does not have a toilet, \n",
        "# if there is no water we'll assume they do not\n",
        "df_train.loc[(df_train.v14a ==  1) & (df_train.sanitario1 ==  1) & (df_train.abastaguano == 0), \"v14a\"] = 0\n",
        "df_train.loc[(df_train.v14a ==  1) & (df_train.sanitario1 ==  1) & (df_train.abastaguano == 0), \"sanitario1\"] = 0\n",
        "\n",
        "df_test.loc[(df_test.v14a ==  1) & (df_test.sanitario1 ==  1) & (df_test.abastaguano == 0), \"v14a\"] = 0\n",
        "df_test.loc[(df_test.v14a ==  1) & (df_test.sanitario1 ==  1) & (df_test.abastaguano == 0), \"sanitario1\"] = 0"
      ],
      "metadata": {
        "id": "bM9uenSKtTS6"
      },
      "execution_count": 13,
      "outputs": []
    },
    {
      "cell_type": "code",
      "source": [
        "# rez_esc : 학창시절 몇년 뒤는 0으로 채운다.\n",
        "df_train['rez_esc'].fillna(0, inplace=True)\n",
        "df_test['rez_esc'].fillna(0, inplace=True)"
      ],
      "metadata": {
        "id": "1sg22blIsj8j"
      },
      "execution_count": 14,
      "outputs": []
    },
    {
      "cell_type": "code",
      "source": [
        "# SQBmeaned : 가장의 평균 교육 년수가 없으면 0으로 채운다.\n",
        "# series 형식으로 추출 후 fillna 메서드 적용 \n",
        "df_train['SQBmeaned'].fillna(0, inplace=True)\n",
        "df_test['SQBmeaned'].fillna(0, inplace=True)"
      ],
      "metadata": {
        "id": "usHM3Z_BuT9L"
      },
      "execution_count": 15,
      "outputs": []
    },
    {
      "cell_type": "code",
      "source": [
        "# meaneduc : 평균 교육 년수가 없다면 0으로 채운다.\n",
        "df_train['meaneduc'].fillna(0, inplace=True)\n",
        "df_test['meaneduc'].fillna(0, inplace=True)\n"
      ],
      "metadata": {
        "id": "irdjU0Z5vJ97"
      },
      "execution_count": 16,
      "outputs": []
    },
    {
      "cell_type": "code",
      "source": [
        "#태블릿 있으면 1 없으면 0\n",
        "df_train['v18q'].value_counts()"
      ],
      "metadata": {
        "colab": {
          "base_uri": "https://localhost:8080/"
        },
        "id": "N1HqWwa9vPW6",
        "outputId": "27228fda-086f-4fef-c7ac-fe67d289bf35"
      },
      "execution_count": 17,
      "outputs": [
        {
          "output_type": "execute_result",
          "data": {
            "text/plain": [
              "0    7342\n",
              "1    2215\n",
              "Name: v18q, dtype: int64"
            ]
          },
          "metadata": {},
          "execution_count": 17
        }
      ]
    },
    {
      "cell_type": "code",
      "source": [
        "#태블릿 있는 사람중, 몇개있나\n",
        "df_train.loc[df_train['v18q'] == 1, 'v18q1'].value_counts()"
      ],
      "metadata": {
        "colab": {
          "base_uri": "https://localhost:8080/"
        },
        "id": "lgZjReNYvS1T",
        "outputId": "89d9ea43-a43c-4d8a-82a5-f7e53d91b0f1"
      },
      "execution_count": 18,
      "outputs": [
        {
          "output_type": "execute_result",
          "data": {
            "text/plain": [
              "1.0    1586\n",
              "2.0     444\n",
              "3.0     129\n",
              "4.0      37\n",
              "5.0      13\n",
              "6.0       6\n",
              "Name: v18q1, dtype: int64"
            ]
          },
          "metadata": {},
          "execution_count": 18
        }
      ]
    },
    {
      "cell_type": "code",
      "source": [
        "#태블릿 없다고 (NaN) 나온 사람 중 갯수에 잡힌사람이 있나 없나 검사(데이터 중복성 검사?)\n",
        "df_train.loc[df_train['v18q'] == 0, 'v18q1'].value_counts()"
      ],
      "metadata": {
        "colab": {
          "base_uri": "https://localhost:8080/"
        },
        "id": "fJE5uP1SwJWe",
        "outputId": "e661e1a9-aaf4-4c9b-a7fa-9923a227d431"
      },
      "execution_count": 19,
      "outputs": [
        {
          "output_type": "execute_result",
          "data": {
            "text/plain": [
              "Series([], Name: v18q1, dtype: int64)"
            ]
          },
          "metadata": {},
          "execution_count": 19
        }
      ]
    },
    {
      "cell_type": "code",
      "source": [
        "df_train['v18q1'].fillna(0, inplace=True)\n",
        "df_test['v18q1'].fillna(0, inplace=True)"
      ],
      "metadata": {
        "id": "3NGtsAerwRjD"
      },
      "execution_count": 20,
      "outputs": []
    },
    {
      "cell_type": "code",
      "source": [
        "#집이 임대(전,월세)인 사람\n",
        "df_train['tipovivi3'].value_counts()"
      ],
      "metadata": {
        "colab": {
          "base_uri": "https://localhost:8080/"
        },
        "id": "PS3KWUciw1Cb",
        "outputId": "9fec85fe-9536-4edf-8fb7-3f6e80b84394"
      },
      "execution_count": 21,
      "outputs": [
        {
          "output_type": "execute_result",
          "data": {
            "text/plain": [
              "0    7821\n",
              "1    1736\n",
              "Name: tipovivi3, dtype: int64"
            ]
          },
          "metadata": {},
          "execution_count": 21
        }
      ]
    },
    {
      "cell_type": "code",
      "source": [
        "# 집이 임대인 사람중 태블릿의 소유여부 밀도함수\n",
        "sns.kdeplot(df_train.loc[df_train['tipovivi3'] == 1, 'v2a1'], label='Monthly rent payment of household(rented=1)')\n",
        "sns.kdeplot(df_train.loc[df_train['tipovivi3'] == 0, 'v2a1'], label='Monthly rent payment of household(rented=0)')\n",
        "plt.xscale('log')\n",
        "plt.legend()\n",
        "plt.show()"
      ],
      "metadata": {
        "colab": {
          "base_uri": "https://localhost:8080/",
          "height": 0
        },
        "id": "BQK1ALNNxG0D",
        "outputId": "ce1e2397-d50d-49ec-eff0-a63a94dfc7b9"
      },
      "execution_count": 22,
      "outputs": [
        {
          "output_type": "display_data",
          "data": {
            "text/plain": [
              "<Figure size 576x396 with 1 Axes>"
            ],
            "image/png": "[encoded data removed]"
          },
          "metadata": {}
        }
      ]
    },
    {
      "cell_type": "code",
      "source": [
        "df_train['v2a1'].fillna(0, inplace=True)\n",
        "df_test['v2a1'].fillna(0, inplace=True)"
      ],
      "metadata": {
        "id": "PU-SbKAoxu8N"
      },
      "execution_count": 23,
      "outputs": []
    },
    {
      "cell_type": "code",
      "source": [
        "# edjef만 제외하고 나머지 특성의 null값은 정리함.(근데 이게 무슨말이지???null값의 모든 행의 갯수\n",
        "\n",
        "total = df_train.isnull().sum().sort_values(ascending=False)\n",
        "percent = 100 * (df_train.isnull().sum() / df_train.isnull().count()).sort_values(ascending=False)\n",
        "missing_df = pd.concat([total, percent], axis=1, keys=['Total', 'Percent'])\n",
        "\n",
        "missing_df.head(20)"
      ],
      "metadata": {
        "colab": {
          "base_uri": "https://localhost:8080/",
          "height": 0
        },
        "id": "1Rldd2C2yVxa",
        "outputId": "0281fa2c-1fab-440c-f08a-08f71a850cad"
      },
      "execution_count": 24,
      "outputs": [
        {
          "output_type": "execute_result",
          "data": {
            "text/plain": [
              "              Total  Percent\n",
              "edjef          9557    100.0\n",
              "v2a1              0      0.0\n",
              "parentesco10      0      0.0\n",
              "parentesco11      0      0.0\n",
              "parentesco12      0      0.0\n",
              "idhogar           0      0.0\n",
              "hogar_nin         0      0.0\n",
              "hogar_adul        0      0.0\n",
              "hogar_mayor       0      0.0\n",
              "hogar_total       0      0.0\n",
              "dependency        0      0.0\n",
              "edjefe            0      0.0\n",
              "edjefa            0      0.0\n",
              "meaneduc          0      0.0\n",
              "instlevel1        0      0.0\n",
              "instlevel2        0      0.0\n",
              "instlevel3        0      0.0\n",
              "parentesco9       0      0.0\n",
              "parentesco8       0      0.0\n",
              "parentesco7       0      0.0"
            ],
            "text/html": [
              "\n",
              "  <div id=\"df-f26aa955-17ca-4c83-8c83-f9325d5a9dc7\">\n",
              "    <div class=\"colab-df-container\">\n",
              "      <div>\n",
              "<style scoped>\n",
              "    .dataframe tbody tr th:only-of-type {\n",
              "        vertical-align: middle;\n",
              "    }\n",
              "\n",
              "    .dataframe tbody tr th {\n",
              "        vertical-align: top;\n",
              "    }\n",
              "\n",
              "    .dataframe thead th {\n",
              "        text-align: right;\n",
              "    }\n",
              "</style>\n",
              "<table border=\"1\" class=\"dataframe\">\n",
              "  <thead>\n",
              "    <tr style=\"text-align: right;\">\n",
              "      <th></th>\n",
              "      <th>Total</th>\n",
              "      <th>Percent</th>\n",
              "    </tr>\n",
              "  </thead>\n",
              "  <tbody>\n",
              "    <tr>\n",
              "      <th>edjef</th>\n",
              "      <td>9557</td>\n",
              "      <td>100.0</td>\n",
              "    </tr>\n",
              "    <tr>\n",
              "      <th>v2a1</th>\n",
              "      <td>0</td>\n",
              "      <td>0.0</td>\n",
              "    </tr>\n",
              "    <tr>\n",
              "      <th>parentesco10</th>\n",
              "      <td>0</td>\n",
              "      <td>0.0</td>\n",
              "    </tr>\n",
              "    <tr>\n",
              "      <th>parentesco11</th>\n",
              "      <td>0</td>\n",
              "      <td>0.0</td>\n",
              "    </tr>\n",
              "    <tr>\n",
              "      <th>parentesco12</th>\n",
              "      <td>0</td>\n",
              "      <td>0.0</td>\n",
              "    </tr>\n",
              "    <tr>\n",
              "      <th>idhogar</th>\n",
              "      <td>0</td>\n",
              "      <td>0.0</td>\n",
              "    </tr>\n",
              "    <tr>\n",
              "      <th>hogar_nin</th>\n",
              "      <td>0</td>\n",
              "      <td>0.0</td>\n",
              "    </tr>\n",
              "    <tr>\n",
              "      <th>hogar_adul</th>\n",
              "      <td>0</td>\n",
              "      <td>0.0</td>\n",
              "    </tr>\n",
              "    <tr>\n",
              "      <th>hogar_mayor</th>\n",
              "      <td>0</td>\n",
              "      <td>0.0</td>\n",
              "    </tr>\n",
              "    <tr>\n",
              "      <th>hogar_total</th>\n",
              "      <td>0</td>\n",
              "      <td>0.0</td>\n",
              "    </tr>\n",
              "    <tr>\n",
              "      <th>dependency</th>\n",
              "      <td>0</td>\n",
              "      <td>0.0</td>\n",
              "    </tr>\n",
              "    <tr>\n",
              "      <th>edjefe</th>\n",
              "      <td>0</td>\n",
              "      <td>0.0</td>\n",
              "    </tr>\n",
              "    <tr>\n",
              "      <th>edjefa</th>\n",
              "      <td>0</td>\n",
              "      <td>0.0</td>\n",
              "    </tr>\n",
              "    <tr>\n",
              "      <th>meaneduc</th>\n",
              "      <td>0</td>\n",
              "      <td>0.0</td>\n",
              "    </tr>\n",
              "    <tr>\n",
              "      <th>instlevel1</th>\n",
              "      <td>0</td>\n",
              "      <td>0.0</td>\n",
              "    </tr>\n",
              "    <tr>\n",
              "      <th>instlevel2</th>\n",
              "      <td>0</td>\n",
              "      <td>0.0</td>\n",
              "    </tr>\n",
              "    <tr>\n",
              "      <th>instlevel3</th>\n",
              "      <td>0</td>\n",
              "      <td>0.0</td>\n",
              "    </tr>\n",
              "    <tr>\n",
              "      <th>parentesco9</th>\n",
              "      <td>0</td>\n",
              "      <td>0.0</td>\n",
              "    </tr>\n",
              "    <tr>\n",
              "      <th>parentesco8</th>\n",
              "      <td>0</td>\n",
              "      <td>0.0</td>\n",
              "    </tr>\n",
              "    <tr>\n",
              "      <th>parentesco7</th>\n",
              "      <td>0</td>\n",
              "      <td>0.0</td>\n",
              "    </tr>\n",
              "  </tbody>\n",
              "</table>\n",
              "</div>\n",
              "      <button class=\"colab-df-convert\" onclick=\"convertToInteractive('df-f26aa955-17ca-4c83-8c83-f9325d5a9dc7')\"\n",
              "              title=\"Convert this dataframe to an interactive table.\"\n",
              "              style=\"display:none;\">\n",
              "        \n",
              "  <svg xmlns=\"http://www.w3.org/2000/svg\" height=\"24px\"viewBox=\"0 0 24 24\"\n",
              "       width=\"24px\">\n",
              "    <path d=\"M0 0h24v24H0V0z\" fill=\"none\"/>\n",
              "    <path d=\"M18.56 5.44l.94 2.06.94-2.06 2.06-.94-2.06-.94-.94-2.06-.94 2.06-2.06.94zm-11 1L8.5 8.5l.94-2.06 2.06-.94-2.06-.94L8.5 2.5l-.94 2.06-2.06.94zm10 10l.94 2.06.94-2.06 2.06-.94-2.06-.94-.94-2.06-.94 2.06-2.06.94z\"/><path d=\"M17.41 7.96l-1.37-1.37c-.4-.4-.92-.59-1.43-.59-.52 0-1.04.2-1.43.59L10.3 9.45l-7.72 7.72c-.78.78-.78 2.05 0 2.83L4 21.41c.39.39.9.59 1.41.59.51 0 1.02-.2 1.41-.59l7.78-7.78 2.81-2.81c.8-.78.8-2.07 0-2.86zM5.41 20L4 18.59l7.72-7.72 1.47 1.35L5.41 20z\"/>\n",
              "  </svg>\n",
              "      </button>\n",
              "      \n",
              "  <style>\n",
              "    .colab-df-container {\n",
              "      display:flex;\n",
              "      flex-wrap:wrap;\n",
              "      gap: 12px;\n",
              "    }\n",
              "\n",
              "    .colab-df-convert {\n",
              "      background-color: #E8F0FE;\n",
              "      border: none;\n",
              "      border-radius: 50%;\n",
              "      cursor: pointer;\n",
              "      display: none;\n",
              "      fill: #1967D2;\n",
              "      height: 32px;\n",
              "      padding: 0 0 0 0;\n",
              "      width: 32px;\n",
              "    }\n",
              "\n",
              "    .colab-df-convert:hover {\n",
              "      background-color: #E2EBFA;\n",
              "      box-shadow: 0px 1px 2px rgba(60, 64, 67, 0.3), 0px 1px 3px 1px rgba(60, 64, 67, 0.15);\n",
              "      fill: #174EA6;\n",
              "    }\n",
              "\n",
              "    [theme=dark] .colab-df-convert {\n",
              "      background-color: #3B4455;\n",
              "      fill: #D2E3FC;\n",
              "    }\n",
              "\n",
              "    [theme=dark] .colab-df-convert:hover {\n",
              "      background-color: #434B5C;\n",
              "      box-shadow: 0px 1px 3px 1px rgba(0, 0, 0, 0.15);\n",
              "      filter: drop-shadow(0px 1px 2px rgba(0, 0, 0, 0.3));\n",
              "      fill: #FFFFFF;\n",
              "    }\n",
              "  </style>\n",
              "\n",
              "      <script>\n",
              "        const buttonEl =\n",
              "          document.querySelector('#df-f26aa955-17ca-4c83-8c83-f9325d5a9dc7 button.colab-df-convert');\n",
              "        buttonEl.style.display =\n",
              "          google.colab.kernel.accessAllowed ? 'block' : 'none';\n",
              "\n",
              "        async function convertToInteractive(key) {\n",
              "          const element = document.querySelector('#df-f26aa955-17ca-4c83-8c83-f9325d5a9dc7');\n",
              "          const dataTable =\n",
              "            await google.colab.kernel.invokeFunction('convertToInteractive',\n",
              "                                                     [key], {});\n",
              "          if (!dataTable) return;\n",
              "\n",
              "          const docLinkHtml = 'Like what you see? Visit the ' +\n",
              "            '<a target=\"_blank\" href=https://colab.research.google.com/notebooks/data_table.ipynb>data table notebook</a>'\n",
              "            + ' to learn more about interactive tables.';\n",
              "          element.innerHTML = '';\n",
              "          dataTable['output_type'] = 'display_data';\n",
              "          await google.colab.output.renderOutput(dataTable, element);\n",
              "          const docLink = document.createElement('div');\n",
              "          docLink.innerHTML = docLinkHtml;\n",
              "          element.appendChild(docLink);\n",
              "        }\n",
              "      </script>\n",
              "    </div>\n",
              "  </div>\n",
              "  "
            ]
          },
          "metadata": {},
          "execution_count": 24
        }
      ]
    },
    {
      "cell_type": "code",
      "source": [
        "#왜 100%인지??? test값에 null값이 아닌 값도 있는데???\n",
        "\n",
        "total = df_test.isnull().sum().sort_values(ascending=False)\n",
        "percent = 100 * (df_test.isnull().sum() / df_test.isnull().count()).sort_values(ascending=False)\n",
        "missing_df = pd.concat([total, percent], axis=1, keys=['Total', 'Percent'])\n",
        "\n",
        "missing_df.head(20)"
      ],
      "metadata": {
        "colab": {
          "base_uri": "https://localhost:8080/",
          "height": 0
        },
        "id": "Khyt0ynCyfEz",
        "outputId": "c18c94f6-6044-424a-8db3-95207cf5c40e"
      },
      "execution_count": 25,
      "outputs": [
        {
          "output_type": "execute_result",
          "data": {
            "text/plain": [
              "              Total  Percent\n",
              "edjef         23856    100.0\n",
              "hogar_mayor       0      0.0\n",
              "parentesco10      0      0.0\n",
              "parentesco11      0      0.0\n",
              "parentesco12      0      0.0\n",
              "idhogar           0      0.0\n",
              "hogar_nin         0      0.0\n",
              "hogar_adul        0      0.0\n",
              "hogar_total       0      0.0\n",
              "parentesco8       0      0.0\n",
              "dependency        0      0.0\n",
              "edjefe            0      0.0\n",
              "edjefa            0      0.0\n",
              "meaneduc          0      0.0\n",
              "instlevel1        0      0.0\n",
              "instlevel2        0      0.0\n",
              "parentesco9       0      0.0\n",
              "parentesco7       0      0.0\n",
              "instlevel4        0      0.0\n",
              "estadocivil5      0      0.0"
            ],
            "text/html": [
              "\n",
              "  <div id=\"df-0407334c-ccdc-4197-8c74-6b2207089667\">\n",
              "    <div class=\"colab-df-container\">\n",
              "      <div>\n",
              "<style scoped>\n",
              "    .dataframe tbody tr th:only-of-type {\n",
              "        vertical-align: middle;\n",
              "    }\n",
              "\n",
              "    .dataframe tbody tr th {\n",
              "        vertical-align: top;\n",
              "    }\n",
              "\n",
              "    .dataframe thead th {\n",
              "        text-align: right;\n",
              "    }\n",
              "</style>\n",
              "<table border=\"1\" class=\"dataframe\">\n",
              "  <thead>\n",
              "    <tr style=\"text-align: right;\">\n",
              "      <th></th>\n",
              "      <th>Total</th>\n",
              "      <th>Percent</th>\n",
              "    </tr>\n",
              "  </thead>\n",
              "  <tbody>\n",
              "    <tr>\n",
              "      <th>edjef</th>\n",
              "      <td>23856</td>\n",
              "      <td>100.0</td>\n",
              "    </tr>\n",
              "    <tr>\n",
              "      <th>hogar_mayor</th>\n",
              "      <td>0</td>\n",
              "      <td>0.0</td>\n",
              "    </tr>\n",
              "    <tr>\n",
              "      <th>parentesco10</th>\n",
              "      <td>0</td>\n",
              "      <td>0.0</td>\n",
              "    </tr>\n",
              "    <tr>\n",
              "      <th>parentesco11</th>\n",
              "      <td>0</td>\n",
              "      <td>0.0</td>\n",
              "    </tr>\n",
              "    <tr>\n",
              "      <th>parentesco12</th>\n",
              "      <td>0</td>\n",
              "      <td>0.0</td>\n",
              "    </tr>\n",
              "    <tr>\n",
              "      <th>idhogar</th>\n",
              "      <td>0</td>\n",
              "      <td>0.0</td>\n",
              "    </tr>\n",
              "    <tr>\n",
              "      <th>hogar_nin</th>\n",
              "      <td>0</td>\n",
              "      <td>0.0</td>\n",
              "    </tr>\n",
              "    <tr>\n",
              "      <th>hogar_adul</th>\n",
              "      <td>0</td>\n",
              "      <td>0.0</td>\n",
              "    </tr>\n",
              "    <tr>\n",
              "      <th>hogar_total</th>\n",
              "      <td>0</td>\n",
              "      <td>0.0</td>\n",
              "    </tr>\n",
              "    <tr>\n",
              "      <th>parentesco8</th>\n",
              "      <td>0</td>\n",
              "      <td>0.0</td>\n",
              "    </tr>\n",
              "    <tr>\n",
              "      <th>dependency</th>\n",
              "      <td>0</td>\n",
              "      <td>0.0</td>\n",
              "    </tr>\n",
              "    <tr>\n",
              "      <th>edjefe</th>\n",
              "      <td>0</td>\n",
              "      <td>0.0</td>\n",
              "    </tr>\n",
              "    <tr>\n",
              "      <th>edjefa</th>\n",
              "      <td>0</td>\n",
              "      <td>0.0</td>\n",
              "    </tr>\n",
              "    <tr>\n",
              "      <th>meaneduc</th>\n",
              "      <td>0</td>\n",
              "      <td>0.0</td>\n",
              "    </tr>\n",
              "    <tr>\n",
              "      <th>instlevel1</th>\n",
              "      <td>0</td>\n",
              "      <td>0.0</td>\n",
              "    </tr>\n",
              "    <tr>\n",
              "      <th>instlevel2</th>\n",
              "      <td>0</td>\n",
              "      <td>0.0</td>\n",
              "    </tr>\n",
              "    <tr>\n",
              "      <th>parentesco9</th>\n",
              "      <td>0</td>\n",
              "      <td>0.0</td>\n",
              "    </tr>\n",
              "    <tr>\n",
              "      <th>parentesco7</th>\n",
              "      <td>0</td>\n",
              "      <td>0.0</td>\n",
              "    </tr>\n",
              "    <tr>\n",
              "      <th>instlevel4</th>\n",
              "      <td>0</td>\n",
              "      <td>0.0</td>\n",
              "    </tr>\n",
              "    <tr>\n",
              "      <th>estadocivil5</th>\n",
              "      <td>0</td>\n",
              "      <td>0.0</td>\n",
              "    </tr>\n",
              "  </tbody>\n",
              "</table>\n",
              "</div>\n",
              "      <button class=\"colab-df-convert\" onclick=\"convertToInteractive('df-0407334c-ccdc-4197-8c74-6b2207089667')\"\n",
              "              title=\"Convert this dataframe to an interactive table.\"\n",
              "              style=\"display:none;\">\n",
              "        \n",
              "  <svg xmlns=\"http://www.w3.org/2000/svg\" height=\"24px\"viewBox=\"0 0 24 24\"\n",
              "       width=\"24px\">\n",
              "    <path d=\"M0 0h24v24H0V0z\" fill=\"none\"/>\n",
              "    <path d=\"M18.56 5.44l.94 2.06.94-2.06 2.06-.94-2.06-.94-.94-2.06-.94 2.06-2.06.94zm-11 1L8.5 8.5l.94-2.06 2.06-.94-2.06-.94L8.5 2.5l-.94 2.06-2.06.94zm10 10l.94 2.06.94-2.06 2.06-.94-2.06-.94-.94-2.06-.94 2.06-2.06.94z\"/><path d=\"M17.41 7.96l-1.37-1.37c-.4-.4-.92-.59-1.43-.59-.52 0-1.04.2-1.43.59L10.3 9.45l-7.72 7.72c-.78.78-.78 2.05 0 2.83L4 21.41c.39.39.9.59 1.41.59.51 0 1.02-.2 1.41-.59l7.78-7.78 2.81-2.81c.8-.78.8-2.07 0-2.86zM5.41 20L4 18.59l7.72-7.72 1.47 1.35L5.41 20z\"/>\n",
              "  </svg>\n",
              "      </button>\n",
              "      \n",
              "  <style>\n",
              "    .colab-df-container {\n",
              "      display:flex;\n",
              "      flex-wrap:wrap;\n",
              "      gap: 12px;\n",
              "    }\n",
              "\n",
              "    .colab-df-convert {\n",
              "      background-color: #E8F0FE;\n",
              "      border: none;\n",
              "      border-radius: 50%;\n",
              "      cursor: pointer;\n",
              "      display: none;\n",
              "      fill: #1967D2;\n",
              "      height: 32px;\n",
              "      padding: 0 0 0 0;\n",
              "      width: 32px;\n",
              "    }\n",
              "\n",
              "    .colab-df-convert:hover {\n",
              "      background-color: #E2EBFA;\n",
              "      box-shadow: 0px 1px 2px rgba(60, 64, 67, 0.3), 0px 1px 3px 1px rgba(60, 64, 67, 0.15);\n",
              "      fill: #174EA6;\n",
              "    }\n",
              "\n",
              "    [theme=dark] .colab-df-convert {\n",
              "      background-color: #3B4455;\n",
              "      fill: #D2E3FC;\n",
              "    }\n",
              "\n",
              "    [theme=dark] .colab-df-convert:hover {\n",
              "      background-color: #434B5C;\n",
              "      box-shadow: 0px 1px 3px 1px rgba(0, 0, 0, 0.15);\n",
              "      filter: drop-shadow(0px 1px 2px rgba(0, 0, 0, 0.3));\n",
              "      fill: #FFFFFF;\n",
              "    }\n",
              "  </style>\n",
              "\n",
              "      <script>\n",
              "        const buttonEl =\n",
              "          document.querySelector('#df-0407334c-ccdc-4197-8c74-6b2207089667 button.colab-df-convert');\n",
              "        buttonEl.style.display =\n",
              "          google.colab.kernel.accessAllowed ? 'block' : 'none';\n",
              "\n",
              "        async function convertToInteractive(key) {\n",
              "          const element = document.querySelector('#df-0407334c-ccdc-4197-8c74-6b2207089667');\n",
              "          const dataTable =\n",
              "            await google.colab.kernel.invokeFunction('convertToInteractive',\n",
              "                                                     [key], {});\n",
              "          if (!dataTable) return;\n",
              "\n",
              "          const docLinkHtml = 'Like what you see? Visit the ' +\n",
              "            '<a target=\"_blank\" href=https://colab.research.google.com/notebooks/data_table.ipynb>data table notebook</a>'\n",
              "            + ' to learn more about interactive tables.';\n",
              "          element.innerHTML = '';\n",
              "          dataTable['output_type'] = 'display_data';\n",
              "          await google.colab.output.renderOutput(dataTable, element);\n",
              "          const docLink = document.createElement('div');\n",
              "          docLink.innerHTML = docLinkHtml;\n",
              "          element.appendChild(docLink);\n",
              "        }\n",
              "      </script>\n",
              "    </div>\n",
              "  </div>\n",
              "  "
            ]
          },
          "metadata": {},
          "execution_count": 25
        }
      ]
    },
    {
      "cell_type": "markdown",
      "source": [
        "## 2. Feature engineering"
      ],
      "metadata": {
        "id": "57MxtSoa0fMg"
      }
    },
    {
      "cell_type": "markdown",
      "source": [
        "### 2.1 Object features"
      ],
      "metadata": {
        "id": "9tH813Ry0hGu"
      }
    },
    {
      "cell_type": "code",
      "source": [
        "features_object = [col for col in df_train.columns if df_train[col].dtype == 'object'] #data type가 object인 열을 반ㅎ환"
      ],
      "metadata": {
        "id": "e8wcZPXuzLMD"
      },
      "execution_count": 26,
      "outputs": []
    },
    {
      "cell_type": "code",
      "source": [
        "features_object"
      ],
      "metadata": {
        "colab": {
          "base_uri": "https://localhost:8080/"
        },
        "id": "0vB5sp762CjT",
        "outputId": "e8252637-ed3d-4fc5-a8f7-e47248516e86"
      },
      "execution_count": 27,
      "outputs": [
        {
          "output_type": "execute_result",
          "data": {
            "text/plain": [
              "['Id', 'idhogar', 'dependency', 'edjefe', 'edjefa']"
            ]
          },
          "metadata": {},
          "execution_count": 27
        }
      ]
    },
    {
      "cell_type": "markdown",
      "source": [
        "- dependecy\n",
        "\n",
        "데이터가 obeject데이터와 integer데이터가 공존하는 Series"
      ],
      "metadata": {
        "id": "0qQP0BTP2cTT"
      }
    },
    {
      "cell_type": "code",
      "source": [
        "# 첫번쨰 방법, some dependencies are Na, fill those with the square root of the square\n",
        "df_train['dependency'] = np.sqrt(df_train['SQBdependency'])\n",
        "df_test['dependency'] = np.sqrt(df_test['SQBdependency'])"
      ],
      "metadata": {
        "id": "wbBvEB_S2Vly"
      },
      "execution_count": 28,
      "outputs": []
    },
    {
      "cell_type": "code",
      "source": [
        "# df_train['dependency'] = df_train['dependency'].replace({np.inf: 0})\n",
        " # inf는 무한대를 나타낸다.\n",
        " # dependence에 만약 무한대 값이 있으면 이값을 0으로 바꾼다는 의미  \n",
        "# df_test['dependency'] = df_test['dependency'].replace({np.inf: 0})\n",
        "\n",
        "# 두번쨰 방법, 위에 제곱근을 취하는 방식과는 다른 방식으로 yes값이면 10 no이면 0을 대입 함\n",
        "# def replace_dependency(x):\n",
        "#     if x == 'yes':\n",
        "#         return 10\n",
        "#     elif x == 'no':\n",
        "#         return 0\n",
        "#     else:\n",
        "#         return x\n",
        "\n",
        "# df_train['dependency'] = df_train['dependency'].apply(replace_dependency).astype(float) #apply는 데이터 프레임에서 똑같은 형식의 데이터에서 내용만 변경된것을 입력할떄 사용하는 메서드\n",
        "# df_test['dependency'] = df_test['dependency'].apply(replace_dependency).astype(float)\n"
      ],
      "metadata": {
        "id": "yje0DA7-2hhT"
      },
      "execution_count": 29,
      "outputs": []
    },
    {
      "cell_type": "markdown",
      "source": [
        "### edjefe\n",
        "edjefe, years of education of male head of household, based on the interaction of escolari (years of education), head of household and gender, yes=1 and no=0\n",
        "replace yes -> 1 and no -> 0\n",
        "\n",
        "- edjefe 는 글자와 숫자가 혼합하는 Series\n",
        "- edjefe는 위의 dpendency처럼 제급값을 갖고 있는 데이터 시리즈가 없다 따라서 위의 두번쨰 방법처럼 1,0 으로 변경해서 object와 integer값이 혼합되어있는 데이터를 유리수만 있는 데이터로 변경한다."
      ],
      "metadata": {
        "id": "eJj3R79Z3gT4"
      }
    },
    {
      "cell_type": "code",
      "source": [
        "def replace_edjefe(x):\n",
        "    if x == 'yes':\n",
        "        return 1\n",
        "    elif x == 'no':\n",
        "        return 0\n",
        "    else:\n",
        "        return x\n",
        "\n",
        "df_train['edjefe'] = df_train['edjefe'].apply(replace_edjefe).astype(float)\n",
        "df_test['edjefe'] = df_test['edjefe'].apply(replace_edjefe).astype(float)"
      ],
      "metadata": {
        "id": "jakmeEhG3gw6"
      },
      "execution_count": 30,
      "outputs": []
    },
    {
      "cell_type": "markdown",
      "source": [
        "### edjefa\n",
        "edjefa, years of education of female head of household, based on the interaction of escolari (years of education), head of household and gender, yes=1 and no=0\n",
        "replace yes -> 1 and no -> 0"
      ],
      "metadata": {
        "id": "dGlaP_C-3n5R"
      }
    },
    {
      "cell_type": "code",
      "source": [
        "def replace_edjefa(x):\n",
        "    if x == 'yes': #yes면 1년이라고 가정.\n",
        "        return 1\n",
        "    elif x == 'no':\n",
        "        return 0\n",
        "    else:\n",
        "        return x\n",
        "\n",
        "df_train['edjefa'] = df_train['edjefa'].apply(replace_edjefa).astype(float)\n",
        "df_test['edjefa'] = df_test['edjefa'].apply(replace_edjefa).astype(float) #수의 특성으 바꾸는 메서드 (astype)\n",
        "                                                                          #apply메서드는 기존 dataframe을 신규데이터로 변경할때 사용(똑같은데이터 인데 형식만 변경)"
      ],
      "metadata": {
        "id": "nGyg3EGl3kSH"
      },
      "execution_count": 31,
      "outputs": []
    },
    {
      "cell_type": "code",
      "source": [
        "# 남자, 여자 중 더 높은 학력을 가진 사람만 추려서 특성을 만들어 낸다.\n",
        "# 큰꺽쇠 2개 있으면 추출, 1개있으면 Series값으로만 \n",
        "\n",
        "df_train['edjef'] = np.max(df_train[['edjefa','edjefe']], axis=1)\n",
        "df_test['edjef'] = np.max(df_test[['edjefa','edjefe']], axis=1)"
      ],
      "metadata": {
        "id": "md7GUfpt30ON"
      },
      "execution_count": 32,
      "outputs": []
    },
    {
      "cell_type": "markdown",
      "source": [
        "### roof and electricity"
      ],
      "metadata": {
        "id": "91b0-FSm33xX"
      }
    },
    {
      "cell_type": "code",
      "source": [
        "df_train['roof_waste_material'] = np.nan #nan : Not a number\n",
        "# Setting a column to all NaN values can be useful in cases where the data is missing or needs to be removed for analysis or modeling.\n",
        "# 신규의 데이터 Series를 만든다 column 명이 roof_waste_material\n",
        "df_test['roof_waste_material'] = np.nan\n",
        "df_train['electricity_other'] = np.nan\n",
        "df_test['electricity_other'] = np.nan\n",
        "\n",
        "def fill_roof_exception(x):\n",
        "    if (x['techozinc'] == 0) and (x['techoentrepiso'] == 0) and (x['techocane'] == 0) and (x['techootro'] == 0):\n",
        "        return 1\n",
        "    else:\n",
        "        return 0\n",
        "    #지붕의 주요 재료가 금속 포일 또는 징크가 아니고, \n",
        "    #지붕의 주요 재료가 섬유 시멘트, 메자닌인이 아니고\n",
        "    #지붕의 주요 재료가 천연 섬유가 아니고\n",
        "    #지붕의 주요 재료가 다르지 않은경우, 이 4가지 모두아닌 경우 return 값이 1이다. \n",
        "    # 즉,  fill_roof_exception 에서 0을 가지면 집의 소재에 대한 DATA가 있다는 의미이고 1이면 소재에 대한 데이터가 없다는 뜻이다.\n",
        "    \n",
        "def fill_no_electricity(x):\n",
        "    if (x['public'] == 0) and (x['planpri'] == 0) and (x['noelec'] == 0) and (x['coopele'] == 0):\n",
        "        return 1\n",
        "    else:\n",
        "        return 0\n",
        "\n",
        "df_train['roof_waste_material'] = df_train.apply(lambda x : fill_roof_exception(x),axis=1)\n",
        "df_test['roof_waste_material'] = df_test.apply(lambda x : fill_roof_exception(x),axis=1)\n",
        "df_train['electricity_other'] = df_train.apply(lambda x : fill_no_electricity(x),axis=1)\n",
        "df_test['electricity_other'] = df_test.apply(lambda x : fill_no_electricity(x),axis=1)"
      ],
      "metadata": {
        "id": "5NHmEzGE31Eq"
      },
      "execution_count": 33,
      "outputs": []
    },
    {
      "cell_type": "markdown",
      "source": [
        "### 2.2 Extract cat features\n",
        "According to data scription, there are many binary category features."
      ],
      "metadata": {
        "id": "cr37UW-24AYM"
      }
    },
    {
      "cell_type": "code",
      "source": [
        "binary_cat_features = [col for col in df_train.columns if df_train[col].value_counts().shape[0] == 2] #남, 녀 처럼 obect중 2가지 값만 가지고 있는 열을 이진 카테고리 특성 리스트라 부름\n"
      ],
      "metadata": {
        "id": "8W4GPRYD37Jx"
      },
      "execution_count": 34,
      "outputs": []
    },
    {
      "cell_type": "markdown",
      "source": [
        "### 2.3 Make new features using continuous feature"
      ],
      "metadata": {
        "id": "IlfldAIO4GTt"
      }
    },
    {
      "cell_type": "code",
      "source": [
        "continuous_features = [col for col in df_train.columns if col not in binary_cat_features] #이진 특성이 아니면 연속 특성\n",
        "continuous_features = [col for col in continuous_features if col not in features_object] #위의 feature object아니면 연속특성\n",
        "continuous_features = [col for col in continuous_features if col not in ['Id', 'Target', 'idhogar']] #고유값들이 아니여야 한다."
      ],
      "metadata": {
        "id": "X3EaEU6t4EBi"
      },
      "execution_count": 35,
      "outputs": []
    },
    {
      "cell_type": "code",
      "source": [
        "print('There are {} continuous features'.format(len(continuous_features)))\n",
        "for col in continuous_features:\n",
        "    print('{}: {}'.format(col, description.loc[description['varname'] == col, 'description'].values))\n",
        "\n",
        "    #.values : numpy 값으로 데이터를 출력한다.(왜그럴까)\n",
        "    #. values 없으면 \n",
        "    # v2a1: 0     Monthly rent payment\n",
        "    # Name: description, dtype: object  출력"
      ],
      "metadata": {
        "colab": {
          "base_uri": "https://localhost:8080/"
        },
        "id": "o8RpUJH94Ivq",
        "outputId": "f9ba5881-ecb6-4874-bffe-47f2a6d2543d"
      },
      "execution_count": 36,
      "outputs": [
        {
          "output_type": "stream",
          "name": "stdout",
          "text": [
            "There are 37 continuous features\n",
            "v2a1: [' Monthly rent payment']\n",
            "rooms: ['  number of all rooms in the house']\n",
            "v18q1: [' number of tablets household owns']\n",
            "r4h1: [' Males younger than 12 years of age']\n",
            "r4h2: [' Males 12 years of age and older']\n",
            "r4h3: [' Total males in the household']\n",
            "r4m1: [' Females younger than 12 years of age']\n",
            "r4m2: [' Females 12 years of age and older']\n",
            "r4m3: [' Total females in the household']\n",
            "r4t1: [' persons younger than 12 years of age']\n",
            "r4t2: [' persons 12 years of age and older']\n",
            "r4t3: [' Total persons in the household']\n",
            "tamhog: [' size of the household']\n",
            "tamviv: [' number of persons living in the household']\n",
            "escolari: [' years of schooling']\n",
            "rez_esc: [' Years behind in school']\n",
            "hhsize: [' household size']\n",
            "elimbasu5: [' =1 if rubbish disposal mainly by throwing in river,   creek or sea']\n",
            "hogar_nin: [' Number of children 0 to 19 in household']\n",
            "hogar_adul: [' Number of adults in household']\n",
            "hogar_mayor: [' # of individuals 65+ in the household']\n",
            "hogar_total: [' # of total individuals in the household']\n",
            "meaneduc: ['average years of education for adults (18+)']\n",
            "bedrooms: [' number of bedrooms']\n",
            "overcrowding: [' # persons per room']\n",
            "qmobilephone: [' # of mobile phones']\n",
            "age: [' Age in years']\n",
            "SQBescolari: [' escolari squared']\n",
            "SQBage: [' age squared']\n",
            "SQBhogar_total: [' hogar_total squared']\n",
            "SQBedjefe: [' edjefe squared']\n",
            "SQBhogar_nin: [' hogar_nin squared']\n",
            "SQBovercrowding: [' overcrowding squared']\n",
            "SQBdependency: [' dependency squared']\n",
            "SQBmeaned: [' meaned squared']\n",
            "agesq: [' Age squared']\n",
            "edjef: []\n"
          ]
        }
      ]
    },
    {
      "cell_type": "code",
      "source": [
        "#edjef는 위에서 신규로 만든 특성이므로 설명이 없다.\n",
        "df_train['edjef'].value_counts()"
      ],
      "metadata": {
        "id": "yBhSMZ_14KDK",
        "colab": {
          "base_uri": "https://localhost:8080/"
        },
        "outputId": "7e56e75c-d13e-465f-90d4-2813e1dfd09e"
      },
      "execution_count": 37,
      "outputs": [
        {
          "output_type": "execute_result",
          "data": {
            "text/plain": [
              "6.0     2792\n",
              "11.0    1150\n",
              "9.0      723\n",
              "8.0      474\n",
              "15.0     473\n",
              "3.0      459\n",
              "0.0      435\n",
              "7.0      413\n",
              "4.0      400\n",
              "5.0      398\n",
              "14.0     328\n",
              "17.0     278\n",
              "2.0      278\n",
              "16.0     247\n",
              "10.0     207\n",
              "12.0     185\n",
              "13.0     155\n",
              "1.0       65\n",
              "21.0      48\n",
              "18.0      22\n",
              "19.0      18\n",
              "20.0       9\n",
              "Name: edjef, dtype: int64"
            ]
          },
          "metadata": {},
          "execution_count": 37
        }
      ]
    },
    {
      "cell_type": "code",
      "source": [
        "#유사한 데이터 이므로 버림\n",
        "df_train.drop('tamhog', axis=1, inplace=True) #inplace=True 는 tamhog열을 버린후 신규 DataFrame을 만드는 것이아니라 기존의 DataFrame에서 작업진행\n",
        "df_test.drop('tamhog', axis=1, inplace=True)"
      ],
      "metadata": {
        "id": "py2CIjCtyWV3"
      },
      "execution_count": 38,
      "outputs": []
    },
    {
      "cell_type": "markdown",
      "source": [
        "- Family features (가족의 특성 재정의)\n",
        "\n",
        "\n",
        "hogar_nin, hogar_adul, hogar_mayor, hogar_total, r4h1, r4h2, r4h3, r4m1, r4m2, r4m3, r4t1, r4t2, r4t3, tmbhog, tamvid, rez_esc, escolari"
      ],
      "metadata": {
        "id": "U2344j8e13tO"
      }
    },
    {
      "cell_type": "code",
      "source": [
        "print(df_train['r4h1'].dtype)\n",
        "print(df_train['hogar_total'].dtype)"
      ],
      "metadata": {
        "colab": {
          "base_uri": "https://localhost:8080/"
        },
        "id": "xi1BqyrGWO4U",
        "outputId": "8b304f55-c6d3-4692-bfae-92af2b961df2"
      },
      "execution_count": 39,
      "outputs": [
        {
          "output_type": "stream",
          "name": "stdout",
          "text": [
            "int64\n",
            "int64\n"
          ]
        }
      ]
    },
    {
      "cell_type": "code",
      "source": [
        "df_train['adult'] = df_train['hogar_adul'] - df_train['hogar_mayor'] # adult를 새롭게 정의 ; 집안의 어른수 - 집안의 65세이상의 노인\n",
        "df_train['dependency_count'] = df_train['hogar_nin'] + df_train['hogar_mayor'] # 미성년자 + 65세 이상 노인\n",
        "df_train['dependency'] = df_train['dependency_count'] / df_train['adult']\n",
        "df_train['child_percent'] = df_train['hogar_nin'] / df_train['hogar_total']\n",
        "df_train['elder_percent'] = df_train['hogar_mayor'] / df_train['hogar_total']\n",
        "df_train['adult_percent'] = df_train['hogar_adul'] / df_train['hogar_total']\n",
        "df_train['males_younger_12_years_percent'] = df_train['r4h1'] / df_train['hogar_total']\n",
        "df_train['males_older_12_years_percent'] = df_train['r4h2'] / df_train['hogar_total']\n",
        "df_train['males_percent'] = df_train['r4h3'] / df_train['hogar_total']\n",
        "df_train['females_younger_12_years_percent'] = df_train['r4m1'] / df_train['hogar_total']\n",
        "df_train['females_older_12_years_percent'] = df_train['r4m2'] / df_train['hogar_total']\n",
        "df_train['females_percent'] = df_train['r4m3'] / df_train['hogar_total']\n",
        "df_train['persons_younger_12_years_percent'] = df_train['r4t1'] / df_train['hogar_total']\n",
        "df_train['persons_older_12_years_percent'] = df_train['r4t2'] / df_train['hogar_total']\n",
        "df_train['persons_percent'] = df_train['r4t3'] / df_train['hogar_total']"
      ],
      "metadata": {
        "id": "gMyW3SaG15rY"
      },
      "execution_count": 40,
      "outputs": []
    },
    {
      "cell_type": "code",
      "source": [
        "print(df_test['r4h1'].dtype)\n",
        "print(df_test['hogar_total'].dtype)"
      ],
      "metadata": {
        "colab": {
          "base_uri": "https://localhost:8080/"
        },
        "id": "6S2YovSfV-Us",
        "outputId": "215b9f45-4c58-409b-f529-85c0f2ccf40a"
      },
      "execution_count": 41,
      "outputs": [
        {
          "output_type": "stream",
          "name": "stdout",
          "text": [
            "int64\n",
            "int64\n"
          ]
        }
      ]
    },
    {
      "cell_type": "code",
      "source": [
        "df_test['adult'] = df_test['hogar_adul'] - df_test['hogar_mayor'] #test도 train 과 똑같이 진행\n",
        "df_test['dependency_count'] = df_test['hogar_nin'] + df_test['hogar_mayor']\n",
        "df_test['dependency'] = df_test['dependency_count'] / df_test['adult']\n",
        "df_test['child_percent'] = df_test['hogar_nin'] / df_test['hogar_total']\n",
        "df_test['elder_percent'] = df_test['hogar_mayor'] / df_test['hogar_total']\n",
        "df_test['adult_percent'] = df_test['hogar_adul'] / df_test['hogar_total']\n",
        "df_test['males_younger_12_years_percent'] = df_test['r4h1'] / df_test['hogar_total']\n",
        "df_test['males_older_12_years_percent'] = df_test['r4h2'] / df_test['hogar_total']\n",
        "df_test['males_percent'] = df_test['r4h3'] / df_test['hogar_total']\n",
        "df_test['females_younger_12_years_percent'] = df_test['r4m1'] / df_test['hogar_total']\n",
        "df_test['females_older_12_years_percent'] = df_test['r4m2'] / df_test['hogar_total']\n",
        "df_test['females_percent'] = df_test['r4m3'] / df_test['hogar_total']\n",
        "df_test['persons_younger_12_years_percent'] = df_test['r4t1'] / df_test['hogar_total']\n",
        "df_test['persons_older_12_years_percent'] = df_test['r4t2'] / df_test['hogar_total']\n",
        "df_test['persons_percent'] = df_test['r4t3'] / df_test['hogar_total']"
      ],
      "metadata": {
        "id": "crgNdni-2BrK"
      },
      "execution_count": 42,
      "outputs": []
    },
    {
      "cell_type": "code",
      "source": [
        "df_train['males_younger_12_years_in_household_size'] = df_train['r4h1'] / df_train['hhsize']\n",
        "df_train['males_older_12_years_in_household_size'] = df_train['r4h2'] / df_train['hhsize']\n",
        "df_train['males_in_household_size'] = df_train['r4h3'] / df_train['hhsize']\n",
        "df_train['females_younger_12_years_in_household_size'] = df_train['r4m1'] / df_train['hhsize']\n",
        "df_train['females_older_12_years_in_household_size'] = df_train['r4m2'] / df_train['hhsize']\n",
        "df_train['females_in_household_size'] = df_train['r4m3'] / df_train['hogar_total']\n",
        "df_train['persons_younger_12_years_in_household_size'] = df_train['r4t1'] / df_train['hhsize']\n",
        "df_train['persons_older_12_years_in_household_size'] = df_train['r4t2'] / df_train['hhsize']\n",
        "df_train['persons_in_household_size'] = df_train['r4t3'] / df_train['hhsize']"
      ],
      "metadata": {
        "id": "qA3SiN0I3an4"
      },
      "execution_count": 43,
      "outputs": []
    },
    {
      "cell_type": "code",
      "source": [
        "df_test['males_younger_12_years_in_household_size'] = df_test['r4h1'] / df_test['hhsize']\n",
        "df_test['males_older_12_years_in_household_size'] = df_test['r4h2'] / df_test['hhsize']\n",
        "df_test['males_in_household_size'] = df_test['r4h3'] / df_test['hhsize']\n",
        "df_test['females_younger_12_years_in_household_size'] = df_test['r4m1'] / df_test['hhsize']\n",
        "df_test['females_older_12_years_in_household_size'] = df_test['r4m2'] / df_test['hhsize']\n",
        "df_test['females_in_household_size'] = df_test['r4m3'] / df_test['hogar_total']\n",
        "df_test['persons_younger_12_years_in_household_size'] = df_test['r4t1'] / df_test['hhsize']\n",
        "df_test['persons_older_12_years_in_household_size'] = df_test['r4t2'] / df_test['hhsize']\n",
        "df_test['persons_in_household_size'] = df_test['r4t3'] / df_test['hhsize']"
      ],
      "metadata": {
        "id": "VI3DK7bFmz1l"
      },
      "execution_count": 44,
      "outputs": []
    },
    {
      "cell_type": "code",
      "source": [
        "df_train['overcrowding_room_and_bedroom'] = (df_train['hacdor'] + df_train['hacapo'])/2\n",
        "df_test['overcrowding_room_and_bedroom'] = (df_test['hacdor'] + df_test['hacapo'])/2"
      ],
      "metadata": {
        "id": "01ivX6R5m12A"
      },
      "execution_count": 45,
      "outputs": []
    },
    {
      "cell_type": "code",
      "source": [
        "df_train['escolari_age'] = df_train['escolari']/df_train['age']\n",
        "df_test['escolari_age'] = df_test['escolari']/df_test['age']\n",
        "\n",
        "df_train['age_12_19'] = df_train['hogar_nin'] - df_train['r4t1']\n",
        "df_test['age_12_19'] = df_test['hogar_nin'] - df_test['r4t1']  "
      ],
      "metadata": {
        "id": "y0GJ1lY_m3yv"
      },
      "execution_count": 46,
      "outputs": []
    },
    {
      "cell_type": "code",
      "source": [
        "df_train['phones-per-capita'] = df_train['qmobilephone'] / df_train['tamviv']\n",
        "df_train['tablets-per-capita'] = df_train['v18q1'] / df_train['tamviv']\n",
        "df_train['rooms-per-capita'] = df_train['rooms'] / df_train['tamviv']\n",
        "df_train['rent-per-capita'] = df_train['v2a1'] / df_train['tamviv']"
      ],
      "metadata": {
        "id": "WfjQxUzmm7DV"
      },
      "execution_count": 47,
      "outputs": []
    },
    {
      "cell_type": "code",
      "source": [
        "df_test['phones-per-capita'] = df_test['qmobilephone'] / df_test['tamviv']\n",
        "df_test['tablets-per-capita'] = df_test['v18q1'] / df_test['tamviv']\n",
        "df_test['rooms-per-capita'] = df_test['rooms'] / df_test['tamviv']\n",
        "df_test['rent-per-capita'] = df_test['v2a1'] / df_test['tamviv']"
      ],
      "metadata": {
        "id": "qAD2o_pRm8YM"
      },
      "execution_count": 48,
      "outputs": []
    },
    {
      "cell_type": "code",
      "source": [
        "(df_train['hogar_total'] == df_train['r4t3']).sum()\n",
        "# 9559개의 train data set 중 9509개의 데이터만 가구원의 총계와 집에 거주하는 인원 총계 값이 같다."
      ],
      "metadata": {
        "colab": {
          "base_uri": "https://localhost:8080/"
        },
        "id": "hJCHTl39oSGW",
        "outputId": "3df11dd3-c22e-4fb2-b2c1-2fbfdb2226a4"
      },
      "execution_count": 49,
      "outputs": [
        {
          "output_type": "execute_result",
          "data": {
            "text/plain": [
              "9509"
            ]
          },
          "metadata": {},
          "execution_count": 49
        }
      ]
    },
    {
      "cell_type": "markdown",
      "source": [
        "Rent per family features (특성 15개 추가)\n",
        "\n",
        "- I will reduce the number of features using shap, so let's generate many features!! Hope catch some fortune features :)"
      ],
      "metadata": {
        "id": "bm5Fz25Yqnt3"
      }
    },
    {
      "cell_type": "code",
      "source": [
        "family_size_features = ['adult', 'hogar_adul', 'hogar_mayor', 'hogar_nin', 'hogar_total', 'r4h1', \n",
        "                        'r4h2', 'r4h3', 'r4m1', 'r4m2', 'r4m3', 'r4t1', 'r4t2', 'r4t3', 'hhsize']\n",
        "new_feats = []\n",
        "for col in family_size_features:\n",
        "    new_col_name = 'new_{}_per_{}'.format('v2a1', col) #v2a1: Monthly rent payment\n",
        "    new_feats.append(new_col_name) #new_feats 라는 리스트에 새로운 열의 이름을 추가\n",
        "\n",
        "    df_train[new_col_name] = df_train['v2a1'] / df_train[col] #df_train에서 신규 열 추가 \n",
        "    df_test[new_col_name] = df_test['v2a1'] / df_test[col]"
      ],
      "metadata": {
        "id": "n47dQ2evoSEB"
      },
      "execution_count": 50,
      "outputs": []
    },
    {
      "cell_type": "code",
      "source": [
        "for col in new_feats:\n",
        "    df_train[col].replace([np.inf], np.nan, inplace=True)\n",
        "    #By replacing inf with NaN, this code effectively removes any infinite values from the specified column of df_train.\n",
        "    # inplace=True는 신규 DF를 만드는 것이 아니라 기존의 DF에 무한대 대신 0값으로 대체 한다는 의미\n",
        "    df_train[col].fillna(0, inplace=True)\n",
        "    # fillna() method fills any missing(공란) or NaN(숫자가 아닌경우) values with a specified scalar value.\n",
        "    df_test[col].replace([np.inf], np.nan, inplace=True)\n",
        "    df_test[col].fillna(0, inplace=True)"
      ],
      "metadata": {
        "id": "u2O4xmjVoSBu"
      },
      "execution_count": 51,
      "outputs": []
    },
    {
      "cell_type": "markdown",
      "source": [
        "Room per family features (특성 15개 추가)"
      ],
      "metadata": {
        "id": "OURgqdXvsjDK"
      }
    },
    {
      "cell_type": "code",
      "source": [
        "family_size_features = ['adult', 'hogar_adul', 'hogar_mayor', 'hogar_nin', 'hogar_total', 'r4h1', \n",
        "                        'r4h2', 'r4h3', 'r4m1', 'r4m2', 'r4m3', 'r4t1', 'r4t2', 'r4t3', 'hhsize']\n",
        "new_feats = []\n",
        "for col in family_size_features:\n",
        "    new_col_name = 'new_{}_per_{}'.format('rooms', col)\n",
        "    new_feats.append(new_col_name) #append는 리스트에 새로운 리스트 추가\n",
        "    df_train[new_col_name] = df_train['rooms'] / df_train[col]\n",
        "    df_test[new_col_name] = df_test['rooms'] / df_test[col]\n",
        "\n",
        "for col in new_feats:\n",
        "    df_train[col].replace([np.inf], np.nan, inplace=True) #무한대 값은 NaN으로 바꾸고 \n",
        "    df_train[col].fillna(0, inplace=True)                 # 숫자가 아닌 값(object, 빈칸)들은 0으로 바꾼다.\n",
        "    \n",
        "    df_test[col].replace([np.inf], np.nan, inplace=True)\n",
        "    df_test[col].fillna(0, inplace=True)"
      ],
      "metadata": {
        "id": "CV17FleRoR_P"
      },
      "execution_count": 52,
      "outputs": []
    },
    {
      "cell_type": "markdown",
      "source": [
        "BedRoom per family features (특성 15개 추가)\n"
      ],
      "metadata": {
        "id": "ec3pzuia4ZlN"
      }
    },
    {
      "cell_type": "code",
      "source": [
        "family_size_features = ['adult', 'hogar_adul', 'hogar_mayor', 'hogar_nin', 'hogar_total', 'r4h1', \n",
        "                        'r4h2', 'r4h3', 'r4m1', 'r4m2', 'r4m3', 'r4t1', 'r4t2', 'r4t3', 'hhsize']\n",
        "new_feats = []\n",
        "for col in family_size_features:\n",
        "    new_col_name = 'new_{}_per_{}'.format('rooms', col)\n",
        "    new_feats.append(new_col_name)\n",
        "    df_train[new_col_name] = df_train['rooms'] / df_train[col]\n",
        "    df_test[new_col_name] = df_test['rooms'] / df_test[col]\n",
        "\n",
        "for col in new_feats:\n",
        "    df_train[col].replace([np.inf], np.nan, inplace=True)\n",
        "    df_train[col].fillna(0, inplace=True)\n",
        "    \n",
        "    df_test[col].replace([np.inf], np.nan, inplace=True)\n",
        "    df_test[col].fillna(0, inplace=True)"
      ],
      "metadata": {
        "id": "lPH-aKq2oR8_"
      },
      "execution_count": 53,
      "outputs": []
    },
    {
      "cell_type": "code",
      "source": [
        "print(df_train.shape, df_test.shape)\n",
        "\n",
        "# df_train shape: (9557, 143) df_test shape:  (23856, 142)/ 기존 data보다 특성이 62개 늘었다."
      ],
      "metadata": {
        "colab": {
          "base_uri": "https://localhost:8080/"
        },
        "id": "wTMfwOoloR6d",
        "outputId": "9a0b083b-cf96-4057-d2fb-1ab93ccaacaa"
      },
      "execution_count": 54,
      "outputs": [
        {
          "output_type": "stream",
          "name": "stdout",
          "text": [
            "(9557, 205) (23856, 204)\n"
          ]
        }
      ]
    },
    {
      "cell_type": "markdown",
      "source": [
        "Tablet per family features"
      ],
      "metadata": {
        "id": "X1E89Wqp9elO"
      }
    },
    {
      "cell_type": "code",
      "source": [
        "new_feats = []\n",
        "family_size_features = ['adult', 'hogar_adul', 'hogar_mayor', 'hogar_nin', 'hogar_total', 'r4h1', \n",
        "                        'r4h2', 'r4h3', 'r4m1', 'r4m2', 'r4m3', 'r4t1', 'r4t2', 'r4t3', 'hhsize']\n",
        "                        \n",
        "for col in family_size_features:\n",
        "    new_col_name = 'new_{}_per_{}'.format('v18q1', col) # v18q1: number of tablets household owns\n",
        "    new_feats.append(new_col_name)\n",
        "    df_train[new_col_name] = df_train['v18q1'] / df_train[col]\n",
        "    df_test[new_col_name] = df_test['v18q1'] / df_test[col]\n",
        "\n",
        "for col in new_feats:\n",
        "    df_train[col].replace([np.inf], np.nan, inplace=True)\n",
        "    df_train[col].fillna(0, inplace=True)\n",
        "    \n",
        "    df_test[col].replace([np.inf], np.nan, inplace=True)\n",
        "    df_test[col].fillna(0, inplace=True)"
      ],
      "metadata": {
        "id": "W1MnJGmfoR3x"
      },
      "execution_count": 55,
      "outputs": []
    },
    {
      "cell_type": "markdown",
      "source": [
        "phone per family features"
      ],
      "metadata": {
        "id": "Qa3CFQcV_EV4"
      }
    },
    {
      "cell_type": "code",
      "source": [
        "new_feats = []\n",
        "for col in family_size_features:\n",
        "    new_col_name = 'new_{}_per_{}'.format('qmobilephone', col)\n",
        "    new_feats.append(new_col_name)\n",
        "    df_train[new_col_name] = df_train['qmobilephone'] / df_train[col]\n",
        "    df_test[new_col_name] = df_test['qmobilephone'] / df_test[col]\n",
        "\n",
        "for col in new_feats:\n",
        "    df_train[col].replace([np.inf], np.nan, inplace=True)\n",
        "    df_train[col].fillna(0, inplace=True)\n",
        "    \n",
        "    df_test[col].replace([np.inf], np.nan, inplace=True)\n",
        "    df_test[col].fillna(0, inplace=True)"
      ],
      "metadata": {
        "id": "jsDO2rpooR09"
      },
      "execution_count": 56,
      "outputs": []
    },
    {
      "cell_type": "markdown",
      "source": [
        "rez_esc(Years behind in school) per family features"
      ],
      "metadata": {
        "id": "LpTwCH95_LzQ"
      }
    },
    {
      "cell_type": "code",
      "source": [
        "new_feats = []\n",
        "for col in family_size_features:\n",
        "    new_col_name = 'new_{}_per_{}'.format('rez_esc', col)\n",
        "    new_feats.append(new_col_name)\n",
        "    df_train[new_col_name] = df_train['rez_esc'] / df_train[col]\n",
        "    df_test[new_col_name] = df_test['rez_esc'] / df_test[col]\n",
        "\n",
        "for col in new_feats:\n",
        "    df_train[col].replace([np.inf], np.nan, inplace=True)\n",
        "    df_train[col].fillna(0, inplace=True)\n",
        "    \n",
        "    df_test[col].replace([np.inf], np.nan, inplace=True)\n",
        "    df_test[col].fillna(0, inplace=True)"
      ],
      "metadata": {
        "id": "5KiRynPb_Lj_"
      },
      "execution_count": 57,
      "outputs": []
    },
    {
      "cell_type": "code",
      "source": [
        "df_train['rez_esc_age'] = df_train['rez_esc'] / df_train['age']\n",
        "df_train['rez_esc_escolari'] = df_train['rez_esc'] / df_train['escolari'] # 'escolari' : 평균 학습년도 \n",
        "                                                                          #              The global average is 8.7 years.     \n",
        "df_test['rez_esc_age'] = df_test['rez_esc'] / df_test['age']\n",
        "df_test['rez_esc_escolari'] = df_test['rez_esc'] / df_test['escolari']"
      ],
      "metadata": {
        "id": "nBmkFavvoRyV"
      },
      "execution_count": 58,
      "outputs": []
    },
    {
      "cell_type": "markdown",
      "source": [
        "Rich features\n",
        "\n",
        "-I think the more richer, the larger number of phones and tablet (가정)"
      ],
      "metadata": {
        "id": "hs0EN-oQARUy"
      }
    },
    {
      "cell_type": "code",
      "source": [
        "df_train['tabulet_x_qmobilephone'] = df_train['v18q1'] * df_train['qmobilephone']\n",
        "df_test['tabulet_x_qmobilephone'] = df_test['v18q1'] * df_test['qmobilephone']"
      ],
      "metadata": {
        "id": "8iLuhQeI_OYI"
      },
      "execution_count": 59,
      "outputs": []
    },
    {
      "cell_type": "markdown",
      "source": [
        "wall, roof, floor may be key factor.\n",
        "Let's multiply each of them. Becuase they are binary cat features, so mulitification of each features generates new categorical features"
      ],
      "metadata": {
        "id": "N8Me5s8sAY5z"
      }
    },
    {
      "cell_type": "code",
      "source": [
        "# wall and roof\n",
        "for col1 in ['epared1', 'epared2', 'epared3']:\n",
        "    for col2 in ['etecho1', 'etecho2', 'etecho3']:\n",
        "        new_col_name = 'new_{}_x_{}'.format(col1, col2)\n",
        "        df_train[new_col_name] = df_train[col1] * df_train[col2] #이름 만 만들어주고  columns 명만 만들어 준다. \n",
        "        df_test[new_col_name] = df_test[col1] * df_test[col2]\n",
        "        \n",
        "# wall and floor\n",
        "for col1 in ['epared1', 'epared2', 'epared3']:\n",
        "    for col2 in ['eviv1', 'eviv2', 'eviv3']:\n",
        "        new_col_name = 'new_{}_x_{}'.format(col1, col2)\n",
        "        df_train[new_col_name] = df_train[col1] * df_train[col2]\n",
        "        df_test[new_col_name] = df_test[col1] * df_test[col2]\n",
        "\n",
        "# roof and floor\n",
        "for col1 in ['etecho1', 'etecho2', 'etecho3']:\n",
        "    for col2 in ['eviv1', 'eviv2', 'eviv3']:\n",
        "        new_col_name = 'new_{}_x_{}'.format(col1, col2)\n",
        "        df_train[new_col_name] = df_train[col1] * df_train[col2]\n",
        "        df_test[new_col_name] = df_test[col1] * df_test[col2]"
      ],
      "metadata": {
        "id": "5tJh9ZQ5SBsK"
      },
      "execution_count": 60,
      "outputs": []
    },
    {
      "cell_type": "markdown",
      "source": [
        "combination using three features"
      ],
      "metadata": {
        "id": "s6XutajgSERK"
      }
    },
    {
      "cell_type": "code",
      "source": [
        "for col1 in ['epared1', 'epared2', 'epared3']:\n",
        "    for col2 in ['etecho1', 'etecho2', 'etecho3']:\n",
        "        for col3 in ['eviv1', 'eviv2', 'eviv3']:\n",
        "            new_col_name = 'new_{}_x_{}_x_{}'.format(col1, col2, col3)\n",
        "            df_train[new_col_name] = df_train[col1] * df_train[col2] * df_train[col3]\n",
        "            df_test[new_col_name] = df_test[col1] * df_test[col2] * df_train[col3]"
      ],
      "metadata": {
        "id": "kopPkTzhSPSp"
      },
      "execution_count": 61,
      "outputs": []
    },
    {
      "cell_type": "code",
      "source": [
        "print(df_train.shape, df_test.shape)"
      ],
      "metadata": {
        "colab": {
          "base_uri": "https://localhost:8080/"
        },
        "id": "OeAliIdISRRN",
        "outputId": "0821d9e0-3b50-4870-87f4-349c6184eff2"
      },
      "execution_count": 62,
      "outputs": [
        {
          "output_type": "stream",
          "name": "stdout",
          "text": [
            "(9557, 307) (23856, 306)\n"
          ]
        }
      ]
    },
    {
      "cell_type": "markdown",
      "source": [
        "I want to mix electricity and energy features -> energy features"
      ],
      "metadata": {
        "id": "mKdQ_tpvZcq0"
      }
    },
    {
      "cell_type": "code",
      "source": [
        "for col1 in ['public', 'planpri', 'noelec', 'coopele']:\n",
        "    for col2 in ['energcocinar1', 'energcocinar2', 'energcocinar3', 'energcocinar4']:\n",
        "        new_col_name = 'new_{}_x_{}'.format(col1, col2)\n",
        "        df_train[new_col_name] = df_train[col1] * df_train[col2]\n",
        "        df_test[new_col_name] = df_test[col1] * df_test[col2]"
      ],
      "metadata": {
        "id": "GCppXe1iZgN7"
      },
      "execution_count": 63,
      "outputs": []
    },
    {
      "cell_type": "markdown",
      "source": [
        "I want to mix toilet and rubbish disposal features -> other_infra features"
      ],
      "metadata": {
        "id": "tB3_kLzwZewV"
      }
    },
    {
      "cell_type": "code",
      "source": [
        "for col1 in ['sanitario1', 'sanitario2', 'sanitario3', 'sanitario5', 'sanitario6']:\n",
        "    for col2 in ['elimbasu1', 'elimbasu2', 'elimbasu3', 'elimbasu4', 'elimbasu5', 'elimbasu6']:\n",
        "        new_col_name = 'new_{}_x_{}'.format(col1, col2)\n",
        "        df_train[new_col_name] = df_train[col1] * df_train[col2] #daraframe 안에 list로 들어가면 데이터 프레임안의 열을 추출해낸다.\n",
        "        df_test[new_col_name] = df_test[col1] * df_test[col2]\n",
        "#(\"sanitario1\",\"=1주거지에 화장실 없음\"),\n",
        "#(\"sanitario2\",\"=하수도 또는 하수구에 연결된 화장실 1개\"),\n",
        "#(\"sanitario3\",\"= 정화조에 연결된 화장실 1개\"),\n",
        "#(\"sanitario5\",\"=블랙홀 또는 레트린에 연결된 화장실 1개\"),\n",
        "#(\"sanitario6\",\"=다른 시스템에 연결된 화장실 1개\"),\n",
        "\n",
        "#(\"elimbasu1\",\"=1 유조선 트럭에 의한 쓰레기 처리의 경우\"),\n",
        "#(\"elimbasu2\",\"=1 주로 식물성 중공 또는 매립에 의한 쓰레기 처리\"),\n",
        "#(\"elimbasu3\",\"=1 주로 불에 태워 폐기물을 처리하는 경우\"),\n",
        "#(\"elimbasu4\",\"=1 빈 공간에 주로 던져서 쓰레기를 처리하는 경우\"),\n",
        "#(\"elimbasu5\",\"=1 주로 강, 하천 또는 바다에 투척하여 쓰레기를 처리하는 경우\"),\n",
        "#(\"elimbasu6\",\"=1 쓰레기 처리가 주로 다른 경우\")\n"
      ],
      "metadata": {
        "id": "FKAlzO9yZpI-"
      },
      "execution_count": 64,
      "outputs": []
    },
    {
      "cell_type": "markdown",
      "source": [
        "I want to mix toilet and water provision features -> water features"
      ],
      "metadata": {
        "id": "sijYIw8Nagbl"
      }
    },
    {
      "cell_type": "code",
      "source": [
        "for col1 in ['area1', 'area2']:\n",
        "    for col2 in ['instlevel1', 'instlevel2', 'instlevel3', 'instlevel4', 'instlevel5', 'instlevel6', 'instlevel7', 'instlevel8', 'instlevel9']:\n",
        "        new_col_name = 'new_{}_x_{}'.format(col1, col2)\n",
        "        df_train[new_col_name] = df_train[col1] * df_train[col2]\n",
        "        df_test[new_col_name] = df_test[col1] * df_test[col2]\n",
        "\n",
        "#(\"instlevel1\",\"=1 교육 수준 없음\"),\n",
        "#(\"instlevel2\",\"=1 불완전한 초등교육\"),\n",
        "#(\"instlevel3\",\"=1 완전한 초등교육\"),\n",
        "#(\"instlevel4\",\"=1 불완전한 학업 2차 수준\"),\n",
        "#(\"instlevel5\",\"=1 완전한 학문적 2차 수준\"),\n",
        "#(\"instlevel6\",\"=1 불완전한 기술 2차 수준\"),\n",
        "#(\"instlevel7\",\"=1 완전한 기술 2차 수준\"),\n",
        "#(\"instlevel8\",\"=1학부 이상\"),\n",
        "#(\"instlevel9\",\"=1 대학원 고등교육\"),\n",
        "\n",
        "#(\"area1\",\" =1 zona urbana\"),= urban zone\n",
        "#(\"area2\",\" =2 zona rural\"),= rural zone(시골)"
      ],
      "metadata": {
        "id": "ov-AuMrkah41"
      },
      "execution_count": 65,
      "outputs": []
    },
    {
      "cell_type": "code",
      "source": [
        "print(df_train.shape, df_test.shape)"
      ],
      "metadata": {
        "colab": {
          "base_uri": "https://localhost:8080/"
        },
        "id": "W_ZkMdOmhRZl",
        "outputId": "e7085be2-c244-4197-d4d5-3ac7063b9fbd"
      },
      "execution_count": 66,
      "outputs": [
        {
          "output_type": "stream",
          "name": "stdout",
          "text": [
            "(9557, 371) (23856, 370)\n"
          ]
        }
      ]
    },
    {
      "cell_type": "code",
      "source": [
        "for col1 in ['abastaguadentro', 'abastaguafuera', 'abastaguano']:\n",
        "    for col2 in ['sanitario1', 'sanitario2', 'sanitario3', 'sanitario5', 'sanitario6']:\n",
        "        new_col_name = 'new_{}_x_{}'.format(col1, col2)\n",
        "        df_train[new_col_name] = df_train[col1] * df_train[col2]\n",
        "        df_test[new_col_name] = df_test[col1] * df_test[col2]"
      ],
      "metadata": {
        "id": "pbAWlZQ1hic5"
      },
      "execution_count": 67,
      "outputs": []
    },
    {
      "cell_type": "markdown",
      "source": [
        "Mix region and education"
      ],
      "metadata": {
        "id": "3BdDq1a1dmhy"
      }
    },
    {
      "cell_type": "code",
      "source": [
        "for col1 in ['area1', 'area2']:\n",
        "    for col2 in ['instlevel1', 'instlevel2', 'instlevel3', 'instlevel4', 'instlevel5', 'instlevel6', 'instlevel7', 'instlevel8', 'instlevel9']:\n",
        "        new_col_name = 'new_{}_x_{}'.format(col1, col2)\n",
        "        df_train[new_col_name] = df_train[col1] * df_train[col2]\n",
        "        df_test[new_col_name] = df_test[col1] * df_test[col2]"
      ],
      "metadata": {
        "id": "WZED0LqKg5nR"
      },
      "execution_count": 68,
      "outputs": []
    },
    {
      "cell_type": "code",
      "source": [
        "for col1 in ['lugar1', 'lugar2', 'lugar3', 'lugar4', 'lugar5', 'lugar6']:\n",
        "    for col2 in ['instlevel1', 'instlevel2', 'instlevel3', 'instlevel4', 'instlevel5', 'instlevel6', 'instlevel7', 'instlevel8', 'instlevel9']:\n",
        "        new_col_name = 'new_{}_x_{}'.format(col1, col2)\n",
        "        df_train[new_col_name] = df_train[col1] * df_train[col2]\n",
        "        df_test[new_col_name] = df_test[col1] * df_test[col2]"
      ],
      "metadata": {
        "id": "VGCKco9PdnE3"
      },
      "execution_count": 69,
      "outputs": []
    },
    {
      "cell_type": "code",
      "source": [
        "print(df_train.shape, df_test.shape)"
      ],
      "metadata": {
        "colab": {
          "base_uri": "https://localhost:8080/"
        },
        "id": "vfoxrj63fdDt",
        "outputId": "8ba59446-a318-4b8d-e852-690f2275831f"
      },
      "execution_count": 70,
      "outputs": [
        {
          "output_type": "stream",
          "name": "stdout",
          "text": [
            "(9557, 440) (23856, 439)\n"
          ]
        }
      ]
    },
    {
      "cell_type": "markdown",
      "source": [
        "Multiply television / mobilephone / computer / tabulet / refrigerator -> electornics featu"
      ],
      "metadata": {
        "id": "9W8rhuQUi8wS"
      }
    },
    {
      "cell_type": "code",
      "source": [
        "df_train['electronics'] = df_train['computer'] * df_train['mobilephone'] * df_train['television'] * df_train['v18q'] * df_train['refrig']\n",
        "df_test['electronics'] = df_test['computer'] * df_test['mobilephone'] * df_test['television'] * df_test['v18q'] * df_test['refrig']\n",
        "\n",
        "df_train['no_appliances'] = df_train['refrig'] + df_train['computer'] + df_train['television'] + df_train['mobilephone']\n",
        "df_test['no_appliances'] = df_test['refrig'] + df_test['computer'] + df_test['television'] + df_test['mobilephone']\n"
      ],
      "metadata": {
        "id": "4zLX5EKoi5q4"
      },
      "execution_count": 71,
      "outputs": []
    },
    {
      "cell_type": "markdown",
      "source": [
        "Mix wall material of roof, floor, wall"
      ],
      "metadata": {
        "id": "YZ-77uPgjCnu"
      }
    },
    {
      "cell_type": "code",
      "source": [
        "for col1 in ['paredblolad', 'paredzocalo', 'paredpreb', 'pareddes', 'paredmad', 'paredzinc', 'paredfibras', 'paredother']:\n",
        "    for col2 in ['pisomoscer', 'pisocemento', 'pisoother', 'pisonatur', 'pisonotiene', 'pisomadera']:\n",
        "        new_col_name = 'new_{}_x_{}'.format(col1, col2)\n",
        "        df_train[new_col_name] = df_train[col1] * df_train[col2]\n",
        "        df_test[new_col_name] = df_test[col1] * df_test[col2]\n",
        "\n",
        "for col1 in ['pisomoscer', 'pisocemento', 'pisoother', 'pisonatur', 'pisonotiene', 'pisomadera']:\n",
        "    for col1 in ['techozinc', 'techoentrepiso', 'techocane', 'techootro']:\n",
        "        new_col_name = 'new_{}_x_{}'.format(col1, col2)\n",
        "        df_train[new_col_name] = df_train[col1] * df_train[col2]\n",
        "        df_test[new_col_name] = df_test[col1] * df_test[col2]\n",
        "        \n",
        "for col1 in ['paredblolad', 'paredzocalo', 'paredpreb', 'pareddes', 'paredmad', 'paredzinc', 'paredfibras', 'paredother']:\n",
        "    for col2 in ['techozinc', 'techoentrepiso', 'techocane', 'techootro']:\n",
        "        new_col_name = 'new_{}_x_{}'.format(col1, col2)\n",
        "        df_train[new_col_name] = df_train[col1] * df_train[col2]\n",
        "        df_test[new_col_name] = df_test[col1] * df_test[col2]        \n",
        "        \n",
        "for col1 in ['paredblolad', 'paredzocalo', 'paredpreb', 'pareddes', 'paredmad', 'paredzinc', 'paredfibras', 'paredother']:\n",
        "    for col2 in ['pisomoscer', 'pisocemento', 'pisoother', 'pisonatur', 'pisonotiene', 'pisomadera']:\n",
        "        for col3 in ['techozinc', 'techoentrepiso', 'techocane', 'techootro']:\n",
        "            new_col_name = 'new_{}_x_{}_x_{}'.format(col1, col2, col3)\n",
        "            df_train[new_col_name] = df_train[col1] * df_train[col2] * df_train[col3]\n",
        "            df_test[new_col_name] = df_test[col1] * df_test[col2] * df_train[col3]"
      ],
      "metadata": {
        "id": "Q-4NSR7rjDKd"
      },
      "execution_count": 72,
      "outputs": []
    },
    {
      "cell_type": "code",
      "source": [
        "print(df_train.shape, df_test.shape)"
      ],
      "metadata": {
        "colab": {
          "base_uri": "https://localhost:8080/"
        },
        "id": "KFcd0buxjLnW",
        "outputId": "06d5ca10-99f8-4e50-e256-1cf9320504e5"
      },
      "execution_count": 73,
      "outputs": [
        {
          "output_type": "stream",
          "name": "stdout",
          "text": [
            "(9557, 718) (23856, 717)\n"
          ]
        }
      ]
    },
    {
      "cell_type": "markdown",
      "source": [
        "Remove feature with only one value"
      ],
      "metadata": {
        "id": "OESXGSmuSlOm"
      }
    },
    {
      "cell_type": "code",
      "source": [
        "cols_with_only_one_value = []\n",
        "for col in df_train.columns: #이렇게 df_train의 columns의 리스트를 뽑을 수 있다.\n",
        "    if col == 'Target':\n",
        "        continue\n",
        "    if df_train[col].value_counts().shape[0] == 1 or df_test[col].value_counts().shape[0] == 1:\n",
        "        print(col)\n",
        "        cols_with_only_one_value.append(col)\n",
        "        #shape 형태가 1이면 하나의 값만 가지므로 제거한다."
      ],
      "metadata": {
        "colab": {
          "base_uri": "https://localhost:8080/"
        },
        "id": "66xex2EuT-H_",
        "outputId": "0c78cd4b-9ee8-40b1-b74d-ad2d5792f0fe"
      },
      "execution_count": 74,
      "outputs": [
        {
          "output_type": "stream",
          "name": "stdout",
          "text": [
            "elimbasu5\n",
            "new_planpri_x_energcocinar1\n",
            "new_planpri_x_energcocinar2\n",
            "new_planpri_x_energcocinar3\n",
            "new_planpri_x_energcocinar4\n",
            "new_noelec_x_energcocinar2\n",
            "new_sanitario1_x_elimbasu4\n",
            "new_sanitario1_x_elimbasu5\n",
            "new_sanitario1_x_elimbasu6\n",
            "new_sanitario2_x_elimbasu4\n",
            "new_sanitario2_x_elimbasu5\n",
            "new_sanitario2_x_elimbasu6\n",
            "new_sanitario3_x_elimbasu5\n",
            "new_sanitario5_x_elimbasu4\n",
            "new_sanitario5_x_elimbasu5\n",
            "new_sanitario5_x_elimbasu6\n",
            "new_sanitario6_x_elimbasu2\n",
            "new_sanitario6_x_elimbasu4\n",
            "new_sanitario6_x_elimbasu5\n",
            "new_sanitario6_x_elimbasu6\n",
            "new_abastaguafuera_x_sanitario6\n",
            "new_abastaguano_x_sanitario2\n",
            "new_abastaguano_x_sanitario6\n",
            "new_paredblolad_x_pisonatur\n",
            "new_paredblolad_x_pisonotiene\n",
            "new_paredzocalo_x_pisoother\n",
            "new_paredzocalo_x_pisonatur\n",
            "new_paredpreb_x_pisonatur\n",
            "new_pareddes_x_pisoother\n",
            "new_pareddes_x_pisonatur\n",
            "new_paredmad_x_pisoother\n",
            "new_paredmad_x_pisonatur\n",
            "new_paredzinc_x_pisoother\n",
            "new_paredzinc_x_pisonatur\n",
            "new_paredfibras_x_pisoother\n",
            "new_paredfibras_x_pisonatur\n",
            "new_paredfibras_x_pisonotiene\n",
            "new_paredfibras_x_pisomadera\n",
            "new_paredother_x_pisoother\n",
            "new_paredother_x_pisonatur\n",
            "new_paredother_x_pisonotiene\n",
            "new_paredother_x_pisomadera\n",
            "new_techocane_x_pisomadera\n",
            "new_techootro_x_pisomadera\n",
            "new_paredzocalo_x_techoentrepiso\n",
            "new_paredzocalo_x_techocane\n",
            "new_paredzocalo_x_techootro\n",
            "new_paredpreb_x_techootro\n",
            "new_pareddes_x_techoentrepiso\n",
            "new_pareddes_x_techocane\n",
            "new_pareddes_x_techootro\n",
            "new_paredmad_x_techocane\n",
            "new_paredmad_x_techootro\n",
            "new_paredzinc_x_techoentrepiso\n",
            "new_paredzinc_x_techocane\n",
            "new_paredzinc_x_techootro\n",
            "new_paredfibras_x_techoentrepiso\n",
            "new_paredfibras_x_techootro\n",
            "new_paredother_x_techoentrepiso\n",
            "new_paredother_x_techocane\n",
            "new_paredother_x_techootro\n",
            "new_paredblolad_x_pisocemento_x_techocane\n",
            "new_paredblolad_x_pisocemento_x_techootro\n",
            "new_paredblolad_x_pisoother_x_techoentrepiso\n",
            "new_paredblolad_x_pisoother_x_techocane\n",
            "new_paredblolad_x_pisoother_x_techootro\n",
            "new_paredblolad_x_pisonatur_x_techozinc\n",
            "new_paredblolad_x_pisonatur_x_techoentrepiso\n",
            "new_paredblolad_x_pisonatur_x_techocane\n",
            "new_paredblolad_x_pisonatur_x_techootro\n",
            "new_paredblolad_x_pisonotiene_x_techozinc\n",
            "new_paredblolad_x_pisonotiene_x_techoentrepiso\n",
            "new_paredblolad_x_pisonotiene_x_techocane\n",
            "new_paredblolad_x_pisonotiene_x_techootro\n",
            "new_paredblolad_x_pisomadera_x_techocane\n",
            "new_paredblolad_x_pisomadera_x_techootro\n",
            "new_paredzocalo_x_pisomoscer_x_techoentrepiso\n",
            "new_paredzocalo_x_pisomoscer_x_techocane\n",
            "new_paredzocalo_x_pisomoscer_x_techootro\n",
            "new_paredzocalo_x_pisocemento_x_techoentrepiso\n",
            "new_paredzocalo_x_pisocemento_x_techocane\n",
            "new_paredzocalo_x_pisocemento_x_techootro\n",
            "new_paredzocalo_x_pisoother_x_techozinc\n",
            "new_paredzocalo_x_pisoother_x_techoentrepiso\n",
            "new_paredzocalo_x_pisoother_x_techocane\n",
            "new_paredzocalo_x_pisoother_x_techootro\n",
            "new_paredzocalo_x_pisonatur_x_techozinc\n",
            "new_paredzocalo_x_pisonatur_x_techoentrepiso\n",
            "new_paredzocalo_x_pisonatur_x_techocane\n",
            "new_paredzocalo_x_pisonatur_x_techootro\n",
            "new_paredzocalo_x_pisonotiene_x_techoentrepiso\n",
            "new_paredzocalo_x_pisonotiene_x_techocane\n",
            "new_paredzocalo_x_pisonotiene_x_techootro\n",
            "new_paredzocalo_x_pisomadera_x_techoentrepiso\n",
            "new_paredzocalo_x_pisomadera_x_techocane\n",
            "new_paredzocalo_x_pisomadera_x_techootro\n",
            "new_paredpreb_x_pisocemento_x_techoentrepiso\n",
            "new_paredpreb_x_pisocemento_x_techocane\n",
            "new_paredpreb_x_pisocemento_x_techootro\n",
            "new_paredpreb_x_pisoother_x_techoentrepiso\n",
            "new_paredpreb_x_pisoother_x_techocane\n",
            "new_paredpreb_x_pisoother_x_techootro\n",
            "new_paredpreb_x_pisonatur_x_techozinc\n",
            "new_paredpreb_x_pisonatur_x_techoentrepiso\n",
            "new_paredpreb_x_pisonatur_x_techocane\n",
            "new_paredpreb_x_pisonatur_x_techootro\n",
            "new_paredpreb_x_pisonotiene_x_techozinc\n",
            "new_paredpreb_x_pisonotiene_x_techoentrepiso\n",
            "new_paredpreb_x_pisonotiene_x_techocane\n",
            "new_paredpreb_x_pisonotiene_x_techootro\n",
            "new_paredpreb_x_pisomadera_x_techoentrepiso\n",
            "new_paredpreb_x_pisomadera_x_techocane\n",
            "new_paredpreb_x_pisomadera_x_techootro\n",
            "new_pareddes_x_pisomoscer_x_techozinc\n",
            "new_pareddes_x_pisomoscer_x_techoentrepiso\n",
            "new_pareddes_x_pisomoscer_x_techocane\n",
            "new_pareddes_x_pisomoscer_x_techootro\n",
            "new_pareddes_x_pisocemento_x_techoentrepiso\n",
            "new_pareddes_x_pisocemento_x_techocane\n",
            "new_pareddes_x_pisocemento_x_techootro\n",
            "new_pareddes_x_pisoother_x_techozinc\n",
            "new_pareddes_x_pisoother_x_techoentrepiso\n",
            "new_pareddes_x_pisoother_x_techocane\n",
            "new_pareddes_x_pisoother_x_techootro\n",
            "new_pareddes_x_pisonatur_x_techozinc\n",
            "new_pareddes_x_pisonatur_x_techoentrepiso\n",
            "new_pareddes_x_pisonatur_x_techocane\n",
            "new_pareddes_x_pisonatur_x_techootro\n",
            "new_pareddes_x_pisonotiene_x_techoentrepiso\n",
            "new_pareddes_x_pisonotiene_x_techocane\n",
            "new_pareddes_x_pisonotiene_x_techootro\n",
            "new_pareddes_x_pisomadera_x_techozinc\n",
            "new_pareddes_x_pisomadera_x_techoentrepiso\n",
            "new_pareddes_x_pisomadera_x_techocane\n",
            "new_pareddes_x_pisomadera_x_techootro\n",
            "new_paredmad_x_pisomoscer_x_techocane\n",
            "new_paredmad_x_pisomoscer_x_techootro\n",
            "new_paredmad_x_pisocemento_x_techoentrepiso\n",
            "new_paredmad_x_pisocemento_x_techocane\n",
            "new_paredmad_x_pisocemento_x_techootro\n",
            "new_paredmad_x_pisoother_x_techozinc\n",
            "new_paredmad_x_pisoother_x_techoentrepiso\n",
            "new_paredmad_x_pisoother_x_techocane\n",
            "new_paredmad_x_pisoother_x_techootro\n",
            "new_paredmad_x_pisonatur_x_techozinc\n",
            "new_paredmad_x_pisonatur_x_techoentrepiso\n",
            "new_paredmad_x_pisonatur_x_techocane\n",
            "new_paredmad_x_pisonatur_x_techootro\n",
            "new_paredmad_x_pisonotiene_x_techoentrepiso\n",
            "new_paredmad_x_pisonotiene_x_techocane\n",
            "new_paredmad_x_pisonotiene_x_techootro\n",
            "new_paredmad_x_pisomadera_x_techocane\n",
            "new_paredzinc_x_pisomoscer_x_techoentrepiso\n",
            "new_paredzinc_x_pisomoscer_x_techocane\n",
            "new_paredzinc_x_pisomoscer_x_techootro\n",
            "new_paredzinc_x_pisocemento_x_techoentrepiso\n",
            "new_paredzinc_x_pisocemento_x_techocane\n",
            "new_paredzinc_x_pisocemento_x_techootro\n",
            "new_paredzinc_x_pisoother_x_techozinc\n",
            "new_paredzinc_x_pisoother_x_techoentrepiso\n",
            "new_paredzinc_x_pisoother_x_techocane\n",
            "new_paredzinc_x_pisoother_x_techootro\n",
            "new_paredzinc_x_pisonatur_x_techozinc\n",
            "new_paredzinc_x_pisonatur_x_techoentrepiso\n",
            "new_paredzinc_x_pisonatur_x_techocane\n",
            "new_paredzinc_x_pisonatur_x_techootro\n",
            "new_paredzinc_x_pisonotiene_x_techoentrepiso\n",
            "new_paredzinc_x_pisonotiene_x_techocane\n",
            "new_paredzinc_x_pisonotiene_x_techootro\n",
            "new_paredzinc_x_pisomadera_x_techoentrepiso\n",
            "new_paredzinc_x_pisomadera_x_techocane\n",
            "new_paredzinc_x_pisomadera_x_techootro\n",
            "new_paredfibras_x_pisomoscer_x_techoentrepiso\n",
            "new_paredfibras_x_pisomoscer_x_techocane\n",
            "new_paredfibras_x_pisomoscer_x_techootro\n",
            "new_paredfibras_x_pisocemento_x_techoentrepiso\n",
            "new_paredfibras_x_pisocemento_x_techocane\n",
            "new_paredfibras_x_pisocemento_x_techootro\n",
            "new_paredfibras_x_pisoother_x_techozinc\n",
            "new_paredfibras_x_pisoother_x_techoentrepiso\n",
            "new_paredfibras_x_pisoother_x_techocane\n",
            "new_paredfibras_x_pisoother_x_techootro\n",
            "new_paredfibras_x_pisonatur_x_techozinc\n",
            "new_paredfibras_x_pisonatur_x_techoentrepiso\n",
            "new_paredfibras_x_pisonatur_x_techocane\n",
            "new_paredfibras_x_pisonatur_x_techootro\n",
            "new_paredfibras_x_pisonotiene_x_techozinc\n",
            "new_paredfibras_x_pisonotiene_x_techoentrepiso\n",
            "new_paredfibras_x_pisonotiene_x_techocane\n",
            "new_paredfibras_x_pisonotiene_x_techootro\n",
            "new_paredfibras_x_pisomadera_x_techozinc\n",
            "new_paredfibras_x_pisomadera_x_techoentrepiso\n",
            "new_paredfibras_x_pisomadera_x_techocane\n",
            "new_paredfibras_x_pisomadera_x_techootro\n",
            "new_paredother_x_pisomoscer_x_techozinc\n",
            "new_paredother_x_pisomoscer_x_techoentrepiso\n",
            "new_paredother_x_pisomoscer_x_techocane\n",
            "new_paredother_x_pisomoscer_x_techootro\n",
            "new_paredother_x_pisocemento_x_techoentrepiso\n",
            "new_paredother_x_pisocemento_x_techocane\n",
            "new_paredother_x_pisocemento_x_techootro\n",
            "new_paredother_x_pisoother_x_techozinc\n",
            "new_paredother_x_pisoother_x_techoentrepiso\n",
            "new_paredother_x_pisoother_x_techocane\n",
            "new_paredother_x_pisoother_x_techootro\n",
            "new_paredother_x_pisonatur_x_techozinc\n",
            "new_paredother_x_pisonatur_x_techoentrepiso\n",
            "new_paredother_x_pisonatur_x_techocane\n",
            "new_paredother_x_pisonatur_x_techootro\n",
            "new_paredother_x_pisonotiene_x_techozinc\n",
            "new_paredother_x_pisonotiene_x_techoentrepiso\n",
            "new_paredother_x_pisonotiene_x_techocane\n",
            "new_paredother_x_pisonotiene_x_techootro\n",
            "new_paredother_x_pisomadera_x_techozinc\n",
            "new_paredother_x_pisomadera_x_techoentrepiso\n",
            "new_paredother_x_pisomadera_x_techocane\n",
            "new_paredother_x_pisomadera_x_techootro\n"
          ]
        }
      ]
    },
    {
      "cell_type": "markdown",
      "source": [
        "Let's remove them!"
      ],
      "metadata": {
        "id": "hUA5JVsbUAP7"
      }
    },
    {
      "cell_type": "code",
      "source": [
        "df_train.drop(cols_with_only_one_value, axis=1, inplace=True)\n",
        "df_test.drop(cols_with_only_one_value, axis=1, inplace=True)"
      ],
      "metadata": {
        "id": "H2dx-JFOjV2N"
      },
      "execution_count": 75,
      "outputs": []
    },
    {
      "cell_type": "markdown",
      "source": [
        "Check whether both train and test have same features"
      ],
      "metadata": {
        "id": "1kGgKCPsjWnb"
      }
    },
    {
      "cell_type": "code",
      "source": [
        "cols_train = np.array(sorted([col for col in df_train.columns if col != 'Target']))\n",
        "cols_test = np.array(sorted(df_test.columns))"
      ],
      "metadata": {
        "id": "l2ilXbnWjX8S"
      },
      "execution_count": 76,
      "outputs": []
    },
    {
      "cell_type": "code",
      "source": [
        "(cols_train == cols_test).sum() == len(cols_train)"
      ],
      "metadata": {
        "colab": {
          "base_uri": "https://localhost:8080/"
        },
        "id": "lJNKQLpTjYzl",
        "outputId": "59fc4a85-96d2-4846-e2b4-e66314a88d4a"
      },
      "execution_count": 77,
      "outputs": [
        {
          "output_type": "execute_result",
          "data": {
            "text/plain": [
              "True"
            ]
          },
          "metadata": {},
          "execution_count": 77
        }
      ]
    },
    {
      "cell_type": "markdown",
      "source": [
        "### 2.4 aggregation features"
      ],
      "metadata": {
        "id": "zrgL17Qzjc3R"
      }
    },
    {
      "cell_type": "markdown",
      "source": [
        "In this competition, each samples are member of spectific household(idhogar). So let's aggregate based on 'idhogar' values.\n"
      ],
      "metadata": {
        "id": "OGEhEXgEjjVL"
      }
    },
    {
      "cell_type": "code",
      "source": [
        "# idhogar : Household level identifier\n",
        "# 식별자 별로 분류를 한다."
      ],
      "metadata": {
        "id": "yDowkzZ-jlWF"
      },
      "execution_count": 78,
      "outputs": []
    },
    {
      "cell_type": "markdown",
      "source": [
        "Aggregation for family features"
      ],
      "metadata": {
        "id": "jRQEZ55HjzF9"
      }
    },
    {
      "cell_type": "code",
      "source": [
        "def max_min(x):\n",
        "    return x.max() - x.min()"
      ],
      "metadata": {
        "id": "_c9T9HZxkAP3"
      },
      "execution_count": 79,
      "outputs": []
    },
    {
      "cell_type": "code",
      "source": [
        "agg_train = pd.DataFrame()\n",
        "agg_test = pd.DataFrame()\n",
        "family_size_features = ['adult', 'hogar_adul', 'hogar_mayor', 'hogar_nin', 'hogar_total', 'r4h1', \n",
        "                        'r4h2', 'r4h3', 'r4m1', 'r4m2', 'r4m3', 'r4t1', 'r4t2', 'r4t3', 'hhsize']\n",
        "                        \n",
        "for item in tqdm(family_size_features):#family size features에 대한 잔행률을 표사해준다.\n",
        "    for i, function in enumerate(['mean','std','min','max','sum', 'count', max_min]):\n",
        "        group_train = df_train[item].groupby(df_train['idhogar']).agg(function)\n",
        "        group_test = df_test[item].groupby(df_test['idhogar']).agg(function)\n",
        "        if i == 6:\n",
        "            new_col = item + '_new_' + 'max_min'\n",
        "        else:\n",
        "            new_col = item + '_new_' + function\n",
        "        agg_train[new_col] = group_train\n",
        "        agg_test[new_col] = group_test\n",
        "       #groupby() method is used to group rows in each dataset by a common identifier, \n",
        "       #idhogar, which represents the household to which each individual belongs.\n",
        "      # enumerate, 함수는 index와 element값을 동시에 출력하는 함수 [(0,'adult'),(1, 'hogar_adul') ]이런식으로 표현\n",
        "      # agg() method is then used to apply the specified function to each group, resulting in a new DataFrame with one row per household.\n",
        "print('new aggregate train set has {} rows, and {} features'.format(agg_train.shape[0], agg_train.shape[1]))\n",
        "print('new aggregate test set has {} rows, and {} features'.format(agg_test.shape[0], agg_test.shape[1]))\n"
      ],
      "metadata": {
        "colab": {
          "base_uri": "https://localhost:8080/"
        },
        "id": "TIayoDM-kBL3",
        "outputId": "e1be29f3-11dc-4112-c121-f9f245a267e9"
      },
      "execution_count": 99,
      "outputs": [
        {
          "output_type": "stream",
          "name": "stderr",
          "text": [
            "100%|██████████| 15/15 [00:21<00:00,  1.41s/it]"
          ]
        },
        {
          "output_type": "stream",
          "name": "stdout",
          "text": [
            "new aggregate train set has 2988 rows, and 105 features\n",
            "new aggregate test set has 7352 rows, and 105 features\n"
          ]
        },
        {
          "output_type": "stream",
          "name": "stderr",
          "text": [
            "\n"
          ]
        }
      ]
    },
    {
      "cell_type": "markdown",
      "source": [
        "aggregation에 대한 예제"
      ],
      "metadata": {
        "id": "whc7BR16nYF6"
      }
    },
    {
      "cell_type": "code",
      "source": [
        "animals = pd.DataFrame(\n",
        "    {\n",
        "        \"kind\": [\"cat\", \"dog\", \"cat\", \"dog\"],\n",
        "        \"height\": [9.1, 6.0, 9.5, 34.0],\n",
        "        \"weight\": [7.9, 7.5, 9.9, 198.0],\n",
        "    }\n",
        ")\n",
        "print(animals)"
      ],
      "metadata": {
        "colab": {
          "base_uri": "https://localhost:8080/"
        },
        "id": "qpgVXQJvnIqa",
        "outputId": "5e331961-ca74-4ad4-f6ba-bc3c297d6327"
      },
      "execution_count": 97,
      "outputs": [
        {
          "output_type": "stream",
          "name": "stdout",
          "text": [
            "  kind  height  weight\n",
            "0  cat     9.1     7.9\n",
            "1  dog     6.0     7.5\n",
            "2  cat     9.5     9.9\n",
            "3  dog    34.0   198.0\n"
          ]
        }
      ]
    },
    {
      "cell_type": "code",
      "source": [
        "animals.groupby(\"kind\").agg(\n",
        "    min_height=pd.NamedAgg(column=\"height\", aggfunc=\"min\"),\n",
        "    max_height=pd.NamedAgg(column=\"height\", aggfunc=\"max\"),\n",
        "    average_weight=pd.NamedAgg(column=\"weight\", aggfunc=np.mean),\n",
        ")\n"
      ],
      "metadata": {
        "colab": {
          "base_uri": "https://localhost:8080/",
          "height": 143
        },
        "id": "1OzP-sPRnRGK",
        "outputId": "f6e49e32-f956-4aa4-edb4-63effed05518"
      },
      "execution_count": 96,
      "outputs": [
        {
          "output_type": "execute_result",
          "data": {
            "text/plain": [
              "      min_height  max_height  average_weight\n",
              "kind                                        \n",
              "cat          9.1         9.5            8.90\n",
              "dog          6.0        34.0          102.75"
            ],
            "text/html": [
              "\n",
              "  <div id=\"df-7c992efa-d3f7-427f-b00b-61a2cb3aecd8\">\n",
              "    <div class=\"colab-df-container\">\n",
              "      <div>\n",
              "<style scoped>\n",
              "    .dataframe tbody tr th:only-of-type {\n",
              "        vertical-align: middle;\n",
              "    }\n",
              "\n",
              "    .dataframe tbody tr th {\n",
              "        vertical-align: top;\n",
              "    }\n",
              "\n",
              "    .dataframe thead th {\n",
              "        text-align: right;\n",
              "    }\n",
              "</style>\n",
              "<table border=\"1\" class=\"dataframe\">\n",
              "  <thead>\n",
              "    <tr style=\"text-align: right;\">\n",
              "      <th></th>\n",
              "      <th>min_height</th>\n",
              "      <th>max_height</th>\n",
              "      <th>average_weight</th>\n",
              "    </tr>\n",
              "    <tr>\n",
              "      <th>kind</th>\n",
              "      <th></th>\n",
              "      <th></th>\n",
              "      <th></th>\n",
              "    </tr>\n",
              "  </thead>\n",
              "  <tbody>\n",
              "    <tr>\n",
              "      <th>cat</th>\n",
              "      <td>9.1</td>\n",
              "      <td>9.5</td>\n",
              "      <td>8.90</td>\n",
              "    </tr>\n",
              "    <tr>\n",
              "      <th>dog</th>\n",
              "      <td>6.0</td>\n",
              "      <td>34.0</td>\n",
              "      <td>102.75</td>\n",
              "    </tr>\n",
              "  </tbody>\n",
              "</table>\n",
              "</div>\n",
              "      <button class=\"colab-df-convert\" onclick=\"convertToInteractive('df-7c992efa-d3f7-427f-b00b-61a2cb3aecd8')\"\n",
              "              title=\"Convert this dataframe to an interactive table.\"\n",
              "              style=\"display:none;\">\n",
              "        \n",
              "  <svg xmlns=\"http://www.w3.org/2000/svg\" height=\"24px\"viewBox=\"0 0 24 24\"\n",
              "       width=\"24px\">\n",
              "    <path d=\"M0 0h24v24H0V0z\" fill=\"none\"/>\n",
              "    <path d=\"M18.56 5.44l.94 2.06.94-2.06 2.06-.94-2.06-.94-.94-2.06-.94 2.06-2.06.94zm-11 1L8.5 8.5l.94-2.06 2.06-.94-2.06-.94L8.5 2.5l-.94 2.06-2.06.94zm10 10l.94 2.06.94-2.06 2.06-.94-2.06-.94-.94-2.06-.94 2.06-2.06.94z\"/><path d=\"M17.41 7.96l-1.37-1.37c-.4-.4-.92-.59-1.43-.59-.52 0-1.04.2-1.43.59L10.3 9.45l-7.72 7.72c-.78.78-.78 2.05 0 2.83L4 21.41c.39.39.9.59 1.41.59.51 0 1.02-.2 1.41-.59l7.78-7.78 2.81-2.81c.8-.78.8-2.07 0-2.86zM5.41 20L4 18.59l7.72-7.72 1.47 1.35L5.41 20z\"/>\n",
              "  </svg>\n",
              "      </button>\n",
              "      \n",
              "  <style>\n",
              "    .colab-df-container {\n",
              "      display:flex;\n",
              "      flex-wrap:wrap;\n",
              "      gap: 12px;\n",
              "    }\n",
              "\n",
              "    .colab-df-convert {\n",
              "      background-color: #E8F0FE;\n",
              "      border: none;\n",
              "      border-radius: 50%;\n",
              "      cursor: pointer;\n",
              "      display: none;\n",
              "      fill: #1967D2;\n",
              "      height: 32px;\n",
              "      padding: 0 0 0 0;\n",
              "      width: 32px;\n",
              "    }\n",
              "\n",
              "    .colab-df-convert:hover {\n",
              "      background-color: #E2EBFA;\n",
              "      box-shadow: 0px 1px 2px rgba(60, 64, 67, 0.3), 0px 1px 3px 1px rgba(60, 64, 67, 0.15);\n",
              "      fill: #174EA6;\n",
              "    }\n",
              "\n",
              "    [theme=dark] .colab-df-convert {\n",
              "      background-color: #3B4455;\n",
              "      fill: #D2E3FC;\n",
              "    }\n",
              "\n",
              "    [theme=dark] .colab-df-convert:hover {\n",
              "      background-color: #434B5C;\n",
              "      box-shadow: 0px 1px 3px 1px rgba(0, 0, 0, 0.15);\n",
              "      filter: drop-shadow(0px 1px 2px rgba(0, 0, 0, 0.3));\n",
              "      fill: #FFFFFF;\n",
              "    }\n",
              "  </style>\n",
              "\n",
              "      <script>\n",
              "        const buttonEl =\n",
              "          document.querySelector('#df-7c992efa-d3f7-427f-b00b-61a2cb3aecd8 button.colab-df-convert');\n",
              "        buttonEl.style.display =\n",
              "          google.colab.kernel.accessAllowed ? 'block' : 'none';\n",
              "\n",
              "        async function convertToInteractive(key) {\n",
              "          const element = document.querySelector('#df-7c992efa-d3f7-427f-b00b-61a2cb3aecd8');\n",
              "          const dataTable =\n",
              "            await google.colab.kernel.invokeFunction('convertToInteractive',\n",
              "                                                     [key], {});\n",
              "          if (!dataTable) return;\n",
              "\n",
              "          const docLinkHtml = 'Like what you see? Visit the ' +\n",
              "            '<a target=\"_blank\" href=https://colab.research.google.com/notebooks/data_table.ipynb>data table notebook</a>'\n",
              "            + ' to learn more about interactive tables.';\n",
              "          element.innerHTML = '';\n",
              "          dataTable['output_type'] = 'display_data';\n",
              "          await google.colab.output.renderOutput(dataTable, element);\n",
              "          const docLink = document.createElement('div');\n",
              "          docLink.innerHTML = docLinkHtml;\n",
              "          element.appendChild(docLink);\n",
              "        }\n",
              "      </script>\n",
              "    </div>\n",
              "  </div>\n",
              "  "
            ]
          },
          "metadata": {},
          "execution_count": 96
        }
      ]
    },
    {
      "cell_type": "code",
      "source": [
        "ggr_list = ['rez_esc', 'dis', 'male', 'female', \n",
        "                  'estadocivil1', 'estadocivil2', 'estadocivil3', 'estadocivil4', 'estadocivil5', 'estadocivil6', 'estadocivil7', \n",
        "                  'parentesco2', 'parentesco3', 'parentesco4', 'parentesco5', 'parentesco6', 'parentesco7', 'parentesco8', 'parentesco9', 'parentesco10', \n",
        "                  'parentesco11', 'parentesco12',\n",
        "                  'instlevel1', 'instlevel2', 'instlevel3', 'instlevel4', 'instlevel5', 'instlevel6', 'instlevel7', 'instlevel8', 'instlevel9',\n",
        "                 'epared1', 'epared2', 'epared3', 'etecho1', 'etecho2', 'etecho3', 'eviv1', 'eviv2', 'eviv3', 'refrig', 'television', 'mobilephone',\n",
        "            'area1', 'area2', 'v18q', 'edjef']\n",
        "\n",
        "\n",
        "for item in tqdm(ggr_list):\n",
        "    for function in ['count', 'sum']:\n",
        "        group_train = df_train[item].groupby(df_train['idhogar']).agg(function)\n",
        "        group_test = df_test[item].groupby(df_test['idhogar']).agg(function)\n",
        "        new_col = item + '_new1_' + function\n",
        "        agg_train[new_col] = group_train\n",
        "        agg_test[new_col] = group_test\n",
        "print('new aggregate train set has {} rows, and {} features'.format(agg_train.shape[0], agg_train.shape[1]))\n",
        "print('new aggregate test set has {} rows, and {} features'.format(agg_test.shape[0], agg_test.shape[1]))"
      ],
      "metadata": {
        "colab": {
          "base_uri": "https://localhost:8080/"
        },
        "id": "cRB0jExKkE4H",
        "outputId": "9c7847fc-658e-43ff-862a-0e290d2179d5"
      },
      "execution_count": 98,
      "outputs": [
        {
          "output_type": "stream",
          "name": "stderr",
          "text": [
            "100%|██████████| 47/47 [00:00<00:00, 53.97it/s]"
          ]
        },
        {
          "output_type": "stream",
          "name": "stdout",
          "text": [
            "new aggregate train set has 2988 rows, and 199 features\n",
            "new aggregate test set has 7352 rows, and 199 features\n"
          ]
        },
        {
          "output_type": "stream",
          "name": "stderr",
          "text": [
            "\n"
          ]
        }
      ]
    },
    {
      "cell_type": "code",
      "source": [
        "aggr_list = ['escolari', 'age', 'escolari_age', 'dependency', 'bedrooms', 'overcrowding', 'rooms', 'qmobilephone', 'v18q1']\n",
        "\n",
        "for item in tqdm(aggr_list):\n",
        "    for function in ['mean','std','min','max','sum', 'count', max_min]:\n",
        "        group_train = df_train[item].groupby(df_train['idhogar']).agg(function)\n",
        "        group_test = df_test[item].groupby(df_test['idhogar']).agg(function)\n",
        "        if i == 6:\n",
        "            new_col = item + '_new2_' + 'max_min'\n",
        "        else:\n",
        "            new_col = item + '_new2_' + function\n",
        "        agg_train[new_col] = group_train\n",
        "        agg_test[new_col] = group_test\n",
        "\n",
        "print('new aggregate train set has {} rows, and {} features'.format(agg_train.shape[0], agg_train.shape[1]))\n",
        "print('new aggregate test set has {} rows, and {} features'.format(agg_test.shape[0], agg_test.shape[1]))"
      ],
      "metadata": {
        "colab": {
          "base_uri": "https://localhost:8080/"
        },
        "id": "EIpP4WIGpHDK",
        "outputId": "29218564-e10b-4105-8492-8e5d92b40314"
      },
      "execution_count": 82,
      "outputs": [
        {
          "output_type": "stream",
          "name": "stderr",
          "text": [
            "100%|██████████| 9/9 [00:16<00:00,  1.84s/it]"
          ]
        },
        {
          "output_type": "stream",
          "name": "stdout",
          "text": [
            "new aggregate train set has 2988 rows, and 208 features\n",
            "new aggregate test set has 7352 rows, and 208 features\n"
          ]
        },
        {
          "output_type": "stream",
          "name": "stderr",
          "text": [
            "\n"
          ]
        }
      ]
    },
    {
      "cell_type": "code",
      "source": [
        "gg_test = agg_test.reset_index()\n",
        "agg_train = agg_train.reset_index()\n",
        "\n",
        "train_agg = pd.merge(df_train, agg_train, on='idhogar')\n",
        "test = pd.merge(df_test, agg_test, on='idhogar')\n",
        "\n",
        "#fill all na as 0\n",
        "train_agg.fillna(value=0, inplace=True)\n",
        "test.fillna(value=0, inplace=True)\n",
        "\n",
        "print('train shape:', train_agg.shape, 'test shape:', test.shape)"
      ],
      "metadata": {
        "colab": {
          "base_uri": "https://localhost:8080/"
        },
        "id": "s5Kiv3l8pVON",
        "outputId": "7e9c9a14-42e0-426b-9e43-48f0a414b4f2"
      },
      "execution_count": 83,
      "outputs": [
        {
          "output_type": "stream",
          "name": "stdout",
          "text": [
            "train shape: (9557, 709) test shape: (23856, 708)\n"
          ]
        }
      ]
    },
    {
      "cell_type": "code",
      "source": [
        "aggr_list = ['rez_esc', 'dis', 'male', 'female', \n",
        "                  'estadocivil1', 'estadocivil2', 'estadocivil3', 'estadocivil4', 'estadocivil5', 'estadocivil6', 'estadocivil7', \n",
        "                  'parentesco2', 'parentesco3', 'parentesco4', 'parentesco5', 'parentesco6', 'parentesco7', 'parentesco8', 'parentesco9', 'parentesco10', \n",
        "                  'parentesco11', 'parentesco12',\n",
        "                  'instlevel1', 'instlevel2', 'instlevel3', 'instlevel4', 'instlevel5', 'instlevel6', 'instlevel7', 'instlevel8', 'instlevel9',\n",
        "                 'epared1', 'epared2', 'epared3', 'etecho1', 'etecho2', 'etecho3', 'eviv1', 'eviv2', 'eviv3', 'refrig', 'television', 'mobilephone',\n",
        "            'area1', 'area2', 'v18q', 'edjef']\n",
        "    \n",
        "for lugar in ['lugar1', 'lugar2', 'lugar3', 'lugar4', 'lugar5', 'lugar6']:\n",
        "    group_train = df_train[[lugar, 'idhogar'] + aggr_list].groupby([lugar, 'idhogar']).sum().reset_index()\n",
        "    group_train.columns = [lugar, 'idhogar'] + ['new3_{}_idhogar_{}'.format(lugar, col) for col in group_train][2:]\n",
        "\n",
        "    group_test = df_test[[lugar, 'idhogar'] + aggr_list].groupby([lugar, 'idhogar']).sum().reset_index()\n",
        "    group_test.columns = [lugar, 'idhogar'] + ['new3_{}_idhogar_{}'.format(lugar, col) for col in group_test][2:]\n",
        "\n",
        "    train_agg = pd.merge(train_agg, group_train, on=[lugar, 'idhogar'])\n",
        "    test = pd.merge(test, group_test, on=[lugar, 'idhogar'])\n",
        "    \n",
        "print('train shape:', train_agg.shape, 'test shape:', test.shape)"
      ],
      "metadata": {
        "colab": {
          "base_uri": "https://localhost:8080/"
        },
        "id": "Nog1oZcJpiHO",
        "outputId": "44711cb7-eb17-43b1-8e55-dd1426a3eddc"
      },
      "execution_count": 84,
      "outputs": [
        {
          "output_type": "stream",
          "name": "stdout",
          "text": [
            "train shape: (9557, 991) test shape: (23856, 990)\n"
          ]
        }
      ]
    },
    {
      "cell_type": "code",
      "source": [
        "aggr_list = ['rez_esc', 'dis', 'male', 'female', \n",
        "                  'estadocivil1', 'estadocivil2', 'estadocivil3', 'estadocivil4', 'estadocivil5', 'estadocivil6', 'estadocivil7', \n",
        "                  'parentesco2', 'parentesco3', 'parentesco4', 'parentesco5', 'parentesco6', 'parentesco7', 'parentesco8', 'parentesco9', 'parentesco10', \n",
        "                  'parentesco11', 'parentesco12',\n",
        "                  'instlevel1', 'instlevel2', 'instlevel3', 'instlevel4', 'instlevel5', 'instlevel6', 'instlevel7', 'instlevel8', 'instlevel9',\n",
        "                 'epared1', 'epared2', 'epared3', 'etecho1', 'etecho2', 'etecho3', 'eviv1', 'eviv2', 'eviv3', 'refrig', 'television', 'mobilephone',\n",
        "            'area1', 'area2', 'v18q', 'edjef']\n",
        "    \n",
        "for lugar in ['lugar1', 'lugar2', 'lugar3', 'lugar4', 'lugar5', 'lugar6']:\n",
        "    group_train = df_train[[lugar, 'idhogar'] + aggr_list].groupby([lugar, 'idhogar']).sum().reset_index()\n",
        "    group_train.columns = [lugar, 'idhogar'] + ['new4_{}_idhogar_{}'.format(lugar, col) for col in group_train][2:]\n",
        "\n",
        "    group_test = df_test[[lugar, 'idhogar'] + aggr_list].groupby([lugar, 'idhogar']).sum().reset_index()\n",
        "    group_test.columns = [lugar, 'idhogar'] + ['new4_{}_idhogar_{}'.format(lugar, col) for col in group_test][2:]\n",
        "\n",
        "    train_agg = pd.merge(train_agg, group_train, on=[lugar, 'idhogar'])\n",
        "    test = pd.merge(test, group_test, on=[lugar, 'idhogar'])\n",
        "    \n",
        "print('train shape:', train_agg.shape, 'test shape:', test.shape)"
      ],
      "metadata": {
        "colab": {
          "base_uri": "https://localhost:8080/"
        },
        "id": "I7hBzMkLpl3v",
        "outputId": "e259b773-505d-4604-a96f-105e4f6dec5e"
      },
      "execution_count": 85,
      "outputs": [
        {
          "output_type": "stream",
          "name": "stdout",
          "text": [
            "train shape: (9557, 1273) test shape: (23856, 1272)\n"
          ]
        }
      ]
    },
    {
      "cell_type": "code",
      "source": [
        "cols_nums = ['age', 'meaneduc', 'dependency', \n",
        "             'hogar_nin', 'hogar_adul', 'hogar_mayor', 'hogar_total',\n",
        "             'bedrooms', 'overcrowding']\n",
        "\n",
        "for function in tqdm(['mean','std','min','max','sum', 'count', max_min]):\n",
        "    for lugar in ['lugar1', 'lugar2', 'lugar3', 'lugar4', 'lugar5', 'lugar6']:\n",
        "        group_train = df_train[[lugar, 'idhogar'] + aggr_list].groupby([lugar, 'idhogar']).agg(function).reset_index()\n",
        "        group_train.columns = [lugar, 'idhogar'] + ['new5_{}_idhogar_{}_{}'.format(lugar, col, function) for col in group_train][2:]\n",
        "\n",
        "        group_test = df_test[[lugar, 'idhogar'] + aggr_list].groupby([lugar, 'idhogar']).agg(function).reset_index()\n",
        "        group_test.columns = [lugar, 'idhogar'] + ['new5_{}_idhogar_{}_{}'.format(lugar, col, function) for col in group_test][2:]\n",
        "\n",
        "        train_agg = pd.merge(train_agg, group_train, on=[lugar, 'idhogar'])\n",
        "        test = pd.merge(test, group_test, on=[lugar, 'idhogar'])\n",
        "        \n",
        "print('train shape:', train_agg.shape, 'test shape:', test.shape)"
      ],
      "metadata": {
        "colab": {
          "base_uri": "https://localhost:8080/"
        },
        "id": "3sV1d1dPpoEz",
        "outputId": "f66a631b-6f01-4319-c2fc-967eced6ee5a"
      },
      "execution_count": 86,
      "outputs": [
        {
          "output_type": "stream",
          "name": "stderr",
          "text": [
            "100%|██████████| 7/7 [05:47<00:00, 49.71s/it] "
          ]
        },
        {
          "output_type": "stream",
          "name": "stdout",
          "text": [
            "train shape: (9557, 3247) test shape: (23856, 3246)\n"
          ]
        },
        {
          "output_type": "stream",
          "name": "stderr",
          "text": [
            "\n"
          ]
        }
      ]
    },
    {
      "cell_type": "markdown",
      "source": [
        "- According to data descriptions,ONLY the heads of household are used in scoring. /\n",
        "All household members are included in test + the sample submission, but only heads of households are scored."
      ],
      "metadata": {
        "id": "SmR-stsuppwp"
      }
    },
    {
      "cell_type": "code",
      "source": [
        "train = train_agg.query('parentesco1==1')"
      ],
      "metadata": {
        "id": "AhjqLRijpsn5"
      },
      "execution_count": 87,
      "outputs": []
    },
    {
      "cell_type": "code",
      "source": [
        "train['dependency'].replace(np.inf, 0, inplace=True)\n",
        "test['dependency'].replace(np.inf, 0, inplace=True)"
      ],
      "metadata": {
        "id": "wPKPNUO7ptly"
      },
      "execution_count": 88,
      "outputs": []
    },
    {
      "cell_type": "code",
      "source": [
        "submission = test[['Id']]\n",
        "\n",
        "#Remove useless feature to reduce dimension\n",
        "train.drop(columns=['idhogar','Id', 'agesq', 'hogar_adul', 'SQBescolari', 'SQBage', 'SQBhogar_total', 'SQBedjefe', 'SQBhogar_nin', 'SQBovercrowding', 'SQBdependency', 'SQBmeaned'], inplace=True)\n",
        "test.drop(columns=['idhogar','Id',  'agesq', 'hogar_adul', 'SQBescolari', 'SQBage', 'SQBhogar_total', 'SQBedjefe', 'SQBhogar_nin', 'SQBovercrowding', 'SQBdependency', 'SQBmeaned'], inplace=True)\n",
        "\n",
        "correlation = train.corr()\n",
        "correlation = correlation['Target'].sort_values(ascending=False)"
      ],
      "metadata": {
        "id": "3iqMAn4Epu4S"
      },
      "execution_count": 89,
      "outputs": []
    },
    {
      "cell_type": "code",
      "source": [
        "print('final_data size', train.shape, test.shape)"
      ],
      "metadata": {
        "colab": {
          "base_uri": "https://localhost:8080/"
        },
        "id": "gouzmQPipwNm",
        "outputId": "e0f5247f-073e-485e-ec72-88d8dc175423"
      },
      "execution_count": 90,
      "outputs": [
        {
          "output_type": "stream",
          "name": "stdout",
          "text": [
            "final_data size (2973, 3235) (23856, 3234)\n"
          ]
        }
      ]
    },
    {
      "cell_type": "code",
      "source": [
        "print(f'The most 20 positive feature: \\n{correlation.head(40)}')"
      ],
      "metadata": {
        "colab": {
          "base_uri": "https://localhost:8080/"
        },
        "id": "M13Fv4P9pxwe",
        "outputId": "816302d5-0702-4144-967f-94cbc5d5fb66"
      },
      "execution_count": 91,
      "outputs": [
        {
          "output_type": "stream",
          "name": "stdout",
          "text": [
            "The most 20 positive feature: \n",
            "Target                                1.000000\n",
            "new5_lugar2_idhogar_edjef_max         0.334254\n",
            "new5_lugar6_idhogar_edjef_max         0.334254\n",
            "new5_lugar4_idhogar_edjef_max         0.334254\n",
            "new5_lugar1_idhogar_edjef_max         0.334254\n",
            "new5_lugar5_idhogar_edjef_max         0.334254\n",
            "new5_lugar3_idhogar_edjef_max         0.334254\n",
            "new5_lugar2_idhogar_edjef_mean        0.333873\n",
            "new5_lugar5_idhogar_edjef_mean        0.333873\n",
            "new5_lugar6_idhogar_edjef_mean        0.333873\n",
            "new5_lugar1_idhogar_edjef_mean        0.333873\n",
            "new5_lugar3_idhogar_edjef_mean        0.333873\n",
            "new5_lugar4_idhogar_edjef_mean        0.333873\n",
            "edjef                                 0.333791\n",
            "new5_lugar4_idhogar_edjef_min         0.333791\n",
            "new5_lugar3_idhogar_edjef_min         0.333791\n",
            "new5_lugar1_idhogar_edjef_min         0.333791\n",
            "new5_lugar6_idhogar_edjef_min         0.333791\n",
            "new5_lugar5_idhogar_edjef_min         0.333791\n",
            "new5_lugar2_idhogar_edjef_min         0.333791\n",
            "escolari                              0.333791\n",
            "meaneduc                              0.331489\n",
            "new5_lugar3_idhogar_instlevel8_max    0.317815\n",
            "new5_lugar1_idhogar_instlevel8_max    0.317815\n",
            "new5_lugar4_idhogar_instlevel8_max    0.317815\n",
            "new5_lugar2_idhogar_instlevel8_max    0.317815\n",
            "new5_lugar6_idhogar_instlevel8_max    0.317815\n",
            "new5_lugar5_idhogar_instlevel8_max    0.317815\n",
            "phones-per-capita                     0.299026\n",
            "new5_lugar1_idhogar_instlevel8_std    0.298251\n",
            "new5_lugar6_idhogar_instlevel8_std    0.298251\n",
            "new5_lugar3_idhogar_instlevel8_std    0.298251\n",
            "new5_lugar2_idhogar_instlevel8_std    0.298251\n",
            "new5_lugar4_idhogar_instlevel8_std    0.298251\n",
            "new5_lugar5_idhogar_instlevel8_std    0.298251\n",
            "new_epared3_x_eviv3                   0.298196\n",
            "cielorazo                             0.295249\n",
            "new3_lugar4_idhogar_instlevel8        0.294277\n",
            "new4_lugar6_idhogar_instlevel8        0.294277\n",
            "new3_lugar3_idhogar_instlevel8        0.294277\n",
            "Name: Target, dtype: float64\n"
          ]
        }
      ]
    },
    {
      "cell_type": "code",
      "source": [
        "print(f'The most 20 negative feature: \\n{correlation.tail(20)}')"
      ],
      "metadata": {
        "colab": {
          "base_uri": "https://localhost:8080/"
        },
        "id": "9GSsKtL4pzGw",
        "outputId": "895c618a-1f30-498d-f81b-b19efa93cf69"
      },
      "execution_count": 92,
      "outputs": [
        {
          "output_type": "stream",
          "name": "stdout",
          "text": [
            "The most 20 negative feature: \n",
            "new5_lugar5_idhogar_television_<function max_min at 0x7effa9b91ee0>    NaN\n",
            "new5_lugar5_idhogar_mobilephone_<function max_min at 0x7effa9b91ee0>   NaN\n",
            "new5_lugar5_idhogar_area1_<function max_min at 0x7effa9b91ee0>         NaN\n",
            "new5_lugar5_idhogar_area2_<function max_min at 0x7effa9b91ee0>         NaN\n",
            "new5_lugar5_idhogar_v18q_<function max_min at 0x7effa9b91ee0>          NaN\n",
            "new5_lugar6_idhogar_epared1_<function max_min at 0x7effa9b91ee0>       NaN\n",
            "new5_lugar6_idhogar_epared2_<function max_min at 0x7effa9b91ee0>       NaN\n",
            "new5_lugar6_idhogar_epared3_<function max_min at 0x7effa9b91ee0>       NaN\n",
            "new5_lugar6_idhogar_etecho1_<function max_min at 0x7effa9b91ee0>       NaN\n",
            "new5_lugar6_idhogar_etecho2_<function max_min at 0x7effa9b91ee0>       NaN\n",
            "new5_lugar6_idhogar_etecho3_<function max_min at 0x7effa9b91ee0>       NaN\n",
            "new5_lugar6_idhogar_eviv1_<function max_min at 0x7effa9b91ee0>         NaN\n",
            "new5_lugar6_idhogar_eviv2_<function max_min at 0x7effa9b91ee0>         NaN\n",
            "new5_lugar6_idhogar_eviv3_<function max_min at 0x7effa9b91ee0>         NaN\n",
            "new5_lugar6_idhogar_refrig_<function max_min at 0x7effa9b91ee0>        NaN\n",
            "new5_lugar6_idhogar_television_<function max_min at 0x7effa9b91ee0>    NaN\n",
            "new5_lugar6_idhogar_mobilephone_<function max_min at 0x7effa9b91ee0>   NaN\n",
            "new5_lugar6_idhogar_area1_<function max_min at 0x7effa9b91ee0>         NaN\n",
            "new5_lugar6_idhogar_area2_<function max_min at 0x7effa9b91ee0>         NaN\n",
            "new5_lugar6_idhogar_v18q_<function max_min at 0x7effa9b91ee0>          NaN\n",
            "Name: Target, dtype: float64\n"
          ]
        }
      ]
    },
    {
      "cell_type": "markdown",
      "source": [
        "## 3. Feature selection using shap"
      ],
      "metadata": {
        "id": "dr83lUfep4Kj"
      }
    },
    {
      "cell_type": "code",
      "source": [],
      "metadata": {
        "id": "OfJQuAuGp0wu"
      },
      "execution_count": 92,
      "outputs": []
    }
  ]
}